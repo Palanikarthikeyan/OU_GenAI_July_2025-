{
 "cells": [
  {
   "cell_type": "code",
   "execution_count": 1,
   "id": "424ff8e4-7363-4eae-b0ea-c6a8ca0762f4",
   "metadata": {},
   "outputs": [],
   "source": [
    "import langchain_community"
   ]
  },
  {
   "cell_type": "code",
   "execution_count": null,
   "id": "b5d1156d-514d-4703-a1eb-4410e3ceacdc",
   "metadata": {},
   "outputs": [],
   "source": [
    "!pip install langchain-community \n",
    "\n",
    "OS commandline => pip install langchain-community"
   ]
  },
  {
   "cell_type": "code",
   "execution_count": 2,
   "id": "ca56ce88-daa0-4775-8463-e66ba582fccf",
   "metadata": {},
   "outputs": [
    {
     "data": {
      "text/plain": [
       "<module 'langchain_community' from 'C:\\\\Users\\\\karth\\\\AppData\\\\Roaming\\\\Python\\\\Python313\\\\site-packages\\\\langchain_community\\\\__init__.py'>"
      ]
     },
     "execution_count": 2,
     "metadata": {},
     "output_type": "execute_result"
    }
   ],
   "source": [
    "langchain_community"
   ]
  },
  {
   "cell_type": "code",
   "execution_count": 4,
   "id": "cbcd636d-b2c7-4981-a36d-fda21d70e249",
   "metadata": {},
   "outputs": [
    {
     "data": {
      "text/plain": [
       "langchain_community.document_loaders.text.TextLoader"
      ]
     },
     "execution_count": 4,
     "metadata": {},
     "output_type": "execute_result"
    }
   ],
   "source": [
    "from langchain_community.document_loaders import TextLoader\n",
    "TextLoader"
   ]
  },
  {
   "cell_type": "raw",
   "id": "13fad3ce-c772-4c6d-8c67-ca425fdbd141",
   "metadata": {},
   "source": [
    "project/ <== langchain_community\n",
    "        Sub1/\n",
    "           |__ file1.py\n",
    "        Sub2/\n",
    "           |__ fileA.py fileB.py\n",
    "        __init__.py \n",
    "\n",
    "\n",
    ">>> import os\n",
    ">>> os\n",
    "<module 'os' (frozen)>\n",
    ">>>\n",
    ">>> os.__file__\n",
    "'C:\\\\Users\\\\karth\\\\AppData\\\\Local\\\\Programs\\\\Python\\\\Python313\\\\Lib\\\\os.py'\n",
    ">>>\n",
    ">>> import requests\n",
    ">>> requests.__file__\n",
    "'C:\\\\Users\\\\karth\\\\AppData\\\\Local\\\\Programs\\\\Python\\\\Python313\\\\Lib\\\\site-packages\\\\requests\\\\__init__.py'\n",
    ">>> import openpyxl\n",
    "Traceback (most recent call last):\n",
    "  File \"<python-input-8>\", line 1, in <module>\n",
    "    import openpyxl\n",
    "ModuleNotFoundError: No module named 'openpyxl'\n",
    ">>>\n",
    ">>>\n",
    ">>> # import M1.M2.M3.Filename\n",
    ">>> # Filename.function()\n",
    ">>>\n",
    ">>> # import M1.M2.M3.Filename\n",
    ">>> # M1.M2.M3.Filename.function()\n",
    ">>>\n",
    ">>> # import M1.M2.M3.Filename as mp\n",
    ">>> # mp.function()\n",
    ">>>\n",
    ">>>\n",
    ">>> # obj = mp.classname()\n",
    ">>> #"
   ]
  },
  {
   "cell_type": "code",
   "execution_count": 5,
   "id": "b17c1fed-345a-47df-b899-4a380e4a2ddb",
   "metadata": {},
   "outputs": [
    {
     "name": "stdout",
     "output_type": "stream",
     "text": [
      "<class 'langchain_community.document_loaders.text.TextLoader'>\n"
     ]
    }
   ],
   "source": [
    "from langchain_community.document_loaders import TextLoader\n",
    "loader = TextLoader('speech.txt')\n",
    "print(type(loader))"
   ]
  },
  {
   "cell_type": "code",
   "execution_count": 6,
   "id": "dcfbea87-a288-4ba7-af73-b99c77f45f34",
   "metadata": {},
   "outputs": [
    {
     "data": {
      "text/plain": [
       "<langchain_community.document_loaders.text.TextLoader at 0x1c9004dbe00>"
      ]
     },
     "execution_count": 6,
     "metadata": {},
     "output_type": "execute_result"
    }
   ],
   "source": [
    "loader"
   ]
  },
  {
   "cell_type": "raw",
   "id": "7070676f-27ff-45d3-8dcf-b8b9da6f3b61",
   "metadata": {},
   "source": [
    "loader.load() -> text_document(meta data,Text)//list"
   ]
  },
  {
   "cell_type": "code",
   "execution_count": 7,
   "id": "34953b05-9873-405c-960f-ea32d6fd77f3",
   "metadata": {},
   "outputs": [
    {
     "data": {
      "text/plain": [
       "[Document(metadata={'source': 'speech.txt'}, page_content='The world must be made safe for democracy. Its peace must be planted upon the tested foundations of political liberty. We have no selfish ends to serve. We desire no conquest, no dominion. We seek no indemnities for ourselves, no material compensation for the sacrifices we shall freely make. We are but one of the champions of the rights of mankind. We shall be satisfied when those rights have been made as secure as the faith and the freedom of nations can make them.\\n\\nJust because we fight without rancor and without selfish object, seeking nothing for ourselves but what we shall wish to share with all free peoples, we shall, I feel confident, conduct our operations as belligerents without passion and ourselves observe with proud punctilio the principles of right and of fair play we profess to be fighting for.\\n\\nâ€¦\\n\\nIt will be all the easier for us to conduct ourselves as belligerents in a high spirit of right and fairness because we act without animus, not in enmity toward a people or with the desire to bring any injury or disadvantage upon them, but only in armed opposition to an irresponsible government which has thrown aside all considerations of humanity and of right and is running amuck. We are, let me say again, the sincere friends of the German people, and shall desire nothing so much as the early reestablishment of intimate relations of mutual advantage between usâ€”however hard it may be for them, for the time being, to believe that this is spoken from our hearts.\\n\\nWe have borne with their present government through all these bitter months because of that friendshipâ€”exercising a patience and forbearance which would otherwise have been impossible. We shall, happily, still have an opportunity to prove that friendship in our daily attitude and actions toward the millions of men and women of German birth and native sympathy who live among us and share our life, and we shall be proud to prove it toward all who are in fact loyal to their neighbors and to the government in the hour of test. They are, most of them, as true and loyal Americans as if they had never known any other fealty or allegiance. They will be prompt to stand with us in rebuking and restraining the few who may be of a different mind and purpose. If there should be disloyalty, it will be dealt with with a firm hand of stern repression; but, if it lifts its head at all, it will lift it only here and there and without countenance except from a lawless and malignant few.\\n\\nIt is a distressing and oppressive duty, gentlemen of the Congress, which I have performed in thus addressing you. There are, it may be, many months of fiery trial and sacrifice ahead of us. It is a fearful thing to lead this great peaceful people into war, into the most terrible and disastrous of all wars, civilization itself seeming to be in the balance. But the right is more precious than peace, and we shall fight for the things which we have always carried nearest our heartsâ€”for democracy, for the right of those who submit to authority to have a voice in their own governments, for the rights and liberties of small nations, for a universal dominion of right by such a concert of free peoples as shall bring peace and safety to all nations and make the world itself at last free.\\n\\nTo such a task we can dedicate our lives and our fortunes, everything that we are and everything that we have, with the pride of those who know that the day has come when America is privileged to spend her blood and her might for the principles that gave her birth and happiness and the peace which she has treasured. God helping her, she can do no other.')]"
      ]
     },
     "execution_count": 7,
     "metadata": {},
     "output_type": "execute_result"
    }
   ],
   "source": [
    "from langchain_community.document_loaders import TextLoader\n",
    "loader = TextLoader('speech.txt')\n",
    "loader.load()"
   ]
  },
  {
   "cell_type": "code",
   "execution_count": 8,
   "id": "612c8eb5-5413-495b-9ceb-4b54a1b6d6d1",
   "metadata": {},
   "outputs": [
    {
     "data": {
      "text/plain": [
       "<langchain_community.document_loaders.pdf.PyPDFLoader at 0x1c9001e4440>"
      ]
     },
     "execution_count": 8,
     "metadata": {},
     "output_type": "execute_result"
    }
   ],
   "source": [
    "from langchain_community.document_loaders import TextLoader\n",
    "from langchain_community.document_loaders import PyPDFLoader\n",
    "PyPDFLoader('attention.pdf')"
   ]
  },
  {
   "cell_type": "code",
   "execution_count": 9,
   "id": "3aa144a1-471f-4cc5-ae51-0095d4ad3ffe",
   "metadata": {},
   "outputs": [
    {
     "ename": "ImportError",
     "evalue": "`pypdf` package not found, please install it with `pip install pypdf`",
     "output_type": "error",
     "traceback": [
      "\u001b[1;31m---------------------------------------------------------------------------\u001b[0m",
      "\u001b[1;31mModuleNotFoundError\u001b[0m                       Traceback (most recent call last)",
      "File \u001b[1;32m~\\AppData\\Roaming\\Python\\Python313\\site-packages\\langchain_community\\document_loaders\\parsers\\pdf.py:359\u001b[0m, in \u001b[0;36mPyPDFParser.lazy_parse\u001b[1;34m(self, blob)\u001b[0m\n\u001b[0;32m    358\u001b[0m \u001b[38;5;28;01mtry\u001b[39;00m:\n\u001b[1;32m--> 359\u001b[0m     \u001b[38;5;28;01mimport\u001b[39;00m\u001b[38;5;250m \u001b[39m\u001b[38;5;21;01mpypdf\u001b[39;00m\n\u001b[0;32m    360\u001b[0m \u001b[38;5;28;01mexcept\u001b[39;00m \u001b[38;5;167;01mImportError\u001b[39;00m:\n",
      "\u001b[1;31mModuleNotFoundError\u001b[0m: No module named 'pypdf'",
      "\nDuring handling of the above exception, another exception occurred:\n",
      "\u001b[1;31mImportError\u001b[0m                               Traceback (most recent call last)",
      "Cell \u001b[1;32mIn[9], line 2\u001b[0m\n\u001b[0;32m      1\u001b[0m pdf_loader \u001b[38;5;241m=\u001b[39m PyPDFLoader(\u001b[38;5;124m'\u001b[39m\u001b[38;5;124mattention.pdf\u001b[39m\u001b[38;5;124m'\u001b[39m)\n\u001b[1;32m----> 2\u001b[0m pdf_loader\u001b[38;5;241m.\u001b[39mload()\n",
      "File \u001b[1;32m~\\AppData\\Roaming\\Python\\Python313\\site-packages\\langchain_core\\document_loaders\\base.py:32\u001b[0m, in \u001b[0;36mBaseLoader.load\u001b[1;34m(self)\u001b[0m\n\u001b[0;32m     30\u001b[0m \u001b[38;5;28;01mdef\u001b[39;00m\u001b[38;5;250m \u001b[39m\u001b[38;5;21mload\u001b[39m(\u001b[38;5;28mself\u001b[39m) \u001b[38;5;241m-\u001b[39m\u001b[38;5;241m>\u001b[39m \u001b[38;5;28mlist\u001b[39m[Document]:\n\u001b[0;32m     31\u001b[0m \u001b[38;5;250m    \u001b[39m\u001b[38;5;124;03m\"\"\"Load data into Document objects.\"\"\"\u001b[39;00m\n\u001b[1;32m---> 32\u001b[0m     \u001b[38;5;28;01mreturn\u001b[39;00m \u001b[38;5;28mlist\u001b[39m(\u001b[38;5;28mself\u001b[39m\u001b[38;5;241m.\u001b[39mlazy_load())\n",
      "File \u001b[1;32m~\\AppData\\Roaming\\Python\\Python313\\site-packages\\langchain_community\\document_loaders\\pdf.py:305\u001b[0m, in \u001b[0;36mPyPDFLoader.lazy_load\u001b[1;34m(self)\u001b[0m\n\u001b[0;32m    303\u001b[0m \u001b[38;5;28;01melse\u001b[39;00m:\n\u001b[0;32m    304\u001b[0m     blob \u001b[38;5;241m=\u001b[39m Blob\u001b[38;5;241m.\u001b[39mfrom_path(\u001b[38;5;28mself\u001b[39m\u001b[38;5;241m.\u001b[39mfile_path)\n\u001b[1;32m--> 305\u001b[0m \u001b[38;5;28;01myield from\u001b[39;00m \u001b[38;5;28mself\u001b[39m\u001b[38;5;241m.\u001b[39mparser\u001b[38;5;241m.\u001b[39mlazy_parse(blob)\n",
      "File \u001b[1;32m~\\AppData\\Roaming\\Python\\Python313\\site-packages\\langchain_community\\document_loaders\\parsers\\pdf.py:361\u001b[0m, in \u001b[0;36mPyPDFParser.lazy_parse\u001b[1;34m(self, blob)\u001b[0m\n\u001b[0;32m    359\u001b[0m     \u001b[38;5;28;01mimport\u001b[39;00m\u001b[38;5;250m \u001b[39m\u001b[38;5;21;01mpypdf\u001b[39;00m\n\u001b[0;32m    360\u001b[0m \u001b[38;5;28;01mexcept\u001b[39;00m \u001b[38;5;167;01mImportError\u001b[39;00m:\n\u001b[1;32m--> 361\u001b[0m     \u001b[38;5;28;01mraise\u001b[39;00m \u001b[38;5;167;01mImportError\u001b[39;00m(\n\u001b[0;32m    362\u001b[0m         \u001b[38;5;124m\"\u001b[39m\u001b[38;5;124m`pypdf` package not found, please install it with `pip install pypdf`\u001b[39m\u001b[38;5;124m\"\u001b[39m\n\u001b[0;32m    363\u001b[0m     )\n\u001b[0;32m    365\u001b[0m \u001b[38;5;28;01mdef\u001b[39;00m\u001b[38;5;250m \u001b[39m\u001b[38;5;21m_extract_text_from_page\u001b[39m(page: pypdf\u001b[38;5;241m.\u001b[39mPageObject) \u001b[38;5;241m-\u001b[39m\u001b[38;5;241m>\u001b[39m \u001b[38;5;28mstr\u001b[39m:\n\u001b[0;32m    366\u001b[0m \u001b[38;5;250m    \u001b[39m\u001b[38;5;124;03m\"\"\"\u001b[39;00m\n\u001b[0;32m    367\u001b[0m \u001b[38;5;124;03m    Extract text from image given the version of pypdf.\u001b[39;00m\n\u001b[0;32m    368\u001b[0m \n\u001b[1;32m   (...)\u001b[0m\n\u001b[0;32m    373\u001b[0m \u001b[38;5;124;03m        str: The extracted text.\u001b[39;00m\n\u001b[0;32m    374\u001b[0m \u001b[38;5;124;03m    \"\"\"\u001b[39;00m\n",
      "\u001b[1;31mImportError\u001b[0m: `pypdf` package not found, please install it with `pip install pypdf`"
     ]
    }
   ],
   "source": [
    "pdf_loader = PyPDFLoader('attention.pdf')\n",
    "pdf_loader.load()"
   ]
  },
  {
   "cell_type": "code",
   "execution_count": 11,
   "id": "a1b2ef50-1b4d-441c-8758-8b75651d9129",
   "metadata": {},
   "outputs": [
    {
     "name": "stdout",
     "output_type": "stream",
     "text": [
      "Defaulting to user installation because normal site-packages is not writeable\n",
      "Collecting pypdf\n",
      "  Downloading pypdf-5.9.0-py3-none-any.whl.metadata (7.1 kB)\n",
      "Downloading pypdf-5.9.0-py3-none-any.whl (313 kB)\n",
      "Installing collected packages: pypdf\n",
      "Successfully installed pypdf-5.9.0\n",
      "Note: you may need to restart the kernel to use updated packages.\n"
     ]
    }
   ],
   "source": [
    "pip install pypdf"
   ]
  },
  {
   "cell_type": "code",
   "execution_count": 13,
   "id": "b7afd13a-d388-4897-a293-7e056906e5f9",
   "metadata": {},
   "outputs": [
    {
     "name": "stdout",
     "output_type": "stream",
     "text": [
      "<class 'list'> 15\n"
     ]
    }
   ],
   "source": [
    "pdf_loader = PyPDFLoader('attention.pdf')\n",
    "docs = pdf_loader.load()\n",
    "print(type(docs),len(docs))"
   ]
  },
  {
   "cell_type": "code",
   "execution_count": null,
   "id": "59aa1ef1-8b72-4f01-a58f-2ce134e14f1d",
   "metadata": {},
   "outputs": [],
   "source": [
    "        Requests \n",
    "Client ------------->webserver---------->.....\n",
    "            -----------<--------------\n",
    "              1. page response <html>...{{data}} ..</html>    # webpage html\n",
    "              2. data response - there is no <html>..</html> # application-json data"
   ]
  },
  {
   "cell_type": "code",
   "execution_count": 17,
   "id": "64e5879a-3ba1-43cf-9d21-f6a73e198fae",
   "metadata": {},
   "outputs": [
    {
     "data": {
      "text/plain": [
       "<Response [200]>"
      ]
     },
     "execution_count": 17,
     "metadata": {},
     "output_type": "execute_result"
    }
   ],
   "source": [
    "import requests\n",
    "requests.get('https://www.google.com')"
   ]
  },
  {
   "cell_type": "code",
   "execution_count": 18,
   "id": "d89494ac-47c3-44e4-ab6a-ca07195569e9",
   "metadata": {},
   "outputs": [
    {
     "data": {
      "text/plain": [
       "{'Date': 'Tue, 29 Jul 2025 05:23:31 GMT', 'Expires': '-1', 'Cache-Control': 'private, max-age=0', 'Content-Type': 'text/html; charset=ISO-8859-1', 'Content-Security-Policy-Report-Only': \"object-src 'none';base-uri 'self';script-src 'nonce-o0WOfC5pg0FcALXeoU5UuQ' 'strict-dynamic' 'report-sample' 'unsafe-eval' 'unsafe-inline' https: http:;report-uri https://csp.withgoogle.com/csp/gws/other-hp\", 'Accept-CH': 'Sec-CH-Prefers-Color-Scheme', 'P3P': 'CP=\"This is not a P3P policy! See g.co/p3phelp for more info.\"', 'Content-Encoding': 'gzip', 'Server': 'gws', 'X-XSS-Protection': '0', 'X-Frame-Options': 'SAMEORIGIN', 'Set-Cookie': 'AEC=AVh_V2gU5Euw3ZMZyDxcn8AxPsWC-7gHqumO3S0dQ7vG5uBBNMQZIArAP1I; expires=Sun, 25-Jan-2026 05:23:31 GMT; path=/; domain=.google.com; Secure; HttpOnly; SameSite=lax, NID=525=kT61-wAehBiMDGyLqcD7rzqXLNMjICxIJhFfaTVRY-ozwZku48XdSA4RmP5JgJft40hysYNIYvKinoyyudnzwRCY8x2kokyGa5J5fYqbiquz6BYJyOjgYfVSj34f_doz_JuV9WrAZbhVUeZLmttpnBtsF9jukkNKmhrkjNfZS0E51DZM1GsecF59iXuSe7qJi5-nWJYOnmg0WPv5ww; expires=Wed, 28-Jan-2026 05:23:31 GMT; path=/; domain=.google.com; HttpOnly', 'Alt-Svc': 'h3=\":443\"; ma=2592000,h3-29=\":443\"; ma=2592000', 'Transfer-Encoding': 'chunked'}"
      ]
     },
     "execution_count": 18,
     "metadata": {},
     "output_type": "execute_result"
    }
   ],
   "source": [
    "r = requests.get('https://www.google.com')\n",
    "r.headers"
   ]
  },
  {
   "cell_type": "code",
   "execution_count": 19,
   "id": "8c5002f1-56d9-4a81-9541-6ecc06675b02",
   "metadata": {},
   "outputs": [
    {
     "data": {
      "text/plain": [
       "{'Date': 'Tue, 29 Jul 2025 05:26:26 GMT', 'Content-Type': 'application/json; charset=utf-8', 'Cache-Control': 'public, max-age=60, s-maxage=60', 'Vary': 'Accept,Accept-Encoding, Accept, X-Requested-With', 'ETag': 'W/\"61f25e2a55611f7eaf75a20ed5fe501245c5af99bc383854f5442975318fad26\"', 'X-GitHub-Media-Type': 'github.v3; format=json', 'x-github-api-version-selected': '2022-11-28', 'Access-Control-Expose-Headers': 'ETag, Link, Location, Retry-After, X-GitHub-OTP, X-RateLimit-Limit, X-RateLimit-Remaining, X-RateLimit-Used, X-RateLimit-Resource, X-RateLimit-Reset, X-OAuth-Scopes, X-Accepted-OAuth-Scopes, X-Poll-Interval, X-GitHub-Media-Type, X-GitHub-SSO, X-GitHub-Request-Id, Deprecation, Sunset', 'Access-Control-Allow-Origin': '*', 'Strict-Transport-Security': 'max-age=31536000; includeSubdomains; preload', 'X-Frame-Options': 'deny', 'X-Content-Type-Options': 'nosniff', 'X-XSS-Protection': '0', 'Referrer-Policy': 'origin-when-cross-origin, strict-origin-when-cross-origin', 'Content-Security-Policy': \"default-src 'none'\", 'Content-Encoding': 'gzip', 'Server': 'github.com', 'Accept-Ranges': 'bytes', 'X-RateLimit-Limit': '60', 'X-RateLimit-Remaining': '45', 'X-RateLimit-Reset': '1753767159', 'X-RateLimit-Resource': 'core', 'X-RateLimit-Used': '15', 'Content-Length': '1008', 'X-GitHub-Request-Id': '7199:316C0E:2C5F72:3BFC65:68885B82'}"
      ]
     },
     "execution_count": 19,
     "metadata": {},
     "output_type": "execute_result"
    }
   ],
   "source": [
    "r = requests.get('https://api.github.com/users/hadley/orgs')\n",
    "r.headers"
   ]
  },
  {
   "cell_type": "code",
   "execution_count": 20,
   "id": "7e614f96-4d91-4620-87d5-4186587f3b1f",
   "metadata": {},
   "outputs": [
    {
     "data": {
      "text/plain": [
       "'text/html; charset=ISO-8859-1'"
      ]
     },
     "execution_count": 20,
     "metadata": {},
     "output_type": "execute_result"
    }
   ],
   "source": [
    "r = requests.get('https://www.google.com')\n",
    "r.headers['Content-Type']"
   ]
  },
  {
   "cell_type": "code",
   "execution_count": 21,
   "id": "e3c92954-ddf6-4848-a63a-57f8e51c2c6d",
   "metadata": {},
   "outputs": [
    {
     "name": "stdout",
     "output_type": "stream",
     "text": [
      "<class 'str'> 19964\n"
     ]
    }
   ],
   "source": [
    "google_page = r.text \n",
    "print(type(google_page),len(google_page))"
   ]
  },
  {
   "cell_type": "code",
   "execution_count": 23,
   "id": "d187a13c-f478-4b93-afef-13b26fc5b1c7",
   "metadata": {},
   "outputs": [],
   "source": [
    "with open('test1.html','w') as wobj:\n",
    "    wobj.write(google_page)"
   ]
  },
  {
   "cell_type": "code",
   "execution_count": 24,
   "id": "81cb2b45-9544-45f9-8e75-843e00a672d2",
   "metadata": {},
   "outputs": [
    {
     "data": {
      "text/plain": [
       "'application/json; charset=utf-8'"
      ]
     },
     "execution_count": 24,
     "metadata": {},
     "output_type": "execute_result"
    }
   ],
   "source": [
    "r = requests.get('https://api.github.com/users/hadley/orgs')\n",
    "r.headers['Content-Type']"
   ]
  },
  {
   "cell_type": "code",
   "execution_count": 26,
   "id": "5b31ace5-bad2-47f8-b400-53600de5ec79",
   "metadata": {},
   "outputs": [
    {
     "name": "stdout",
     "output_type": "stream",
     "text": [
      "<class 'list'> <class 'dict'>\n"
     ]
    }
   ],
   "source": [
    "jd_data = r.text\n",
    "import json\n",
    "python_data = json.loads(jd_data)\n",
    "print(type(python_data),type(python_data[0]))"
   ]
  },
  {
   "cell_type": "code",
   "execution_count": 28,
   "id": "3dd15ed5-098e-49f9-af27-bda4923eed9e",
   "metadata": {},
   "outputs": [
    {
     "name": "stdout",
     "output_type": "stream",
     "text": [
      "<class 'list'> <class 'dict'>\n"
     ]
    }
   ],
   "source": [
    "res_data = r.json()\n",
    "print(type(res_data),type(res_data[0]))"
   ]
  },
  {
   "cell_type": "code",
   "execution_count": 35,
   "id": "38dd8574-20f8-40ca-8b22-4932e10f33e1",
   "metadata": {},
   "outputs": [],
   "source": [
    "# download webpage \n",
    "r = requests.get('https://www.google.com')\n",
    "google_page = r.text"
   ]
  },
  {
   "cell_type": "code",
   "execution_count": 36,
   "id": "ff8a9023-5a6f-4a33-b09b-5b33703d0e71",
   "metadata": {},
   "outputs": [],
   "source": [
    "import bs4 # webscraping"
   ]
  },
  {
   "cell_type": "code",
   "execution_count": 38,
   "id": "011fc700-ed48-4d5c-877b-0dacefe723d0",
   "metadata": {},
   "outputs": [
    {
     "data": {
      "text/plain": [
       "<title>Google</title>"
      ]
     },
     "execution_count": 38,
     "metadata": {},
     "output_type": "execute_result"
    }
   ],
   "source": [
    "soup_obj = bs4.BeautifulSoup(google_page)\n",
    "soup_obj.title"
   ]
  },
  {
   "cell_type": "code",
   "execution_count": 39,
   "id": "d676b99c-afc3-49bd-b19c-a4a9ccd3da18",
   "metadata": {},
   "outputs": [
    {
     "data": {
      "text/plain": [
       "'title'"
      ]
     },
     "execution_count": 39,
     "metadata": {},
     "output_type": "execute_result"
    }
   ],
   "source": [
    "soup_obj.title.name"
   ]
  },
  {
   "cell_type": "code",
   "execution_count": 41,
   "id": "185e37dd-53cc-4cd8-9fcf-143025de0e2f",
   "metadata": {},
   "outputs": [
    {
     "data": {
      "text/plain": [
       "<title>Google</title>"
      ]
     },
     "execution_count": 41,
     "metadata": {},
     "output_type": "execute_result"
    }
   ],
   "source": [
    "soup_obj.find('title')"
   ]
  },
  {
   "cell_type": "code",
   "execution_count": 42,
   "id": "84ace06a-15e1-45d9-8668-cbf54248f2e5",
   "metadata": {},
   "outputs": [
    {
     "data": {
      "text/plain": [
       "<p style=\"font-size:8pt;color:#636363\">© 2025 - <a href=\"/intl/en/policies/privacy/\">Privacy</a> - <a href=\"/intl/en/policies/terms/\">Terms</a></p>"
      ]
     },
     "execution_count": 42,
     "metadata": {},
     "output_type": "execute_result"
    }
   ],
   "source": [
    "soup_obj.find('p')"
   ]
  },
  {
   "cell_type": "code",
   "execution_count": 43,
   "id": "6e1b7407-d856-4b45-bbe5-1c3c40b7ff6c",
   "metadata": {},
   "outputs": [
    {
     "data": {
      "text/plain": [
       "'font-size:8pt;color:#636363'"
      ]
     },
     "execution_count": 43,
     "metadata": {},
     "output_type": "execute_result"
    }
   ],
   "source": [
    "soup_obj.find('p')['style']"
   ]
  },
  {
   "cell_type": "code",
   "execution_count": 45,
   "id": "444bbc22-c080-4120-8e5b-47cf46de1c55",
   "metadata": {},
   "outputs": [
    {
     "data": {
      "text/plain": [
       "'© 2025 - Privacy - Terms'"
      ]
     },
     "execution_count": 45,
     "metadata": {},
     "output_type": "execute_result"
    }
   ],
   "source": [
    "soup_obj.find('p').text"
   ]
  },
  {
   "cell_type": "code",
   "execution_count": 46,
   "id": "53e73954-1137-4579-9105-a8ec442a189c",
   "metadata": {},
   "outputs": [
    {
     "name": "stderr",
     "output_type": "stream",
     "text": [
      "USER_AGENT environment variable not set, consider setting it to identify your requests.\n"
     ]
    }
   ],
   "source": [
    "from langchain_community.document_loaders import WebBaseLoader"
   ]
  },
  {
   "cell_type": "code",
   "execution_count": 47,
   "id": "9ed23753-2bd6-417b-af9d-7f0cdabf102a",
   "metadata": {},
   "outputs": [
    {
     "data": {
      "text/plain": [
       "<langchain_community.document_loaders.web_base.WebBaseLoader at 0x1c90374a7b0>"
      ]
     },
     "execution_count": 47,
     "metadata": {},
     "output_type": "execute_result"
    }
   ],
   "source": [
    "WebBaseLoader(web_path=('https://www.google.com'))"
   ]
  },
  {
   "cell_type": "code",
   "execution_count": 48,
   "id": "d344a51a-3999-4295-902d-81b7825afef4",
   "metadata": {},
   "outputs": [
    {
     "data": {
      "text/plain": [
       "[Document(metadata={'source': 'https://www.google.com', 'title': 'Google', 'language': 'en-IN'}, page_content='GoogleSearch Images Maps Play YouTube News Gmail Drive More »Web History | Settings | Sign in\\xa0Advanced searchGoogle offered in:  हिन्दी বাংলা తెలుగు मराठी தமிழ் ગુજરાતી ಕನ್ನಡ മലയാളം ਪੰਜਾਬੀ AdvertisingBusiness SolutionsAbout GoogleGoogle.co.in© 2025 - Privacy - Terms')]"
      ]
     },
     "execution_count": 48,
     "metadata": {},
     "output_type": "execute_result"
    }
   ],
   "source": [
    "from langchain_community.document_loaders import WebBaseLoader\n",
    "loader = WebBaseLoader(web_path=('https://www.google.com'))\n",
    "loader.load()"
   ]
  },
  {
   "cell_type": "code",
   "execution_count": null,
   "id": "391cdb4d-c22c-44d8-b3bf-f69347f2a936",
   "metadata": {},
   "outputs": [],
   "source": []
  },
  {
   "cell_type": "code",
   "execution_count": null,
   "id": "63b30001-9801-4b5a-9bcc-146152d6d3b8",
   "metadata": {},
   "outputs": [],
   "source": []
  }
 ],
 "metadata": {
  "kernelspec": {
   "display_name": "Python [conda env:base] *",
   "language": "python",
   "name": "conda-base-py"
  },
  "language_info": {
   "codemirror_mode": {
    "name": "ipython",
    "version": 3
   },
   "file_extension": ".py",
   "mimetype": "text/x-python",
   "name": "python",
   "nbconvert_exporter": "python",
   "pygments_lexer": "ipython3",
   "version": "3.13.5"
  }
 },
 "nbformat": 4,
 "nbformat_minor": 5
}
