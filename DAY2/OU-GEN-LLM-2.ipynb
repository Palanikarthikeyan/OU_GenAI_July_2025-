{
 "cells": [
  {
   "cell_type": "code",
   "execution_count": 1,
   "id": "424ff8e4-7363-4eae-b0ea-c6a8ca0762f4",
   "metadata": {},
   "outputs": [],
   "source": [
    "import langchain_community"
   ]
  },
  {
   "cell_type": "code",
   "execution_count": null,
   "id": "b5d1156d-514d-4703-a1eb-4410e3ceacdc",
   "metadata": {},
   "outputs": [],
   "source": [
    "!pip install langchain-community \n",
    "\n",
    "OS commandline => pip install langchain-community"
   ]
  },
  {
   "cell_type": "code",
   "execution_count": 2,
   "id": "ca56ce88-daa0-4775-8463-e66ba582fccf",
   "metadata": {},
   "outputs": [
    {
     "data": {
      "text/plain": [
       "<module 'langchain_community' from 'C:\\\\Users\\\\karth\\\\AppData\\\\Roaming\\\\Python\\\\Python313\\\\site-packages\\\\langchain_community\\\\__init__.py'>"
      ]
     },
     "execution_count": 2,
     "metadata": {},
     "output_type": "execute_result"
    }
   ],
   "source": [
    "langchain_community"
   ]
  },
  {
   "cell_type": "code",
   "execution_count": 4,
   "id": "cbcd636d-b2c7-4981-a36d-fda21d70e249",
   "metadata": {},
   "outputs": [
    {
     "data": {
      "text/plain": [
       "langchain_community.document_loaders.text.TextLoader"
      ]
     },
     "execution_count": 4,
     "metadata": {},
     "output_type": "execute_result"
    }
   ],
   "source": [
    "from langchain_community.document_loaders import TextLoader\n",
    "TextLoader"
   ]
  },
  {
   "cell_type": "raw",
   "id": "13fad3ce-c772-4c6d-8c67-ca425fdbd141",
   "metadata": {},
   "source": [
    "project/ <== langchain_community\n",
    "        Sub1/\n",
    "           |__ file1.py\n",
    "        Sub2/\n",
    "           |__ fileA.py fileB.py\n",
    "        __init__.py \n",
    "\n",
    "\n",
    ">>> import os\n",
    ">>> os\n",
    "<module 'os' (frozen)>\n",
    ">>>\n",
    ">>> os.__file__\n",
    "'C:\\\\Users\\\\karth\\\\AppData\\\\Local\\\\Programs\\\\Python\\\\Python313\\\\Lib\\\\os.py'\n",
    ">>>\n",
    ">>> import requests\n",
    ">>> requests.__file__\n",
    "'C:\\\\Users\\\\karth\\\\AppData\\\\Local\\\\Programs\\\\Python\\\\Python313\\\\Lib\\\\site-packages\\\\requests\\\\__init__.py'\n",
    ">>> import openpyxl\n",
    "Traceback (most recent call last):\n",
    "  File \"<python-input-8>\", line 1, in <module>\n",
    "    import openpyxl\n",
    "ModuleNotFoundError: No module named 'openpyxl'\n",
    ">>>\n",
    ">>>\n",
    ">>> # import M1.M2.M3.Filename\n",
    ">>> # Filename.function()\n",
    ">>>\n",
    ">>> # import M1.M2.M3.Filename\n",
    ">>> # M1.M2.M3.Filename.function()\n",
    ">>>\n",
    ">>> # import M1.M2.M3.Filename as mp\n",
    ">>> # mp.function()\n",
    ">>>\n",
    ">>>\n",
    ">>> # obj = mp.classname()\n",
    ">>> #"
   ]
  },
  {
   "cell_type": "code",
   "execution_count": 5,
   "id": "b17c1fed-345a-47df-b899-4a380e4a2ddb",
   "metadata": {},
   "outputs": [
    {
     "name": "stdout",
     "output_type": "stream",
     "text": [
      "<class 'langchain_community.document_loaders.text.TextLoader'>\n"
     ]
    }
   ],
   "source": [
    "from langchain_community.document_loaders import TextLoader\n",
    "loader = TextLoader('speech.txt')\n",
    "print(type(loader))"
   ]
  },
  {
   "cell_type": "code",
   "execution_count": 6,
   "id": "dcfbea87-a288-4ba7-af73-b99c77f45f34",
   "metadata": {},
   "outputs": [
    {
     "data": {
      "text/plain": [
       "<langchain_community.document_loaders.text.TextLoader at 0x1c9004dbe00>"
      ]
     },
     "execution_count": 6,
     "metadata": {},
     "output_type": "execute_result"
    }
   ],
   "source": [
    "loader"
   ]
  },
  {
   "cell_type": "raw",
   "id": "7070676f-27ff-45d3-8dcf-b8b9da6f3b61",
   "metadata": {},
   "source": [
    "loader.load() -> text_document(meta data,Text)//list"
   ]
  },
  {
   "cell_type": "code",
   "execution_count": 7,
   "id": "34953b05-9873-405c-960f-ea32d6fd77f3",
   "metadata": {},
   "outputs": [
    {
     "data": {
      "text/plain": [
       "[Document(metadata={'source': 'speech.txt'}, page_content='The world must be made safe for democracy. Its peace must be planted upon the tested foundations of political liberty. We have no selfish ends to serve. We desire no conquest, no dominion. We seek no indemnities for ourselves, no material compensation for the sacrifices we shall freely make. We are but one of the champions of the rights of mankind. We shall be satisfied when those rights have been made as secure as the faith and the freedom of nations can make them.\\n\\nJust because we fight without rancor and without selfish object, seeking nothing for ourselves but what we shall wish to share with all free peoples, we shall, I feel confident, conduct our operations as belligerents without passion and ourselves observe with proud punctilio the principles of right and of fair play we profess to be fighting for.\\n\\nâ€¦\\n\\nIt will be all the easier for us to conduct ourselves as belligerents in a high spirit of right and fairness because we act without animus, not in enmity toward a people or with the desire to bring any injury or disadvantage upon them, but only in armed opposition to an irresponsible government which has thrown aside all considerations of humanity and of right and is running amuck. We are, let me say again, the sincere friends of the German people, and shall desire nothing so much as the early reestablishment of intimate relations of mutual advantage between usâ€”however hard it may be for them, for the time being, to believe that this is spoken from our hearts.\\n\\nWe have borne with their present government through all these bitter months because of that friendshipâ€”exercising a patience and forbearance which would otherwise have been impossible. We shall, happily, still have an opportunity to prove that friendship in our daily attitude and actions toward the millions of men and women of German birth and native sympathy who live among us and share our life, and we shall be proud to prove it toward all who are in fact loyal to their neighbors and to the government in the hour of test. They are, most of them, as true and loyal Americans as if they had never known any other fealty or allegiance. They will be prompt to stand with us in rebuking and restraining the few who may be of a different mind and purpose. If there should be disloyalty, it will be dealt with with a firm hand of stern repression; but, if it lifts its head at all, it will lift it only here and there and without countenance except from a lawless and malignant few.\\n\\nIt is a distressing and oppressive duty, gentlemen of the Congress, which I have performed in thus addressing you. There are, it may be, many months of fiery trial and sacrifice ahead of us. It is a fearful thing to lead this great peaceful people into war, into the most terrible and disastrous of all wars, civilization itself seeming to be in the balance. But the right is more precious than peace, and we shall fight for the things which we have always carried nearest our heartsâ€”for democracy, for the right of those who submit to authority to have a voice in their own governments, for the rights and liberties of small nations, for a universal dominion of right by such a concert of free peoples as shall bring peace and safety to all nations and make the world itself at last free.\\n\\nTo such a task we can dedicate our lives and our fortunes, everything that we are and everything that we have, with the pride of those who know that the day has come when America is privileged to spend her blood and her might for the principles that gave her birth and happiness and the peace which she has treasured. God helping her, she can do no other.')]"
      ]
     },
     "execution_count": 7,
     "metadata": {},
     "output_type": "execute_result"
    }
   ],
   "source": [
    "from langchain_community.document_loaders import TextLoader\n",
    "loader = TextLoader('speech.txt')\n",
    "loader.load()"
   ]
  },
  {
   "cell_type": "code",
   "execution_count": 8,
   "id": "612c8eb5-5413-495b-9ceb-4b54a1b6d6d1",
   "metadata": {},
   "outputs": [
    {
     "data": {
      "text/plain": [
       "<langchain_community.document_loaders.pdf.PyPDFLoader at 0x1c9001e4440>"
      ]
     },
     "execution_count": 8,
     "metadata": {},
     "output_type": "execute_result"
    }
   ],
   "source": [
    "from langchain_community.document_loaders import TextLoader\n",
    "from langchain_community.document_loaders import PyPDFLoader\n",
    "PyPDFLoader('attention.pdf')"
   ]
  },
  {
   "cell_type": "code",
   "execution_count": 9,
   "id": "3aa144a1-471f-4cc5-ae51-0095d4ad3ffe",
   "metadata": {},
   "outputs": [
    {
     "ename": "ImportError",
     "evalue": "`pypdf` package not found, please install it with `pip install pypdf`",
     "output_type": "error",
     "traceback": [
      "\u001b[1;31m---------------------------------------------------------------------------\u001b[0m",
      "\u001b[1;31mModuleNotFoundError\u001b[0m                       Traceback (most recent call last)",
      "File \u001b[1;32m~\\AppData\\Roaming\\Python\\Python313\\site-packages\\langchain_community\\document_loaders\\parsers\\pdf.py:359\u001b[0m, in \u001b[0;36mPyPDFParser.lazy_parse\u001b[1;34m(self, blob)\u001b[0m\n\u001b[0;32m    358\u001b[0m \u001b[38;5;28;01mtry\u001b[39;00m:\n\u001b[1;32m--> 359\u001b[0m     \u001b[38;5;28;01mimport\u001b[39;00m\u001b[38;5;250m \u001b[39m\u001b[38;5;21;01mpypdf\u001b[39;00m\n\u001b[0;32m    360\u001b[0m \u001b[38;5;28;01mexcept\u001b[39;00m \u001b[38;5;167;01mImportError\u001b[39;00m:\n",
      "\u001b[1;31mModuleNotFoundError\u001b[0m: No module named 'pypdf'",
      "\nDuring handling of the above exception, another exception occurred:\n",
      "\u001b[1;31mImportError\u001b[0m                               Traceback (most recent call last)",
      "Cell \u001b[1;32mIn[9], line 2\u001b[0m\n\u001b[0;32m      1\u001b[0m pdf_loader \u001b[38;5;241m=\u001b[39m PyPDFLoader(\u001b[38;5;124m'\u001b[39m\u001b[38;5;124mattention.pdf\u001b[39m\u001b[38;5;124m'\u001b[39m)\n\u001b[1;32m----> 2\u001b[0m pdf_loader\u001b[38;5;241m.\u001b[39mload()\n",
      "File \u001b[1;32m~\\AppData\\Roaming\\Python\\Python313\\site-packages\\langchain_core\\document_loaders\\base.py:32\u001b[0m, in \u001b[0;36mBaseLoader.load\u001b[1;34m(self)\u001b[0m\n\u001b[0;32m     30\u001b[0m \u001b[38;5;28;01mdef\u001b[39;00m\u001b[38;5;250m \u001b[39m\u001b[38;5;21mload\u001b[39m(\u001b[38;5;28mself\u001b[39m) \u001b[38;5;241m-\u001b[39m\u001b[38;5;241m>\u001b[39m \u001b[38;5;28mlist\u001b[39m[Document]:\n\u001b[0;32m     31\u001b[0m \u001b[38;5;250m    \u001b[39m\u001b[38;5;124;03m\"\"\"Load data into Document objects.\"\"\"\u001b[39;00m\n\u001b[1;32m---> 32\u001b[0m     \u001b[38;5;28;01mreturn\u001b[39;00m \u001b[38;5;28mlist\u001b[39m(\u001b[38;5;28mself\u001b[39m\u001b[38;5;241m.\u001b[39mlazy_load())\n",
      "File \u001b[1;32m~\\AppData\\Roaming\\Python\\Python313\\site-packages\\langchain_community\\document_loaders\\pdf.py:305\u001b[0m, in \u001b[0;36mPyPDFLoader.lazy_load\u001b[1;34m(self)\u001b[0m\n\u001b[0;32m    303\u001b[0m \u001b[38;5;28;01melse\u001b[39;00m:\n\u001b[0;32m    304\u001b[0m     blob \u001b[38;5;241m=\u001b[39m Blob\u001b[38;5;241m.\u001b[39mfrom_path(\u001b[38;5;28mself\u001b[39m\u001b[38;5;241m.\u001b[39mfile_path)\n\u001b[1;32m--> 305\u001b[0m \u001b[38;5;28;01myield from\u001b[39;00m \u001b[38;5;28mself\u001b[39m\u001b[38;5;241m.\u001b[39mparser\u001b[38;5;241m.\u001b[39mlazy_parse(blob)\n",
      "File \u001b[1;32m~\\AppData\\Roaming\\Python\\Python313\\site-packages\\langchain_community\\document_loaders\\parsers\\pdf.py:361\u001b[0m, in \u001b[0;36mPyPDFParser.lazy_parse\u001b[1;34m(self, blob)\u001b[0m\n\u001b[0;32m    359\u001b[0m     \u001b[38;5;28;01mimport\u001b[39;00m\u001b[38;5;250m \u001b[39m\u001b[38;5;21;01mpypdf\u001b[39;00m\n\u001b[0;32m    360\u001b[0m \u001b[38;5;28;01mexcept\u001b[39;00m \u001b[38;5;167;01mImportError\u001b[39;00m:\n\u001b[1;32m--> 361\u001b[0m     \u001b[38;5;28;01mraise\u001b[39;00m \u001b[38;5;167;01mImportError\u001b[39;00m(\n\u001b[0;32m    362\u001b[0m         \u001b[38;5;124m\"\u001b[39m\u001b[38;5;124m`pypdf` package not found, please install it with `pip install pypdf`\u001b[39m\u001b[38;5;124m\"\u001b[39m\n\u001b[0;32m    363\u001b[0m     )\n\u001b[0;32m    365\u001b[0m \u001b[38;5;28;01mdef\u001b[39;00m\u001b[38;5;250m \u001b[39m\u001b[38;5;21m_extract_text_from_page\u001b[39m(page: pypdf\u001b[38;5;241m.\u001b[39mPageObject) \u001b[38;5;241m-\u001b[39m\u001b[38;5;241m>\u001b[39m \u001b[38;5;28mstr\u001b[39m:\n\u001b[0;32m    366\u001b[0m \u001b[38;5;250m    \u001b[39m\u001b[38;5;124;03m\"\"\"\u001b[39;00m\n\u001b[0;32m    367\u001b[0m \u001b[38;5;124;03m    Extract text from image given the version of pypdf.\u001b[39;00m\n\u001b[0;32m    368\u001b[0m \n\u001b[1;32m   (...)\u001b[0m\n\u001b[0;32m    373\u001b[0m \u001b[38;5;124;03m        str: The extracted text.\u001b[39;00m\n\u001b[0;32m    374\u001b[0m \u001b[38;5;124;03m    \"\"\"\u001b[39;00m\n",
      "\u001b[1;31mImportError\u001b[0m: `pypdf` package not found, please install it with `pip install pypdf`"
     ]
    }
   ],
   "source": [
    "pdf_loader = PyPDFLoader('attention.pdf')\n",
    "pdf_loader.load()"
   ]
  },
  {
   "cell_type": "code",
   "execution_count": null,
   "id": "e7a3c4d6-4ff0-46b0-b06f-6d2f7c09b726",
   "metadata": {},
   "outputs": [],
   "source": []
  },
  {
   "cell_type": "code",
   "execution_count": 11,
   "id": "a1b2ef50-1b4d-441c-8758-8b75651d9129",
   "metadata": {},
   "outputs": [
    {
     "name": "stdout",
     "output_type": "stream",
     "text": [
      "Defaulting to user installation because normal site-packages is not writeable\n",
      "Collecting pypdf\n",
      "  Downloading pypdf-5.9.0-py3-none-any.whl.metadata (7.1 kB)\n",
      "Downloading pypdf-5.9.0-py3-none-any.whl (313 kB)\n",
      "Installing collected packages: pypdf\n",
      "Successfully installed pypdf-5.9.0\n",
      "Note: you may need to restart the kernel to use updated packages.\n"
     ]
    }
   ],
   "source": [
    "pip install pypdf"
   ]
  },
  {
   "cell_type": "code",
   "execution_count": 13,
   "id": "b7afd13a-d388-4897-a293-7e056906e5f9",
   "metadata": {},
   "outputs": [
    {
     "name": "stdout",
     "output_type": "stream",
     "text": [
      "<class 'list'> 15\n"
     ]
    }
   ],
   "source": [
    "pdf_loader = PyPDFLoader('attention.pdf')\n",
    "docs = pdf_loader.load()\n",
    "print(type(docs),len(docs))"
   ]
  },
  {
   "cell_type": "code",
   "execution_count": null,
   "id": "59aa1ef1-8b72-4f01-a58f-2ce134e14f1d",
   "metadata": {},
   "outputs": [],
   "source": [
    "        Requests \n",
    "Client ------------->webserver---------->.....\n",
    "            -----------<--------------\n",
    "              1. page response <html>...{{data}} ..</html>    # webpage html\n",
    "              2. data response - there is no <html>..</html> # application-json data"
   ]
  },
  {
   "cell_type": "code",
   "execution_count": 17,
   "id": "64e5879a-3ba1-43cf-9d21-f6a73e198fae",
   "metadata": {},
   "outputs": [
    {
     "data": {
      "text/plain": [
       "<Response [200]>"
      ]
     },
     "execution_count": 17,
     "metadata": {},
     "output_type": "execute_result"
    }
   ],
   "source": [
    "import requests\n",
    "requests.get('https://www.google.com')"
   ]
  },
  {
   "cell_type": "code",
   "execution_count": 18,
   "id": "d89494ac-47c3-44e4-ab6a-ca07195569e9",
   "metadata": {},
   "outputs": [
    {
     "data": {
      "text/plain": [
       "{'Date': 'Tue, 29 Jul 2025 05:23:31 GMT', 'Expires': '-1', 'Cache-Control': 'private, max-age=0', 'Content-Type': 'text/html; charset=ISO-8859-1', 'Content-Security-Policy-Report-Only': \"object-src 'none';base-uri 'self';script-src 'nonce-o0WOfC5pg0FcALXeoU5UuQ' 'strict-dynamic' 'report-sample' 'unsafe-eval' 'unsafe-inline' https: http:;report-uri https://csp.withgoogle.com/csp/gws/other-hp\", 'Accept-CH': 'Sec-CH-Prefers-Color-Scheme', 'P3P': 'CP=\"This is not a P3P policy! See g.co/p3phelp for more info.\"', 'Content-Encoding': 'gzip', 'Server': 'gws', 'X-XSS-Protection': '0', 'X-Frame-Options': 'SAMEORIGIN', 'Set-Cookie': 'AEC=AVh_V2gU5Euw3ZMZyDxcn8AxPsWC-7gHqumO3S0dQ7vG5uBBNMQZIArAP1I; expires=Sun, 25-Jan-2026 05:23:31 GMT; path=/; domain=.google.com; Secure; HttpOnly; SameSite=lax, NID=525=kT61-wAehBiMDGyLqcD7rzqXLNMjICxIJhFfaTVRY-ozwZku48XdSA4RmP5JgJft40hysYNIYvKinoyyudnzwRCY8x2kokyGa5J5fYqbiquz6BYJyOjgYfVSj34f_doz_JuV9WrAZbhVUeZLmttpnBtsF9jukkNKmhrkjNfZS0E51DZM1GsecF59iXuSe7qJi5-nWJYOnmg0WPv5ww; expires=Wed, 28-Jan-2026 05:23:31 GMT; path=/; domain=.google.com; HttpOnly', 'Alt-Svc': 'h3=\":443\"; ma=2592000,h3-29=\":443\"; ma=2592000', 'Transfer-Encoding': 'chunked'}"
      ]
     },
     "execution_count": 18,
     "metadata": {},
     "output_type": "execute_result"
    }
   ],
   "source": [
    "r = requests.get('https://www.google.com')\n",
    "r.headers"
   ]
  },
  {
   "cell_type": "code",
   "execution_count": 19,
   "id": "8c5002f1-56d9-4a81-9541-6ecc06675b02",
   "metadata": {},
   "outputs": [
    {
     "data": {
      "text/plain": [
       "{'Date': 'Tue, 29 Jul 2025 05:26:26 GMT', 'Content-Type': 'application/json; charset=utf-8', 'Cache-Control': 'public, max-age=60, s-maxage=60', 'Vary': 'Accept,Accept-Encoding, Accept, X-Requested-With', 'ETag': 'W/\"61f25e2a55611f7eaf75a20ed5fe501245c5af99bc383854f5442975318fad26\"', 'X-GitHub-Media-Type': 'github.v3; format=json', 'x-github-api-version-selected': '2022-11-28', 'Access-Control-Expose-Headers': 'ETag, Link, Location, Retry-After, X-GitHub-OTP, X-RateLimit-Limit, X-RateLimit-Remaining, X-RateLimit-Used, X-RateLimit-Resource, X-RateLimit-Reset, X-OAuth-Scopes, X-Accepted-OAuth-Scopes, X-Poll-Interval, X-GitHub-Media-Type, X-GitHub-SSO, X-GitHub-Request-Id, Deprecation, Sunset', 'Access-Control-Allow-Origin': '*', 'Strict-Transport-Security': 'max-age=31536000; includeSubdomains; preload', 'X-Frame-Options': 'deny', 'X-Content-Type-Options': 'nosniff', 'X-XSS-Protection': '0', 'Referrer-Policy': 'origin-when-cross-origin, strict-origin-when-cross-origin', 'Content-Security-Policy': \"default-src 'none'\", 'Content-Encoding': 'gzip', 'Server': 'github.com', 'Accept-Ranges': 'bytes', 'X-RateLimit-Limit': '60', 'X-RateLimit-Remaining': '45', 'X-RateLimit-Reset': '1753767159', 'X-RateLimit-Resource': 'core', 'X-RateLimit-Used': '15', 'Content-Length': '1008', 'X-GitHub-Request-Id': '7199:316C0E:2C5F72:3BFC65:68885B82'}"
      ]
     },
     "execution_count": 19,
     "metadata": {},
     "output_type": "execute_result"
    }
   ],
   "source": [
    "r = requests.get('https://api.github.com/users/hadley/orgs')\n",
    "r.headers"
   ]
  },
  {
   "cell_type": "code",
   "execution_count": 20,
   "id": "7e614f96-4d91-4620-87d5-4186587f3b1f",
   "metadata": {},
   "outputs": [
    {
     "data": {
      "text/plain": [
       "'text/html; charset=ISO-8859-1'"
      ]
     },
     "execution_count": 20,
     "metadata": {},
     "output_type": "execute_result"
    }
   ],
   "source": [
    "r = requests.get('https://www.google.com')\n",
    "r.headers['Content-Type']"
   ]
  },
  {
   "cell_type": "code",
   "execution_count": 21,
   "id": "e3c92954-ddf6-4848-a63a-57f8e51c2c6d",
   "metadata": {},
   "outputs": [
    {
     "name": "stdout",
     "output_type": "stream",
     "text": [
      "<class 'str'> 19964\n"
     ]
    }
   ],
   "source": [
    "google_page = r.text \n",
    "print(type(google_page),len(google_page))"
   ]
  },
  {
   "cell_type": "code",
   "execution_count": 23,
   "id": "d187a13c-f478-4b93-afef-13b26fc5b1c7",
   "metadata": {},
   "outputs": [],
   "source": [
    "with open('test1.html','w') as wobj:\n",
    "    wobj.write(google_page)"
   ]
  },
  {
   "cell_type": "code",
   "execution_count": 24,
   "id": "81cb2b45-9544-45f9-8e75-843e00a672d2",
   "metadata": {},
   "outputs": [
    {
     "data": {
      "text/plain": [
       "'application/json; charset=utf-8'"
      ]
     },
     "execution_count": 24,
     "metadata": {},
     "output_type": "execute_result"
    }
   ],
   "source": [
    "r = requests.get('https://api.github.com/users/hadley/orgs')\n",
    "r.headers['Content-Type']"
   ]
  },
  {
   "cell_type": "code",
   "execution_count": 26,
   "id": "5b31ace5-bad2-47f8-b400-53600de5ec79",
   "metadata": {},
   "outputs": [
    {
     "name": "stdout",
     "output_type": "stream",
     "text": [
      "<class 'list'> <class 'dict'>\n"
     ]
    }
   ],
   "source": [
    "jd_data = r.text\n",
    "import json\n",
    "python_data = json.loads(jd_data)\n",
    "print(type(python_data),type(python_data[0]))"
   ]
  },
  {
   "cell_type": "code",
   "execution_count": 28,
   "id": "3dd15ed5-098e-49f9-af27-bda4923eed9e",
   "metadata": {},
   "outputs": [
    {
     "name": "stdout",
     "output_type": "stream",
     "text": [
      "<class 'list'> <class 'dict'>\n"
     ]
    }
   ],
   "source": [
    "res_data = r.json()\n",
    "print(type(res_data),type(res_data[0]))"
   ]
  },
  {
   "cell_type": "code",
   "execution_count": 35,
   "id": "38dd8574-20f8-40ca-8b22-4932e10f33e1",
   "metadata": {},
   "outputs": [],
   "source": [
    "# download webpage \n",
    "r = requests.get('https://www.google.com') # requests.get('https://www.github.com/page',auth=('token'))\n",
    "google_page = r.text"
   ]
  },
  {
   "cell_type": "code",
   "execution_count": 36,
   "id": "ff8a9023-5a6f-4a33-b09b-5b33703d0e71",
   "metadata": {},
   "outputs": [],
   "source": [
    "import bs4 # webscraping"
   ]
  },
  {
   "cell_type": "code",
   "execution_count": 38,
   "id": "011fc700-ed48-4d5c-877b-0dacefe723d0",
   "metadata": {},
   "outputs": [
    {
     "data": {
      "text/plain": [
       "<title>Google</title>"
      ]
     },
     "execution_count": 38,
     "metadata": {},
     "output_type": "execute_result"
    }
   ],
   "source": [
    "soup_obj = bs4.BeautifulSoup(google_page)\n",
    "soup_obj.title"
   ]
  },
  {
   "cell_type": "code",
   "execution_count": 39,
   "id": "d676b99c-afc3-49bd-b19c-a4a9ccd3da18",
   "metadata": {},
   "outputs": [
    {
     "data": {
      "text/plain": [
       "'title'"
      ]
     },
     "execution_count": 39,
     "metadata": {},
     "output_type": "execute_result"
    }
   ],
   "source": [
    "soup_obj.title.name"
   ]
  },
  {
   "cell_type": "code",
   "execution_count": 41,
   "id": "185e37dd-53cc-4cd8-9fcf-143025de0e2f",
   "metadata": {},
   "outputs": [
    {
     "data": {
      "text/plain": [
       "<title>Google</title>"
      ]
     },
     "execution_count": 41,
     "metadata": {},
     "output_type": "execute_result"
    }
   ],
   "source": [
    "soup_obj.find('title')"
   ]
  },
  {
   "cell_type": "code",
   "execution_count": 42,
   "id": "84ace06a-15e1-45d9-8668-cbf54248f2e5",
   "metadata": {},
   "outputs": [
    {
     "data": {
      "text/plain": [
       "<p style=\"font-size:8pt;color:#636363\">© 2025 - <a href=\"/intl/en/policies/privacy/\">Privacy</a> - <a href=\"/intl/en/policies/terms/\">Terms</a></p>"
      ]
     },
     "execution_count": 42,
     "metadata": {},
     "output_type": "execute_result"
    }
   ],
   "source": [
    "soup_obj.find('p')"
   ]
  },
  {
   "cell_type": "code",
   "execution_count": 43,
   "id": "6e1b7407-d856-4b45-bbe5-1c3c40b7ff6c",
   "metadata": {},
   "outputs": [
    {
     "data": {
      "text/plain": [
       "'font-size:8pt;color:#636363'"
      ]
     },
     "execution_count": 43,
     "metadata": {},
     "output_type": "execute_result"
    }
   ],
   "source": [
    "soup_obj.find('p')['style']"
   ]
  },
  {
   "cell_type": "code",
   "execution_count": 45,
   "id": "444bbc22-c080-4120-8e5b-47cf46de1c55",
   "metadata": {},
   "outputs": [
    {
     "data": {
      "text/plain": [
       "'© 2025 - Privacy - Terms'"
      ]
     },
     "execution_count": 45,
     "metadata": {},
     "output_type": "execute_result"
    }
   ],
   "source": [
    "soup_obj.find('p').text"
   ]
  },
  {
   "cell_type": "code",
   "execution_count": 46,
   "id": "53e73954-1137-4579-9105-a8ec442a189c",
   "metadata": {},
   "outputs": [
    {
     "name": "stderr",
     "output_type": "stream",
     "text": [
      "USER_AGENT environment variable not set, consider setting it to identify your requests.\n"
     ]
    }
   ],
   "source": [
    "from langchain_community.document_loaders import WebBaseLoader"
   ]
  },
  {
   "cell_type": "code",
   "execution_count": 47,
   "id": "9ed23753-2bd6-417b-af9d-7f0cdabf102a",
   "metadata": {},
   "outputs": [
    {
     "data": {
      "text/plain": [
       "<langchain_community.document_loaders.web_base.WebBaseLoader at 0x1c90374a7b0>"
      ]
     },
     "execution_count": 47,
     "metadata": {},
     "output_type": "execute_result"
    }
   ],
   "source": [
    "WebBaseLoader(web_path=('https://www.google.com'))"
   ]
  },
  {
   "cell_type": "code",
   "execution_count": 48,
   "id": "d344a51a-3999-4295-902d-81b7825afef4",
   "metadata": {},
   "outputs": [
    {
     "data": {
      "text/plain": [
       "[Document(metadata={'source': 'https://www.google.com', 'title': 'Google', 'language': 'en-IN'}, page_content='GoogleSearch Images Maps Play YouTube News Gmail Drive More »Web History | Settings | Sign in\\xa0Advanced searchGoogle offered in:  हिन्दी বাংলা తెలుగు मराठी தமிழ் ગુજરાતી ಕನ್ನಡ മലയാളം ਪੰਜਾਬੀ AdvertisingBusiness SolutionsAbout GoogleGoogle.co.in© 2025 - Privacy - Terms')]"
      ]
     },
     "execution_count": 48,
     "metadata": {},
     "output_type": "execute_result"
    }
   ],
   "source": [
    "from langchain_community.document_loaders import WebBaseLoader\n",
    "loader = WebBaseLoader(web_path=('https://www.google.com'))\n",
    "loader.load()"
   ]
  },
  {
   "cell_type": "code",
   "execution_count": null,
   "id": "391cdb4d-c22c-44d8-b3bf-f69347f2a936",
   "metadata": {},
   "outputs": [],
   "source": []
  },
  {
   "cell_type": "code",
   "execution_count": 49,
   "id": "63b30001-9801-4b5a-9bcc-146152d6d3b8",
   "metadata": {
    "scrolled": true
   },
   "outputs": [
    {
     "data": {
      "text/plain": [
       "[Document(metadata={'source': 'https://www.google.com', 'title': 'Google', 'language': 'en-IN'}, page_content='GoogleSearch Images Maps Play YouTube News Gmail Drive More »Web History | Settings | Sign in\\xa0Advanced searchGoogle offered in:  हिन्दी বাংলা తెలుగు मराठी தமிழ் ગુજરાતી ಕನ್ನಡ മലയാളം ਪੰਜਾਬੀ AdvertisingBusiness SolutionsAbout GoogleGoogle.co.in© 2025 - Privacy - Terms'),\n",
       " Document(metadata={'source': 'https://www.python.org', 'title': 'Welcome to Python.org', 'description': 'The official home of the Python Programming Language', 'language': 'en'}, page_content='\\n\\n\\n\\n \\n\\n\\n\\n\\n\\n\\n\\n\\n\\n\\n\\n\\n\\n\\n\\n\\n\\n\\n\\n\\n\\n\\n\\n\\n\\n\\n\\n\\n\\n\\n\\n\\nWelcome to Python.org\\n\\n\\n\\n\\n\\n\\n\\n\\n\\n\\n\\n\\n\\n\\n\\n\\n\\n\\n\\n\\n\\nNotice: While JavaScript is not essential for this website, your interaction with the content will be limited. Please turn JavaScript on for the full experience. \\n\\n\\n\\n\\n\\n\\nSkip to content\\n\\n\\n▼ Close\\n                \\n\\n\\nPython\\n\\n\\nPSF\\n\\n\\nDocs\\n\\n\\nPyPI\\n\\n\\nJobs\\n\\n\\nCommunity\\n\\n\\n\\n▲ The Python Network\\n                \\n\\n\\n\\n\\n\\n\\n\\n\\n\\nDonate\\n\\n≡ Menu\\n\\n\\nSearch This Site\\n\\n\\n                                    GO\\n                                \\n\\n\\n\\n\\n\\nA A\\n\\nSmaller\\nLarger\\nReset\\n\\n\\n\\n\\n\\n\\nSocialize\\n\\nLinkedIn\\nMastodon\\nChat on IRC\\nTwitter\\n\\n\\n\\n\\n\\n\\n\\n\\n\\n\\nAbout\\n\\nApplications\\nQuotes\\nGetting Started\\nHelp\\nPython Brochure\\n\\n\\n\\nDownloads\\n\\nAll releases\\nSource code\\nWindows\\nmacOS\\nOther Platforms\\nLicense\\nAlternative Implementations\\n\\n\\n\\nDocumentation\\n\\nDocs\\nAudio/Visual Talks\\nBeginner\\'s Guide\\nDeveloper\\'s Guide\\nFAQ\\nNon-English Docs\\nPEP Index\\nPython Books\\nPython Essays\\n\\n\\n\\nCommunity\\n\\nDiversity\\nMailing Lists\\nIRC\\nForums\\nPSF Annual Impact Report\\nPython Conferences\\nSpecial Interest Groups\\nPython Logo\\nPython Wiki\\nCode of Conduct\\nCommunity Awards\\nGet Involved\\nShared Stories\\n\\n\\n\\nSuccess Stories\\n\\nArts\\nBusiness\\nEducation\\nEngineering\\nGovernment\\nScientific\\nSoftware Development\\n\\n\\n\\nNews\\n\\nPython News\\nPSF Newsletter\\nPSF News\\nPyCon US News\\nNews from the Community\\n\\n\\n\\nEvents\\n\\nPython Events\\nUser Group Events\\nPython Events Archive\\nUser Group Events Archive\\nSubmit an Event\\n\\n\\n\\n\\n \\n\\n\\n\\n>_\\n                        Launch Interactive Shell\\n\\n\\n\\n\\n\\n# Python 3: Fibonacci series up to n\\r\\n>>> def fib(n):\\r\\n>>>     a, b = 0, 1\\r\\n>>>     while a < n:\\r\\n>>>         print(a, end=\\' \\')\\r\\n>>>         a, b = b, a+b\\r\\n>>>     print()\\r\\n>>> fib(1000)\\r\\n0 1 1 2 3 5 8 13 21 34 55 89 144 233 377 610 987\\nFunctions Defined\\nThe core of extensible programming is defining functions. Python allows mandatory and optional arguments, keyword arguments, and even arbitrary argument lists. More about defining functions in Python\\xa03\\n\\n\\n# Python 3: List comprehensions\\r\\n>>> fruits = [\\'Banana\\', \\'Apple\\', \\'Lime\\']\\r\\n>>> loud_fruits = [fruit.upper() for fruit in fruits]\\r\\n>>> print(loud_fruits)\\r\\n[\\'BANANA\\', \\'APPLE\\', \\'LIME\\']\\r\\n\\r\\n# List and the enumerate function\\r\\n>>> list(enumerate(fruits))\\r\\n[(0, \\'Banana\\'), (1, \\'Apple\\'), (2, \\'Lime\\')]\\nCompound Data Types\\nLists (known as arrays in other languages) are one of the compound data types that Python understands. Lists can be indexed, sliced and manipulated with other built-in functions. More about lists in Python\\xa03\\n\\n\\n# Python 3: Simple arithmetic\\r\\n>>> 1 / 2\\r\\n0.5\\r\\n>>> 2 ** 3\\r\\n8\\r\\n>>> 17 / 3  # classic division returns a float\\r\\n5.666666666666667\\r\\n>>> 17 // 3  # floor division\\r\\n5\\nIntuitive Interpretation\\nCalculations are simple with Python, and expression syntax is straightforward: the operators +, -, * and / work as expected; parentheses () can be used for grouping. More about simple math functions in Python\\xa03.\\n\\n\\n# For loop on a list\\r\\n>>> numbers = [2, 4, 6, 8]\\r\\n>>> product = 1\\r\\n>>> for number in numbers:\\r\\n...    product = product * number\\r\\n... \\r\\n>>> print(\\'The product is:\\', product)\\r\\nThe product is: 384\\nAll the Flow You’d Expect\\nPython knows the usual control flow statements that other languages speak — if, for, while and range — with some of its own twists, of course. More control flow tools in Python\\xa03\\n\\n\\n# Simple output (with Unicode)\\r\\n>>> print(\"Hello, I\\'m Python!\")\\r\\nHello, I\\'m Python!\\r\\n# Input, assignment\\r\\n>>> name = input(\\'What is your name?\\\\n\\')\\r\\nWhat is your name?\\r\\nPython\\r\\n>>> print(f\\'Hi, {name}.\\')\\r\\nHi, Python.\\r\\n\\nQuick & Easy to Learn\\nExperienced programmers in any other language can pick up Python very quickly, and beginners find the clean syntax and indentation structure easy to learn. Whet your appetite with our Python\\xa03 overview.\\n\\n\\n\\n\\n\\nPython is a programming language that lets you work quickly and integrate systems more effectively. Learn More\\n\\n\\n\\n\\n\\n\\n\\n\\n\\nGet Started\\nWhether you\\'re new to programming or an experienced developer, it\\'s easy to learn and use Python.\\nStart with our Beginner’s Guide\\n\\n\\nDownload\\nPython source code and installers are available for download for all versions!\\nLatest: Python 3.13.5\\n\\n\\nDocs\\nDocumentation for Python\\'s standard library, along with tutorials and guides, are available online.\\ndocs.python.org\\n\\n\\nJobs\\nLooking for work or have a Python related position that you\\'re trying to hire for? Our relaunched community-run job board is the place to go.\\njobs.python.org\\n\\n\\n\\n\\n\\nLatest News\\nMore\\n\\n\\n2025-07-24\\nPSF Board Election Nominations Opening July 29th\\n\\n2025-07-22\\nPython 3.14 release candidate 1 is go!\\n\\n2025-07-16\\nAffirm Your PSF Membership Voting Status\\n\\n2025-07-09\\nPSF News: PyPI Orgs, Board Election, & Yearly Reports\\n\\n2025-07-08\\nNotice of Python Software Foundation Bylaws Change - Effective July 23, 2025\\n\\n\\n\\n\\n\\nUpcoming Events\\nMore\\n\\n\\n2025-08-08\\nBuea - Creating Python Communities and outreach\\n\\n2025-08-11\\nDjangoCon Africa 2025\\n\\n2025-08-13\\nPyCon Somalia 2025\\n\\n2025-08-15\\nPyCon Korea 2025\\n\\n2025-08-18\\nEuroSciPy 2025\\n\\n\\n\\n\\n\\n\\n\\nSuccess Stories\\nMore\\n\\n\\nSince its founding in 2007, Lincoln Loop has been building sites for their clients with Python and Django. They credit Python\\'s philosophy of practicality and explicitness, along with the rich ecosystem of open-source libraries available on PyPI, as keys to their success. Additionally, the inclusivity, openness, and strong culture of collaboration in the Python community have enabled the agency to find and hire great people who are lifelong learners.\\n\\n\\n\\n\\nLincoln Loop: Building a sustainable business inspired by Pythonâ€™s ethos by Peter Baumgartner\\n\\n\\n\\n\\n\\n\\n\\n\\nUse Python for…\\nMore\\n\\nWeb Development:\\r\\n        Django, Pyramid, Bottle, Tornado, Flask, web2py\\nGUI Development:\\r\\n        tkInter, PyGObject, PyQt, PySide, Kivy, wxPython, DearPyGui\\nScientific and Numeric:\\r\\n        \\nSciPy, Pandas, IPython\\nSoftware Development:\\r\\n        Buildbot, Trac, Roundup\\nSystem Administration:\\r\\n        Ansible, Salt, OpenStack, xonsh\\n\\n\\n\\n\\n\\n\\n\\n>>> Python Software Foundation\\n\\nThe mission of the Python Software Foundation is to promote, protect, and advance the Python programming language, and to support and facilitate the growth of a diverse and international community of Python programmers. Learn more \\n\\nBecome a Member\\nDonate to the PSF\\n\\n\\n\\n\\n\\n\\n\\n\\n\\n▲ Back to Top\\n\\n\\nAbout\\n\\nApplications\\nQuotes\\nGetting Started\\nHelp\\nPython Brochure\\n\\n\\n\\nDownloads\\n\\nAll releases\\nSource code\\nWindows\\nmacOS\\nOther Platforms\\nLicense\\nAlternative Implementations\\n\\n\\n\\nDocumentation\\n\\nDocs\\nAudio/Visual Talks\\nBeginner\\'s Guide\\nDeveloper\\'s Guide\\nFAQ\\nNon-English Docs\\nPEP Index\\nPython Books\\nPython Essays\\n\\n\\n\\nCommunity\\n\\nDiversity\\nMailing Lists\\nIRC\\nForums\\nPSF Annual Impact Report\\nPython Conferences\\nSpecial Interest Groups\\nPython Logo\\nPython Wiki\\nCode of Conduct\\nCommunity Awards\\nGet Involved\\nShared Stories\\n\\n\\n\\nSuccess Stories\\n\\nArts\\nBusiness\\nEducation\\nEngineering\\nGovernment\\nScientific\\nSoftware Development\\n\\n\\n\\nNews\\n\\nPython News\\nPSF Newsletter\\nPSF News\\nPyCon US News\\nNews from the Community\\n\\n\\n\\nEvents\\n\\nPython Events\\nUser Group Events\\nPython Events Archive\\nUser Group Events Archive\\nSubmit an Event\\n\\n\\n\\nContributing\\n\\nDeveloper\\'s Guide\\nIssue Tracker\\npython-dev list\\nCore Mentorship\\nReport a Security Issue\\n\\n\\n\\n▲ Back to Top\\n\\n \\n\\n\\n\\nHelp & General Contact\\nDiversity Initiatives\\nSubmit Website Bug\\n\\nStatus \\n\\n\\n\\n\\nCopyright ©2001-2025.\\n                            \\xa0Python Software Foundation\\n                            \\xa0Legal Statements\\n                            \\xa0Privacy Notice\\n\\n\\n\\n\\n\\n\\n\\n\\n\\n\\n\\n\\n\\n\\n\\n\\n\\n\\n')]"
      ]
     },
     "execution_count": 49,
     "metadata": {},
     "output_type": "execute_result"
    }
   ],
   "source": [
    "loader = WebBaseLoader(web_paths=('https://www.google.com','https://www.python.org'))\n",
    "loader.load()"
   ]
  },
  {
   "cell_type": "raw",
   "id": "7f76ac5e-2659-46eb-867e-c375d3b5a265",
   "metadata": {},
   "source": [
    "# Download webpage   - requests\n",
    "# extract list of paragraph and urllinks - webscrape - bs4 "
   ]
  },
  {
   "cell_type": "code",
   "execution_count": 50,
   "id": "8a4bf8f8-aa44-4fda-9542-1225b4a7084a",
   "metadata": {},
   "outputs": [],
   "source": [
    "r = requests.get('https://www.google.com')\n",
    "page = r.text\n",
    "######################## download is done\n",
    "\n",
    "soup_obj = bs4.BeautifulSoup(page)\n",
    "#soup_obj.<html_Tag> ->Value (or) soup_obj.find('<html_tag>') ->Value Vs soup_obj.find_all('<html_tags>')"
   ]
  },
  {
   "cell_type": "code",
   "execution_count": 51,
   "id": "2fd8e783-553c-4136-be82-e3e982ea01e3",
   "metadata": {},
   "outputs": [
    {
     "data": {
      "text/plain": [
       "<p style=\"font-size:8pt;color:#636363\">© 2025 - <a href=\"/intl/en/policies/privacy/\">Privacy</a> - <a href=\"/intl/en/policies/terms/\">Terms</a></p>"
      ]
     },
     "execution_count": 51,
     "metadata": {},
     "output_type": "execute_result"
    }
   ],
   "source": [
    "soup_obj.find('p')"
   ]
  },
  {
   "cell_type": "code",
   "execution_count": 52,
   "id": "88e8ddec-3c94-44d5-8980-3390bd91e3e3",
   "metadata": {},
   "outputs": [
    {
     "data": {
      "text/plain": [
       "[<p style=\"font-size:8pt;color:#636363\">© 2025 - <a href=\"/intl/en/policies/privacy/\">Privacy</a> - <a href=\"/intl/en/policies/terms/\">Terms</a></p>]"
      ]
     },
     "execution_count": 52,
     "metadata": {},
     "output_type": "execute_result"
    }
   ],
   "source": [
    "soup_obj.find_all('p')"
   ]
  },
  {
   "cell_type": "code",
   "execution_count": 53,
   "id": "36c1130d-0a7b-4793-8b23-c3db984d9f36",
   "metadata": {},
   "outputs": [
    {
     "data": {
      "text/plain": [
       "<a class=\"gb1\" href=\"https://www.google.com/imghp?hl=en&amp;tab=wi\">Images</a>"
      ]
     },
     "execution_count": 53,
     "metadata": {},
     "output_type": "execute_result"
    }
   ],
   "source": [
    "soup_obj.find('a')"
   ]
  },
  {
   "cell_type": "code",
   "execution_count": 54,
   "id": "82289075-625f-4c0a-8106-b7fec06bc113",
   "metadata": {},
   "outputs": [
    {
     "data": {
      "text/plain": [
       "[<a class=\"gb1\" href=\"https://www.google.com/imghp?hl=en&amp;tab=wi\">Images</a>,\n",
       " <a class=\"gb1\" href=\"https://maps.google.co.in/maps?hl=en&amp;tab=wl\">Maps</a>,\n",
       " <a class=\"gb1\" href=\"https://play.google.com/?hl=en&amp;tab=w8\">Play</a>,\n",
       " <a class=\"gb1\" href=\"https://www.youtube.com/?tab=w1\">YouTube</a>,\n",
       " <a class=\"gb1\" href=\"https://news.google.com/?tab=wn\">News</a>,\n",
       " <a class=\"gb1\" href=\"https://mail.google.com/mail/?tab=wm\">Gmail</a>,\n",
       " <a class=\"gb1\" href=\"https://drive.google.com/?tab=wo\">Drive</a>,\n",
       " <a class=\"gb1\" href=\"https://www.google.co.in/intl/en/about/products?tab=wh\" style=\"text-decoration:none\"><u>More</u> »</a>,\n",
       " <a class=\"gb4\" href=\"http://www.google.co.in/history/optout?hl=en\">Web History</a>,\n",
       " <a class=\"gb4\" href=\"/preferences?hl=en\">Settings</a>,\n",
       " <a class=\"gb4\" href=\"https://accounts.google.com/ServiceLogin?hl=en&amp;passive=true&amp;continue=https://www.google.com/&amp;ec=GAZAAQ\" id=\"gb_70\" target=\"_top\">Sign in</a>,\n",
       " <a href=\"/advanced_search?hl=en-IN&amp;authuser=0\">Advanced search</a>,\n",
       " <a href=\"https://www.google.com/setprefs?sig=0_0GquraCD3eqItv4gIG92DdQJs9Y%3D&amp;hl=hi&amp;source=homepage&amp;sa=X&amp;ved=0ahUKEwiKpvOAteGOAxXbQ7gEHcK9J-gQ2ZgBCAY\">हिन्दी</a>,\n",
       " <a href=\"https://www.google.com/setprefs?sig=0_0GquraCD3eqItv4gIG92DdQJs9Y%3D&amp;hl=bn&amp;source=homepage&amp;sa=X&amp;ved=0ahUKEwiKpvOAteGOAxXbQ7gEHcK9J-gQ2ZgBCAc\">বাংলা</a>,\n",
       " <a href=\"https://www.google.com/setprefs?sig=0_0GquraCD3eqItv4gIG92DdQJs9Y%3D&amp;hl=te&amp;source=homepage&amp;sa=X&amp;ved=0ahUKEwiKpvOAteGOAxXbQ7gEHcK9J-gQ2ZgBCAg\">తెలుగు</a>,\n",
       " <a href=\"https://www.google.com/setprefs?sig=0_0GquraCD3eqItv4gIG92DdQJs9Y%3D&amp;hl=mr&amp;source=homepage&amp;sa=X&amp;ved=0ahUKEwiKpvOAteGOAxXbQ7gEHcK9J-gQ2ZgBCAk\">मराठी</a>,\n",
       " <a href=\"https://www.google.com/setprefs?sig=0_0GquraCD3eqItv4gIG92DdQJs9Y%3D&amp;hl=ta&amp;source=homepage&amp;sa=X&amp;ved=0ahUKEwiKpvOAteGOAxXbQ7gEHcK9J-gQ2ZgBCAo\">தமிழ்</a>,\n",
       " <a href=\"https://www.google.com/setprefs?sig=0_0GquraCD3eqItv4gIG92DdQJs9Y%3D&amp;hl=gu&amp;source=homepage&amp;sa=X&amp;ved=0ahUKEwiKpvOAteGOAxXbQ7gEHcK9J-gQ2ZgBCAs\">ગુજરાતી</a>,\n",
       " <a href=\"https://www.google.com/setprefs?sig=0_0GquraCD3eqItv4gIG92DdQJs9Y%3D&amp;hl=kn&amp;source=homepage&amp;sa=X&amp;ved=0ahUKEwiKpvOAteGOAxXbQ7gEHcK9J-gQ2ZgBCAw\">ಕನ್ನಡ</a>,\n",
       " <a href=\"https://www.google.com/setprefs?sig=0_0GquraCD3eqItv4gIG92DdQJs9Y%3D&amp;hl=ml&amp;source=homepage&amp;sa=X&amp;ved=0ahUKEwiKpvOAteGOAxXbQ7gEHcK9J-gQ2ZgBCA0\">മലയാളം</a>,\n",
       " <a href=\"https://www.google.com/setprefs?sig=0_0GquraCD3eqItv4gIG92DdQJs9Y%3D&amp;hl=pa&amp;source=homepage&amp;sa=X&amp;ved=0ahUKEwiKpvOAteGOAxXbQ7gEHcK9J-gQ2ZgBCA4\">ਪੰਜਾਬੀ</a>,\n",
       " <a href=\"/intl/en/ads/\">Advertising</a>,\n",
       " <a href=\"http://www.google.co.in/services/\">Business Solutions</a>,\n",
       " <a href=\"/intl/en/about.html\">About Google</a>,\n",
       " <a href=\"https://www.google.com/setprefdomain?prefdom=IN&amp;prev=https://www.google.co.in/&amp;sig=K_bnvP4sX98VTdtfaLRKzc-BPYiVI%3D\">Google.co.in</a>,\n",
       " <a href=\"/intl/en/policies/privacy/\">Privacy</a>,\n",
       " <a href=\"/intl/en/policies/terms/\">Terms</a>]"
      ]
     },
     "execution_count": 54,
     "metadata": {},
     "output_type": "execute_result"
    }
   ],
   "source": [
    "soup_obj.find_all('a')"
   ]
  },
  {
   "cell_type": "code",
   "execution_count": 56,
   "id": "e142a1c3-2114-4fdf-a91e-1ca292f402c9",
   "metadata": {},
   "outputs": [
    {
     "name": "stdout",
     "output_type": "stream",
     "text": [
      "https://www.google.com/imghp?hl=en&tab=wi\n",
      "https://maps.google.co.in/maps?hl=en&tab=wl\n",
      "https://play.google.com/?hl=en&tab=w8\n",
      "https://www.youtube.com/?tab=w1\n",
      "https://news.google.com/?tab=wn\n",
      "https://mail.google.com/mail/?tab=wm\n",
      "https://drive.google.com/?tab=wo\n",
      "https://www.google.co.in/intl/en/about/products?tab=wh\n",
      "http://www.google.co.in/history/optout?hl=en\n",
      "/preferences?hl=en\n",
      "https://accounts.google.com/ServiceLogin?hl=en&passive=true&continue=https://www.google.com/&ec=GAZAAQ\n",
      "/advanced_search?hl=en-IN&authuser=0\n",
      "https://www.google.com/setprefs?sig=0_0GquraCD3eqItv4gIG92DdQJs9Y%3D&hl=hi&source=homepage&sa=X&ved=0ahUKEwiKpvOAteGOAxXbQ7gEHcK9J-gQ2ZgBCAY\n",
      "https://www.google.com/setprefs?sig=0_0GquraCD3eqItv4gIG92DdQJs9Y%3D&hl=bn&source=homepage&sa=X&ved=0ahUKEwiKpvOAteGOAxXbQ7gEHcK9J-gQ2ZgBCAc\n",
      "https://www.google.com/setprefs?sig=0_0GquraCD3eqItv4gIG92DdQJs9Y%3D&hl=te&source=homepage&sa=X&ved=0ahUKEwiKpvOAteGOAxXbQ7gEHcK9J-gQ2ZgBCAg\n",
      "https://www.google.com/setprefs?sig=0_0GquraCD3eqItv4gIG92DdQJs9Y%3D&hl=mr&source=homepage&sa=X&ved=0ahUKEwiKpvOAteGOAxXbQ7gEHcK9J-gQ2ZgBCAk\n",
      "https://www.google.com/setprefs?sig=0_0GquraCD3eqItv4gIG92DdQJs9Y%3D&hl=ta&source=homepage&sa=X&ved=0ahUKEwiKpvOAteGOAxXbQ7gEHcK9J-gQ2ZgBCAo\n",
      "https://www.google.com/setprefs?sig=0_0GquraCD3eqItv4gIG92DdQJs9Y%3D&hl=gu&source=homepage&sa=X&ved=0ahUKEwiKpvOAteGOAxXbQ7gEHcK9J-gQ2ZgBCAs\n",
      "https://www.google.com/setprefs?sig=0_0GquraCD3eqItv4gIG92DdQJs9Y%3D&hl=kn&source=homepage&sa=X&ved=0ahUKEwiKpvOAteGOAxXbQ7gEHcK9J-gQ2ZgBCAw\n",
      "https://www.google.com/setprefs?sig=0_0GquraCD3eqItv4gIG92DdQJs9Y%3D&hl=ml&source=homepage&sa=X&ved=0ahUKEwiKpvOAteGOAxXbQ7gEHcK9J-gQ2ZgBCA0\n",
      "https://www.google.com/setprefs?sig=0_0GquraCD3eqItv4gIG92DdQJs9Y%3D&hl=pa&source=homepage&sa=X&ved=0ahUKEwiKpvOAteGOAxXbQ7gEHcK9J-gQ2ZgBCA4\n",
      "/intl/en/ads/\n",
      "http://www.google.co.in/services/\n",
      "/intl/en/about.html\n",
      "https://www.google.com/setprefdomain?prefdom=IN&prev=https://www.google.co.in/&sig=K_bnvP4sX98VTdtfaLRKzc-BPYiVI%3D\n",
      "/intl/en/policies/privacy/\n",
      "/intl/en/policies/terms/\n"
     ]
    }
   ],
   "source": [
    "#d={'K1':'V1'} -> d.get('K1') ->V1 ; d.get('K2') ->None\n",
    "\n",
    "for var in soup_obj.find_all('a'):\n",
    "    print(var.get('href'))"
   ]
  },
  {
   "cell_type": "code",
   "execution_count": 57,
   "id": "3793cc50-7971-4841-9c6d-a866ce25701c",
   "metadata": {},
   "outputs": [
    {
     "name": "stdout",
     "output_type": "stream",
     "text": [
      "https://www.youtube.com/?tab=w1\n"
     ]
    }
   ],
   "source": [
    "import re\n",
    "for var in soup_obj.find_all('a'):\n",
    "    if(re.search('^https.*youtube',var.get('href'))):\n",
    "        print(var.get('href'))"
   ]
  },
  {
   "cell_type": "code",
   "execution_count": 62,
   "id": "3b9bddb0-0504-4bd8-b232-af30e3388e83",
   "metadata": {},
   "outputs": [
    {
     "data": {
      "text/plain": [
       "<langchain_community.document_loaders.web_base.WebBaseLoader at 0x1c904617bd0>"
      ]
     },
     "execution_count": 62,
     "metadata": {},
     "output_type": "execute_result"
    }
   ],
   "source": [
    "WebBaseLoader(web_path=('https://www.google.com'),bs_kwargs=dict(parse_only=bs4.SoupStrainer(class_=(\"p\"))))"
   ]
  },
  {
   "cell_type": "code",
   "execution_count": 64,
   "id": "8e65acf7-3453-4d6e-b625-2844aeab81b3",
   "metadata": {},
   "outputs": [
    {
     "data": {
      "text/plain": [
       "[Document(metadata={'source': 'https://www.google.com'}, page_content='')]"
      ]
     },
     "execution_count": 64,
     "metadata": {},
     "output_type": "execute_result"
    }
   ],
   "source": [
    "loader = WebBaseLoader(web_path=('https://www.google.com'),bs_kwargs=dict(parse_only=bs4.SoupStrainer(class_=(\"title\"))))\n",
    "loader.load()"
   ]
  },
  {
   "cell_type": "code",
   "execution_count": 68,
   "id": "3e6b59f7-049d-4961-b7d1-67ec7edd38f5",
   "metadata": {},
   "outputs": [
    {
     "data": {
      "text/plain": [
       "[Document(metadata={'source': 'https://lilianweng.github.io/posts/2023-06-23-agent/'}, page_content='\\n      LLM Powered Autonomous Agents\\n    ')]"
      ]
     },
     "execution_count": 68,
     "metadata": {},
     "output_type": "execute_result"
    }
   ],
   "source": [
    "loader = WebBaseLoader(web_path=('https://lilianweng.github.io/posts/2023-06-23-agent/'),bs_kwargs=dict(parse_only=bs4.SoupStrainer(class_=(\"post-title\"))))\n",
    "loader.load()"
   ]
  },
  {
   "cell_type": "raw",
   "id": "8dd80739-c236-4157-b6ce-e15e993cd1e3",
   "metadata": {},
   "source": [
    "WebBaseLoader(KeyWord1=<URL>,KeyWord2=<webscraping>)\n",
    "                                          |__className(Keyword=<TagName>)\n",
    "                                                # webscraping - bs4.SoupStrainer()\n",
    "\n",
    "task 1: download web page  - requests \n",
    "task 2: extract html tags  - bs4"
   ]
  },
  {
   "cell_type": "code",
   "execution_count": 69,
   "id": "3a0bcfb8-8163-43e5-8eeb-3bd68b51b881",
   "metadata": {},
   "outputs": [
    {
     "data": {
      "text/plain": [
       "[Document(metadata={'source': 'https://lilianweng.github.io/posts/2023-06-23-agent/'}, page_content='\\n\\n      LLM Powered Autonomous Agents\\n    \\nDate: June 23, 2023  |  Estimated Reading Time: 31 min  |  Author: Lilian Weng\\n\\n\\n')]"
      ]
     },
     "execution_count": 69,
     "metadata": {},
     "output_type": "execute_result"
    }
   ],
   "source": [
    "loader = WebBaseLoader(web_path=('https://lilianweng.github.io/posts/2023-06-23-agent/'),bs_kwargs=dict(parse_only=bs4.SoupStrainer(class_=(\"post-title\",\"post-header\"))))\n",
    "loader.load()"
   ]
  },
  {
   "cell_type": "code",
   "execution_count": 70,
   "id": "61b1fe91-fc62-4134-b428-c194e93ea95f",
   "metadata": {},
   "outputs": [
    {
     "data": {
      "text/plain": [
       "[Document(metadata={'source': 'https://lilianweng.github.io/posts/2023-06-23-agent/'}, page_content='\\n      LLM Powered Autonomous Agents\\n    Building agents with LLM (large language model) as its core controller is a cool concept. Several proof-of-concepts demos, such as AutoGPT, GPT-Engineer and BabyAGI, serve as inspiring examples. The potentiality of LLM extends beyond generating well-written copies, stories, essays and programs; it can be framed as a powerful general problem solver.\\nAgent System Overview#\\nIn a LLM-powered autonomous agent system, LLM functions as the agent’s brain, complemented by several key components:\\n\\nPlanning\\n\\nSubgoal and decomposition: The agent breaks down large tasks into smaller, manageable subgoals, enabling efficient handling of complex tasks.\\nReflection and refinement: The agent can do self-criticism and self-reflection over past actions, learn from mistakes and refine them for future steps, thereby improving the quality of final results.\\n\\n\\nMemory\\n\\nShort-term memory: I would consider all the in-context learning (See Prompt Engineering) as utilizing short-term memory of the model to learn.\\nLong-term memory: This provides the agent with the capability to retain and recall (infinite) information over extended periods, often by leveraging an external vector store and fast retrieval.\\n\\n\\nTool use\\n\\nThe agent learns to call external APIs for extra information that is missing from the model weights (often hard to change after pre-training), including current information, code execution capability, access to proprietary information sources and more.\\n\\n\\n\\n\\n\\nOverview of a LLM-powered autonomous agent system.\\n\\nComponent One: Planning#\\nA complicated task usually involves many steps. An agent needs to know what they are and plan ahead.\\nTask Decomposition#\\nChain of thought (CoT; Wei et al. 2022) has become a standard prompting technique for enhancing model performance on complex tasks. The model is instructed to “think step by step” to utilize more test-time computation to decompose hard tasks into smaller and simpler steps. CoT transforms big tasks into multiple manageable tasks and shed lights into an interpretation of the model’s thinking process.\\nTree of Thoughts (Yao et al. 2023) extends CoT by exploring multiple reasoning possibilities at each step. It first decomposes the problem into multiple thought steps and generates multiple thoughts per step, creating a tree structure. The search process can be BFS (breadth-first search) or DFS (depth-first search) with each state evaluated by a classifier (via a prompt) or majority vote.\\nTask decomposition can be done (1) by LLM with simple prompting like \"Steps for XYZ.\\\\n1.\", \"What are the subgoals for achieving XYZ?\", (2) by using task-specific instructions; e.g. \"Write a story outline.\" for writing a novel, or (3) with human inputs.\\nAnother quite distinct approach, LLM+P (Liu et al. 2023), involves relying on an external classical planner to do long-horizon planning. This approach utilizes the Planning Domain Definition Language (PDDL) as an intermediate interface to describe the planning problem. In this process, LLM (1) translates the problem into “Problem PDDL”, then (2) requests a classical planner to generate a PDDL plan based on an existing “Domain PDDL”, and finally (3) translates the PDDL plan back into natural language. Essentially, the planning step is outsourced to an external tool, assuming the availability of domain-specific PDDL and a suitable planner which is common in certain robotic setups but not in many other domains.\\nSelf-Reflection#\\nSelf-reflection is a vital aspect that allows autonomous agents to improve iteratively by refining past action decisions and correcting previous mistakes. It plays a crucial role in real-world tasks where trial and error are inevitable.\\nReAct (Yao et al. 2023) integrates reasoning and acting within LLM by extending the action space to be a combination of task-specific discrete actions and the language space. The former enables LLM to interact with the environment (e.g. use Wikipedia search API), while the latter prompting LLM to generate reasoning traces in natural language.\\nThe ReAct prompt template incorporates explicit steps for LLM to think, roughly formatted as:\\nThought: ...\\nAction: ...\\nObservation: ...\\n... (Repeated many times)\\n\\n\\nExamples of reasoning trajectories for knowledge-intensive tasks (e.g. HotpotQA, FEVER) and decision-making tasks (e.g. AlfWorld Env, WebShop). (Image source: Yao et al. 2023).\\n\\nIn both experiments on knowledge-intensive tasks and decision-making tasks, ReAct works better than the Act-only baseline where Thought: … step is removed.\\nReflexion (Shinn & Labash 2023) is a framework to equip agents with dynamic memory and self-reflection capabilities to improve reasoning skills. Reflexion has a standard RL setup, in which the reward model provides a simple binary reward and the action space follows the setup in ReAct where the task-specific action space is augmented with language to enable complex reasoning steps. After each action $a_t$, the agent computes a heuristic $h_t$ and optionally may decide to reset the environment to start a new trial depending on the self-reflection results.\\n\\n\\nIllustration of the Reflexion framework. (Image source: Shinn & Labash, 2023)\\n\\nThe heuristic function determines when the trajectory is inefficient or contains hallucination and should be stopped. Inefficient planning refers to trajectories that take too long without success. Hallucination is defined as encountering a sequence of consecutive identical actions that lead to the same observation in the environment.\\nSelf-reflection is created by showing two-shot examples to LLM and each example is a pair of (failed trajectory, ideal reflection for guiding future changes in the plan). Then reflections are added into the agent’s working memory, up to three, to be used as context for querying LLM.\\n\\n\\nExperiments on AlfWorld Env and HotpotQA. Hallucination is a more common failure than inefficient planning in AlfWorld. (Image source: Shinn & Labash, 2023)\\n\\nChain of Hindsight (CoH; Liu et al. 2023) encourages the model to improve on its own outputs by explicitly presenting it with a sequence of past outputs, each annotated with feedback. Human feedback data is a collection of $D_h = \\\\{(x, y_i , r_i , z_i)\\\\}_{i=1}^n$, where $x$ is the prompt, each $y_i$ is a model completion, $r_i$ is the human rating of $y_i$, and $z_i$ is the corresponding human-provided hindsight feedback. Assume the feedback tuples are ranked by reward, $r_n \\\\geq r_{n-1} \\\\geq \\\\dots \\\\geq r_1$ The process is supervised fine-tuning where the data is a sequence in the form of $\\\\tau_h = (x, z_i, y_i, z_j, y_j, \\\\dots, z_n, y_n)$, where $\\\\leq i \\\\leq j \\\\leq n$. The model is finetuned to only predict $y_n$ where conditioned on the sequence prefix, such that the model can self-reflect to produce better output based on the feedback sequence. The model can optionally receive multiple rounds of instructions with human annotators at test time.\\nTo avoid overfitting, CoH adds a regularization term to maximize the log-likelihood of the pre-training dataset. To avoid shortcutting and copying (because there are many common words in feedback sequences), they randomly mask 0% - 5% of past tokens during training.\\nThe training dataset in their experiments is a combination of WebGPT comparisons, summarization from human feedback and human preference dataset.\\n\\n\\nAfter fine-tuning with CoH, the model can follow instructions to produce outputs with incremental improvement in a sequence. (Image source: Liu et al. 2023)\\n\\nThe idea of CoH is to present a history of sequentially improved outputs  in context and train the model to take on the trend to produce better outputs. Algorithm Distillation (AD; Laskin et al. 2023) applies the same idea to cross-episode trajectories in reinforcement learning tasks, where an algorithm is encapsulated in a long history-conditioned policy. Considering that an agent interacts with the environment many times and in each episode the agent gets a little better, AD concatenates this learning history and feeds that into the model. Hence we should expect the next predicted action to lead to better performance than previous trials. The goal is to learn the process of RL instead of training a task-specific policy itself.\\n\\n\\nIllustration of how Algorithm Distillation (AD) works. (Image source: Laskin et al. 2023).\\n\\nThe paper hypothesizes that any algorithm that generates a set of learning histories can be distilled into a neural network by performing behavioral cloning over actions. The history data is generated by a set of source policies, each trained for a specific task. At the training stage, during each RL run, a random task is sampled and a subsequence of multi-episode history is used for training, such that the learned policy is task-agnostic.\\nIn reality, the model has limited context window length, so episodes should be short enough to construct multi-episode history. Multi-episodic contexts of 2-4 episodes are necessary to learn a near-optimal in-context RL algorithm. The emergence of in-context RL requires long enough context.\\nIn comparison with three baselines, including ED (expert distillation, behavior cloning with expert trajectories instead of learning history), source policy (used for generating trajectories for distillation by UCB), RL^2 (Duan et al. 2017; used as upper bound since it needs online RL), AD demonstrates in-context RL with performance getting close to RL^2 despite only using offline RL and learns much faster than other baselines. When conditioned on partial training history of the source policy, AD also improves much faster than ED baseline.\\n\\n\\nComparison of AD, ED, source policy and RL^2 on environments that require memory and exploration. Only binary reward is assigned. The source policies are trained with A3C for \"dark\" environments and DQN for watermaze.(Image source: Laskin et al. 2023)\\n\\nComponent Two: Memory#\\n(Big thank you to ChatGPT for helping me draft this section. I’ve learned a lot about the human brain and data structure for fast MIPS in my conversations with ChatGPT.)\\nTypes of Memory#\\nMemory can be defined as the processes used to acquire, store, retain, and later retrieve information. There are several types of memory in human brains.\\n\\n\\nSensory Memory: This is the earliest stage of memory, providing the ability to retain impressions of sensory information (visual, auditory, etc) after the original stimuli have ended. Sensory memory typically only lasts for up to a few seconds. Subcategories include iconic memory (visual), echoic memory (auditory), and haptic memory (touch).\\n\\n\\nShort-Term Memory (STM) or Working Memory: It stores information that we are currently aware of and needed to carry out complex cognitive tasks such as learning and reasoning. Short-term memory is believed to have the capacity of about 7 items (Miller 1956) and lasts for 20-30 seconds.\\n\\n\\nLong-Term Memory (LTM): Long-term memory can store information for a remarkably long time, ranging from a few days to decades, with an essentially unlimited storage capacity. There are two subtypes of LTM:\\n\\nExplicit / declarative memory: This is memory of facts and events, and refers to those memories that can be consciously recalled, including episodic memory (events and experiences) and semantic memory (facts and concepts).\\nImplicit / procedural memory: This type of memory is unconscious and involves skills and routines that are performed automatically, like riding a bike or typing on a keyboard.\\n\\n\\n\\n\\n\\nCategorization of human memory.\\n\\nWe can roughly consider the following mappings:\\n\\nSensory memory as learning embedding representations for raw inputs, including text, image or other modalities;\\nShort-term memory as in-context learning. It is short and finite, as it is restricted by the finite context window length of Transformer.\\nLong-term memory as the external vector store that the agent can attend to at query time, accessible via fast retrieval.\\n\\nMaximum Inner Product Search (MIPS)#\\nThe external memory can alleviate the restriction of finite attention span.  A standard practice is to save the embedding representation of information into a vector store database that can support fast maximum inner-product search (MIPS). To optimize the retrieval speed, the common choice is the approximate nearest neighbors (ANN)\\u200b algorithm to return approximately top k nearest neighbors to trade off a little accuracy lost for a huge speedup.\\nA couple common choices of ANN algorithms for fast MIPS:\\n\\nLSH (Locality-Sensitive Hashing): It introduces a hashing function such that similar input items are mapped to the same buckets with high probability, where the number of buckets is much smaller than the number of inputs.\\nANNOY (Approximate Nearest Neighbors Oh Yeah): The core data structure are random projection trees, a set of binary trees where each non-leaf node represents a hyperplane splitting the input space into half and each leaf stores one data point. Trees are built independently and at random, so to some extent, it mimics a hashing function. ANNOY search happens in all the trees to iteratively search through the half that is closest to the query and then aggregates the results. The idea is quite related to KD tree but a lot more scalable.\\nHNSW (Hierarchical Navigable Small World): It is inspired by the idea of small world networks where most nodes can be reached by any other nodes within a small number of steps; e.g. “six degrees of separation” feature of social networks. HNSW builds hierarchical layers of these small-world graphs, where the bottom layers contain the actual data points. The layers in the middle create shortcuts to speed up search. When performing a search, HNSW starts from a random node in the top layer and navigates towards the target. When it can’t get any closer, it moves down to the next layer, until it reaches the bottom layer. Each move in the upper layers can potentially cover a large distance in the data space, and each move in the lower layers refines the search quality.\\nFAISS (Facebook AI Similarity Search): It operates on the assumption that in high dimensional space, distances between nodes follow a Gaussian distribution and thus there should exist clustering of data points. FAISS applies vector quantization by partitioning the vector space into clusters and then refining the quantization within clusters. Search first looks for cluster candidates with coarse quantization and then further looks into each cluster with finer quantization.\\nScaNN (Scalable Nearest Neighbors): The main innovation in ScaNN is anisotropic vector quantization. It quantizes a data point $x_i$ to $\\\\tilde{x}_i$ such that the inner product $\\\\langle q, x_i \\\\rangle$ is as similar to the original distance of $\\\\angle q, \\\\tilde{x}_i$ as possible, instead of picking the closet quantization centroid points.\\n\\n\\n\\nComparison of MIPS algorithms, measured in recall@10. (Image source: Google Blog, 2020)\\n\\nCheck more MIPS algorithms and performance comparison in ann-benchmarks.com.\\nComponent Three: Tool Use#\\nTool use is a remarkable and distinguishing characteristic of human beings. We create, modify and utilize external objects to do things that go beyond our physical and cognitive limits. Equipping LLMs with external tools can significantly extend the model capabilities.\\n\\n\\nA picture of a sea otter using rock to crack open a seashell, while floating in the water. While some other animals can use tools, the complexity is not comparable with humans. (Image source: Animals using tools)\\n\\nMRKL (Karpas et al. 2022), short for “Modular Reasoning, Knowledge and Language”, is a neuro-symbolic architecture for autonomous agents. A MRKL system is proposed to contain a collection of “expert” modules and the general-purpose LLM works as a router to route inquiries to the best suitable expert module. These modules can be neural (e.g. deep learning models) or symbolic (e.g. math calculator, currency converter, weather API).\\nThey did an experiment on fine-tuning LLM to call a calculator, using arithmetic as a test case. Their experiments showed that it was harder to solve verbal math problems than explicitly stated math problems because LLMs (7B Jurassic1-large model) failed to extract the right arguments for the basic arithmetic reliably. The results highlight when the external symbolic tools can work reliably, knowing when to and how to use the tools are crucial, determined by the LLM capability.\\nBoth TALM (Tool Augmented Language Models; Parisi et al. 2022) and Toolformer (Schick et al. 2023) fine-tune a LM to learn to use external tool APIs. The dataset is expanded based on whether a newly added API call annotation can improve the quality of model outputs. See more details in the “External APIs” section of Prompt Engineering.\\nChatGPT Plugins and OpenAI API  function calling are good examples of LLMs augmented with tool use capability working in practice. The collection of tool APIs can be provided by other developers (as in Plugins) or self-defined (as in function calls).\\nHuggingGPT (Shen et al. 2023) is a framework to use ChatGPT as the task planner to select models available in HuggingFace platform according to the model descriptions and summarize the response based on the execution results.\\n\\n\\nIllustration of how HuggingGPT works. (Image source: Shen et al. 2023)\\n\\nThe system comprises of 4 stages:\\n(1) Task planning: LLM works as the brain and parses the user requests into multiple tasks. There are four attributes associated with each task: task type, ID, dependencies, and arguments. They use few-shot examples to guide LLM to do task parsing and planning.\\nInstruction:\\n\\nThe AI assistant can parse user input to several tasks: [{\"task\": task, \"id\", task_id, \"dep\": dependency_task_ids, \"args\": {\"text\": text, \"image\": URL, \"audio\": URL, \"video\": URL}}]. The \"dep\" field denotes the id of the previous task which generates a new resource that the current task relies on. A special tag \"-task_id\" refers to the generated text image, audio and video in the dependency task with id as task_id. The task MUST be selected from the following options: {{ Available Task List }}. There is a logical relationship between tasks, please note their order. If the user input can\\'t be parsed, you need to reply empty JSON. Here are several cases for your reference: {{ Demonstrations }}. The chat history is recorded as {{ Chat History }}. From this chat history, you can find the path of the user-mentioned resources for your task planning.\\n\\n(2) Model selection: LLM distributes the tasks to expert models, where the request is framed as a multiple-choice question. LLM is presented with a list of models to choose from. Due to the limited context length, task type based filtration is needed.\\nInstruction:\\n\\nGiven the user request and the call command, the AI assistant helps the user to select a suitable model from a list of models to process the user request. The AI assistant merely outputs the model id of the most appropriate model. The output must be in a strict JSON format: \"id\": \"id\", \"reason\": \"your detail reason for the choice\". We have a list of models for you to choose from {{ Candidate Models }}. Please select one model from the list.\\n\\n(3) Task execution: Expert models execute on the specific tasks and log results.\\nInstruction:\\n\\nWith the input and the inference results, the AI assistant needs to describe the process and results. The previous stages can be formed as - User Input: {{ User Input }}, Task Planning: {{ Tasks }}, Model Selection: {{ Model Assignment }}, Task Execution: {{ Predictions }}. You must first answer the user\\'s request in a straightforward manner. Then describe the task process and show your analysis and model inference results to the user in the first person. If inference results contain a file path, must tell the user the complete file path.\\n\\n(4) Response generation: LLM receives the execution results and provides summarized results to users.\\nTo put HuggingGPT into real world usage, a couple challenges need to solve: (1) Efficiency improvement is needed as both LLM inference rounds and interactions with other models slow down the process; (2) It relies on a long context window to communicate over complicated task content; (3) Stability improvement of LLM outputs and external model services.\\nAPI-Bank (Li et al. 2023) is a benchmark for evaluating the performance of tool-augmented LLMs. It contains 53 commonly used API tools, a complete tool-augmented LLM workflow, and 264 annotated dialogues that involve 568 API calls. The selection of APIs is quite diverse, including search engines, calculator, calendar queries, smart home control, schedule management, health data management, account authentication workflow and more. Because there are a large number of APIs, LLM first has access to API search engine to find the right API to call and then uses the corresponding documentation to make a call.\\n\\n\\nPseudo code of how LLM makes an API call in API-Bank. (Image source: Li et al. 2023)\\n\\nIn the API-Bank workflow, LLMs need to make a couple of decisions and at each step we can evaluate how accurate that decision is. Decisions include:\\n\\nWhether an API call is needed.\\nIdentify the right API to call: if not good enough, LLMs need to iteratively modify the API inputs (e.g. deciding search keywords for Search Engine API).\\nResponse based on the API results: the model can choose to refine and call again if results are not satisfied.\\n\\nThis benchmark evaluates the agent’s tool use capabilities at three levels:\\n\\nLevel-1 evaluates the ability to call the API. Given an API’s description, the model needs to determine whether to call a given API, call it correctly, and respond properly to API returns.\\nLevel-2 examines the ability to retrieve the API. The model needs to search for possible APIs that may solve the user’s requirement and learn how to use them by reading documentation.\\nLevel-3 assesses the ability to plan API beyond retrieve and call. Given unclear user requests (e.g. schedule group meetings, book flight/hotel/restaurant for a trip), the model may have to conduct multiple API calls to solve it.\\n\\nCase Studies#\\nScientific Discovery Agent#\\nChemCrow (Bran et al. 2023) is a domain-specific example in which LLM is augmented with 13 expert-designed tools to accomplish tasks across organic synthesis, drug discovery, and materials design. The workflow, implemented in LangChain, reflects what was previously described in the ReAct and MRKLs and combines CoT reasoning with tools relevant to the tasks:\\n\\nThe LLM is provided with a list of tool names, descriptions of their utility, and details about the expected input/output.\\nIt is then instructed to answer a user-given prompt using the tools provided when necessary. The instruction suggests the model to follow the ReAct format - Thought, Action, Action Input, Observation.\\n\\nOne interesting observation is that while the LLM-based evaluation concluded that GPT-4 and ChemCrow perform nearly equivalently, human evaluations with experts oriented towards the completion and chemical correctness of the solutions showed that ChemCrow outperforms GPT-4 by a large margin. This indicates a potential problem with using LLM to evaluate its own performance on domains that requires deep expertise. The lack of expertise may cause LLMs not knowing its flaws and thus cannot well judge the correctness of task results.\\nBoiko et al. (2023) also looked into LLM-empowered agents for scientific discovery, to handle autonomous design, planning, and performance of complex scientific experiments. This agent can use tools to browse the Internet, read documentation, execute code, call robotics experimentation APIs and leverage other LLMs.\\nFor example, when requested to \"develop a novel anticancer drug\", the model came up with the following reasoning steps:\\n\\ninquired about current trends in anticancer drug discovery;\\nselected a target;\\nrequested a scaffold targeting these compounds;\\nOnce the compound was identified, the model attempted its synthesis.\\n\\nThey also discussed the risks, especially with illicit drugs and bioweapons. They developed a test set containing a list of known chemical weapon agents and asked the agent to synthesize them. 4 out of 11 requests (36%) were accepted to obtain a synthesis solution and the agent attempted to consult documentation to execute the procedure. 7 out of 11 were rejected and among these 7 rejected cases, 5 happened after a Web search while 2 were rejected based on prompt only.\\nGenerative Agents Simulation#\\nGenerative Agents (Park, et al. 2023) is super fun experiment where 25 virtual characters, each controlled by a LLM-powered agent, are living and interacting in a sandbox environment, inspired by The Sims. Generative agents create believable simulacra of human behavior for interactive applications.\\nThe design of generative agents combines LLM with memory, planning and reflection mechanisms to enable agents to behave conditioned on past experience, as well as to interact with other agents.\\n\\nMemory stream: is a long-term memory module (external database) that records a comprehensive list of agents’ experience in natural language.\\n\\nEach element is an observation, an event directly provided by the agent.\\n- Inter-agent communication can trigger new natural language statements.\\n\\n\\nRetrieval model: surfaces the context to inform the agent’s behavior, according to relevance, recency and importance.\\n\\nRecency: recent events have higher scores\\nImportance: distinguish mundane from core memories. Ask LM directly.\\nRelevance: based on how related it is to the current situation / query.\\n\\n\\nReflection mechanism: synthesizes memories into higher level inferences over time and guides the agent’s future behavior. They are higher-level summaries of past events (<- note that this is a bit different from self-reflection above)\\n\\nPrompt LM with 100 most recent observations and to generate 3 most salient high-level questions given a set of observations/statements. Then ask LM to answer those questions.\\n\\n\\nPlanning & Reacting: translate the reflections and the environment information into actions\\n\\nPlanning is essentially in order to optimize believability at the moment vs in time.\\nPrompt template: {Intro of an agent X}. Here is X\\'s plan today in broad strokes: 1)\\nRelationships between agents and observations of one agent by another are all taken into consideration for planning and reacting.\\nEnvironment information is present in a tree structure.\\n\\n\\n\\n\\n\\nThe generative agent architecture. (Image source: Park et al. 2023)\\n\\nThis fun simulation results in emergent social behavior, such as information diffusion, relationship memory (e.g. two agents continuing the conversation topic) and coordination of social events (e.g. host a party and invite many others).\\nProof-of-Concept Examples#\\nAutoGPT has drawn a lot of attention into the possibility of setting up autonomous agents with LLM as the main controller. It has quite a lot of reliability issues given the natural language interface, but nevertheless a cool proof-of-concept demo. A lot of code in AutoGPT is about format parsing.\\nHere is the system message used by AutoGPT, where {{...}} are user inputs:\\nYou are {{ai-name}}, {{user-provided AI bot description}}.\\nYour decisions must always be made independently without seeking user assistance. Play to your strengths as an LLM and pursue simple strategies with no legal complications.\\n\\nGOALS:\\n\\n1. {{user-provided goal 1}}\\n2. {{user-provided goal 2}}\\n3. ...\\n4. ...\\n5. ...\\n\\nConstraints:\\n1. ~4000 word limit for short term memory. Your short term memory is short, so immediately save important information to files.\\n2. If you are unsure how you previously did something or want to recall past events, thinking about similar events will help you remember.\\n3. No user assistance\\n4. Exclusively use the commands listed in double quotes e.g. \"command name\"\\n5. Use subprocesses for commands that will not terminate within a few minutes\\n\\nCommands:\\n1. Google Search: \"google\", args: \"input\": \"<search>\"\\n2. Browse Website: \"browse_website\", args: \"url\": \"<url>\", \"question\": \"<what_you_want_to_find_on_website>\"\\n3. Start GPT Agent: \"start_agent\", args: \"name\": \"<name>\", \"task\": \"<short_task_desc>\", \"prompt\": \"<prompt>\"\\n4. Message GPT Agent: \"message_agent\", args: \"key\": \"<key>\", \"message\": \"<message>\"\\n5. List GPT Agents: \"list_agents\", args:\\n6. Delete GPT Agent: \"delete_agent\", args: \"key\": \"<key>\"\\n7. Clone Repository: \"clone_repository\", args: \"repository_url\": \"<url>\", \"clone_path\": \"<directory>\"\\n8. Write to file: \"write_to_file\", args: \"file\": \"<file>\", \"text\": \"<text>\"\\n9. Read file: \"read_file\", args: \"file\": \"<file>\"\\n10. Append to file: \"append_to_file\", args: \"file\": \"<file>\", \"text\": \"<text>\"\\n11. Delete file: \"delete_file\", args: \"file\": \"<file>\"\\n12. Search Files: \"search_files\", args: \"directory\": \"<directory>\"\\n13. Analyze Code: \"analyze_code\", args: \"code\": \"<full_code_string>\"\\n14. Get Improved Code: \"improve_code\", args: \"suggestions\": \"<list_of_suggestions>\", \"code\": \"<full_code_string>\"\\n15. Write Tests: \"write_tests\", args: \"code\": \"<full_code_string>\", \"focus\": \"<list_of_focus_areas>\"\\n16. Execute Python File: \"execute_python_file\", args: \"file\": \"<file>\"\\n17. Generate Image: \"generate_image\", args: \"prompt\": \"<prompt>\"\\n18. Send Tweet: \"send_tweet\", args: \"text\": \"<text>\"\\n19. Do Nothing: \"do_nothing\", args:\\n20. Task Complete (Shutdown): \"task_complete\", args: \"reason\": \"<reason>\"\\n\\nResources:\\n1. Internet access for searches and information gathering.\\n2. Long Term memory management.\\n3. GPT-3.5 powered Agents for delegation of simple tasks.\\n4. File output.\\n\\nPerformance Evaluation:\\n1. Continuously review and analyze your actions to ensure you are performing to the best of your abilities.\\n2. Constructively self-criticize your big-picture behavior constantly.\\n3. Reflect on past decisions and strategies to refine your approach.\\n4. Every command has a cost, so be smart and efficient. Aim to complete tasks in the least number of steps.\\n\\nYou should only respond in JSON format as described below\\nResponse Format:\\n{\\n    \"thoughts\": {\\n        \"text\": \"thought\",\\n        \"reasoning\": \"reasoning\",\\n        \"plan\": \"- short bulleted\\\\n- list that conveys\\\\n- long-term plan\",\\n        \"criticism\": \"constructive self-criticism\",\\n        \"speak\": \"thoughts summary to say to user\"\\n    },\\n    \"command\": {\\n        \"name\": \"command name\",\\n        \"args\": {\\n            \"arg name\": \"value\"\\n        }\\n    }\\n}\\nEnsure the response can be parsed by Python json.loads\\nGPT-Engineer is another project to create a whole repository of code given a task specified in natural language. The GPT-Engineer is instructed to think over a list of smaller components to build and ask for user input to clarify questions as needed.\\nHere are a sample conversation for task clarification sent to OpenAI ChatCompletion endpoint used by GPT-Engineer. The user inputs are wrapped in {{user input text}}.\\n[\\n  {\\n    \"role\": \"system\",\\n    \"content\": \"You will read instructions and not carry them out, only seek to clarify them.\\\\nSpecifically you will first summarise a list of super short bullets of areas that need clarification.\\\\nThen you will pick one clarifying question, and wait for an answer from the user.\\\\n\"\\n  },\\n  {\\n    \"role\": \"user\",\\n    \"content\": \"We are writing {{a Super Mario game in python. MVC components split in separate files. Keyboard control.}}\\\\n\"\\n  },\\n  {\\n    \"role\": \"assistant\",\\n    \"content\": \"Summary of areas that need clarification:\\\\n1. Specifics of the Super Mario game (e.g. level design, characters, gameplay mechanics)\\\\n2. Details about the MVC components (e.g. which components are in each file)\\\\n3. Keyboard control implementation (e.g. which keys to use, how to handle input)\\\\n\\\\nClarifying question:\\\\nCan you provide more details about the Super Mario game, such as level design, characters, and gameplay mechanics?\"\\n  },\\n  {\\n    \"role\": \"user\",\\n    \"content\": \"{{There are 10 levels in total. The main character is a plumber named Mario, who can walk and jump. It is a classical platform game just like Super Mario. The main character moves from left to right, trying to get to the destination, where there are many obstacles and attacks from enemies in the process.}}\\\\n\\\\nIs anything else unclear? If yes, only answer in the form:\\\\n{remaining unclear areas} remaining questions.\\\\n{Next question}\\\\nIf everything is sufficiently clear, only answer \\\\\"Nothing more to clarify.\\\\\".\"\\n  },\\n  {\\n    \"role\": \"assistant\",\\n    \"content\": \"Remaining unclear areas: 2 remaining questions.\\\\nCan you provide more information about how the MVC components are split into separate files?\"\\n  },\\n  {\\n    \"role\": \"user\",\\n    \"content\": \"{{Make your own assumptions and state them explicitly before starting}}\"\\n  }\\n]\\nThen after these clarification, the agent moved into the code writing mode with a different system message.\\nSystem message:\\n\\nYou will get instructions for code to write.\\nYou will write a very long answer. Make sure that every detail of the architecture is, in the end, implemented as code.\\nMake sure that every detail of the architecture is, in the end, implemented as code.\\nThink step by step and reason yourself to the right decisions to make sure we get it right.\\nYou will first lay out the names of the core classes, functions, methods that will be necessary, as well as a quick comment on their purpose.\\nThen you will output the content of each file including ALL code.\\nEach file must strictly follow a markdown code block format, where the following tokens must be replaced such that\\nFILENAME is the lowercase file name including the file extension,\\nLANG is the markup code block language for the code’s language, and CODE is the code:\\nFILENAME\\nCODE\\nYou will start with the “entrypoint” file, then go to the ones that are imported by that file, and so on.\\nPlease note that the code should be fully functional. No placeholders.\\nFollow a language and framework appropriate best practice file naming convention.\\nMake sure that files contain all imports, types etc. Make sure that code in different files are compatible with each other.\\nEnsure to implement all code, if you are unsure, write a plausible implementation.\\nInclude module dependency or package manager dependency definition file.\\nBefore you finish, double check that all parts of the architecture is present in the files.\\nUseful to know:\\nYou almost always put different classes in different files.\\nFor Python, you always create an appropriate requirements.txt file.\\nFor NodeJS, you always create an appropriate package.json file.\\nYou always add a comment briefly describing the purpose of the function definition.\\nYou try to add comments explaining very complex bits of logic.\\nYou always follow the best practices for the requested languages in terms of describing the code written as a defined\\npackage/project.\\nPython toolbelt preferences:\\n\\npytest\\ndataclasses\\n\\n\\nConversatin samples:\\n[\\n  {\\n    \"role\": \"system\",\\n    \"content\": \"You will get instructions for code to write.\\\\nYou will write a very long answer. Make sure that every detail of the architecture is, in the end, implemented as code.\\\\nMake sure that every detail of the architecture is, in the end, implemented as code.\\\\n\\\\nThink step by step and reason yourself to the right decisions to make sure we get it right.\\\\nYou will first lay out the names of the core classes, functions, methods that will be necessary, as well as a quick comment on their purpose.\\\\n\\\\nThen you will output the content of each file including ALL code.\\\\nEach file must strictly follow a markdown code block format, where the following tokens must be replaced such that\\\\nFILENAME is the lowercase file name including the file extension,\\\\nLANG is the markup code block language for the code\\'s language, and CODE is the code:\\\\n\\\\nFILENAME\\\\n```LANG\\\\nCODE\\\\n```\\\\n\\\\nYou will start with the \\\\\"entrypoint\\\\\" file, then go to the ones that are imported by that file, and so on.\\\\nPlease note that the code should be fully functional. No placeholders.\\\\n\\\\nFollow a language and framework appropriate best practice file naming convention.\\\\nMake sure that files contain all imports, types etc. Make sure that code in different files are compatible with each other.\\\\nEnsure to implement all code, if you are unsure, write a plausible implementation.\\\\nInclude module dependency or package manager dependency definition file.\\\\nBefore you finish, double check that all parts of the architecture is present in the files.\\\\n\\\\nUseful to know:\\\\nYou almost always put different classes in different files.\\\\nFor Python, you always create an appropriate requirements.txt file.\\\\nFor NodeJS, you always create an appropriate package.json file.\\\\nYou always add a comment briefly describing the purpose of the function definition.\\\\nYou try to add comments explaining very complex bits of logic.\\\\nYou always follow the best practices for the requested languages in terms of describing the code written as a defined\\\\npackage/project.\\\\n\\\\n\\\\nPython toolbelt preferences:\\\\n- pytest\\\\n- dataclasses\\\\n\"\\n  },\\n #  … same conversation as earlier, ended with \"Make your own assumptions and state them explicitly before starting\".\\n  {\\n    \"role\": \"assistant\",\\n    \"content\": \"Assumptions:\\\\n1. Model: The model will contain the game\\'s data, such as level information, character states, and enemy positions.\\\\n2. View: The view will handle the game\\'s visuals, including rendering the game objects, backgrounds, and updating the display.\\\\n3. Controller: The controller will manage user input, such as keyboard controls, and update the model accordingly.\\\\n\\\\nWith these assumptions in mind, is there any specific aspect of the keyboard control implementation you would like me to clarify?\"\\n  },\\n  {\\n    \"role\": \"user\",\\n    \"content\": \"Please now remember the steps:\\\\n\\\\nThink step by step and reason yourself to the right decisions to make sure we get it right.\\\\nFirst lay out the names of the core classes, functions, methods that will be necessary, As well as a quick comment on their purpose.\\\\n\\\\nThen you will output the content of each file including ALL code.\\\\nEach file must strictly follow a markdown code block format, where the following tokens must be replaced such that\\\\nFILENAME is the lowercase file name including the file extension,\\\\nLANG is the markup code block language for the code\\'s language, and CODE is the code:\\\\n\\\\nFILENAME\\\\n```LANG\\\\nCODE\\\\n```\\\\n\\\\nPlease note that the code should be fully functional. No placeholders.\\\\n\\\\nYou will start with the \\\\\"entrypoint\\\\\" file, then go to the ones that are imported by that file, and so on.\\\\nFollow a language and framework appropriate best practice file naming convention.\\\\nMake sure that files contain all imports, types etc. The code should be fully functional. Make sure that code in different files are compatible with each other.\\\\nBefore you finish, double check that all parts of the architecture is present in the files.\\\\n\"\\n  }\\n]\\nChallenges#\\nAfter going through key ideas and demos of building LLM-centered agents, I start to see a couple common limitations:\\n\\n\\nFinite context length: The restricted context capacity limits the inclusion of historical information, detailed instructions, API call context, and responses. The design of the system has to work with this limited communication bandwidth, while mechanisms like self-reflection to learn from past mistakes would benefit a lot from long or infinite context windows. Although vector stores and retrieval can provide access to a larger knowledge pool, their representation power is not as powerful as full attention.\\n\\n\\nChallenges in long-term planning and task decomposition: Planning over a lengthy history and effectively exploring the solution space remain challenging. LLMs struggle to adjust plans when faced with unexpected errors, making them less robust compared to humans who learn from trial and error.\\n\\n\\nReliability of natural language interface: Current agent system relies on natural language as an interface between LLMs and external components such as memory and tools. However, the reliability of model outputs is questionable, as LLMs may make formatting errors and occasionally exhibit rebellious behavior (e.g. refuse to follow an instruction). Consequently, much of the agent demo code focuses on parsing model output.\\n\\n\\nCitation#\\nCited as:\\n\\nWeng, Lilian. (Jun 2023). “LLM-powered Autonomous Agents”. Lil’Log. https://lilianweng.github.io/posts/2023-06-23-agent/.\\n\\nOr\\n@article{weng2023agent,\\n  title   = \"LLM-powered Autonomous Agents\",\\n  author  = \"Weng, Lilian\",\\n  journal = \"lilianweng.github.io\",\\n  year    = \"2023\",\\n  month   = \"Jun\",\\n  url     = \"https://lilianweng.github.io/posts/2023-06-23-agent/\"\\n}\\nReferences#\\n[1] Wei et al. “Chain of thought prompting elicits reasoning in large language models.” NeurIPS 2022\\n[2] Yao et al. “Tree of Thoughts: Dliberate Problem Solving with Large Language Models.” arXiv preprint arXiv:2305.10601 (2023).\\n[3] Liu et al. “Chain of Hindsight Aligns Language Models with Feedback\\n“ arXiv preprint arXiv:2302.02676 (2023).\\n[4] Liu et al. “LLM+P: Empowering Large Language Models with Optimal Planning Proficiency” arXiv preprint arXiv:2304.11477 (2023).\\n[5] Yao et al. “ReAct: Synergizing reasoning and acting in language models.” ICLR 2023.\\n[6] Google Blog. “Announcing ScaNN: Efficient Vector Similarity Search” July 28, 2020.\\n[7] https://chat.openai.com/share/46ff149e-a4c7-4dd7-a800-fc4a642ea389\\n[8] Shinn & Labash. “Reflexion: an autonomous agent with dynamic memory and self-reflection” arXiv preprint arXiv:2303.11366 (2023).\\n[9] Laskin et al. “In-context Reinforcement Learning with Algorithm Distillation” ICLR 2023.\\n[10] Karpas et al. “MRKL Systems A modular, neuro-symbolic architecture that combines large language models, external knowledge sources and discrete reasoning.” arXiv preprint arXiv:2205.00445 (2022).\\n[11] Nakano et al. “Webgpt: Browser-assisted question-answering with human feedback.” arXiv preprint arXiv:2112.09332 (2021).\\n[12] Parisi et al. “TALM: Tool Augmented Language Models”\\n[13] Schick et al. “Toolformer: Language Models Can Teach Themselves to Use Tools.” arXiv preprint arXiv:2302.04761 (2023).\\n[14] Weaviate Blog. Why is Vector Search so fast? Sep 13, 2022.\\n[15] Li et al. “API-Bank: A Benchmark for Tool-Augmented LLMs” arXiv preprint arXiv:2304.08244 (2023).\\n[16] Shen et al. “HuggingGPT: Solving AI Tasks with ChatGPT and its Friends in HuggingFace” arXiv preprint arXiv:2303.17580 (2023).\\n[17] Bran et al. “ChemCrow: Augmenting large-language models with chemistry tools.” arXiv preprint arXiv:2304.05376 (2023).\\n[18] Boiko et al. “Emergent autonomous scientific research capabilities of large language models.” arXiv preprint arXiv:2304.05332 (2023).\\n[19] Joon Sung Park, et al. “Generative Agents: Interactive Simulacra of Human Behavior.” arXiv preprint arXiv:2304.03442 (2023).\\n[20] AutoGPT. https://github.com/Significant-Gravitas/Auto-GPT\\n[21] GPT-Engineer. https://github.com/AntonOsika/gpt-engineer\\n')]"
      ]
     },
     "execution_count": 70,
     "metadata": {},
     "output_type": "execute_result"
    }
   ],
   "source": [
    "loader = WebBaseLoader(web_path=('https://lilianweng.github.io/posts/2023-06-23-agent/'),bs_kwargs=dict(parse_only=bs4.SoupStrainer(class_=(\"post-title\",\"post-content\"))))\n",
    "loader.load()"
   ]
  },
  {
   "cell_type": "code",
   "execution_count": 71,
   "id": "eaa7afd7-56fe-469d-a34b-9b062f2b5463",
   "metadata": {},
   "outputs": [
    {
     "data": {
      "text/plain": [
       "<langchain_community.document_loaders.wikipedia.WikipediaLoader at 0x1c90374acf0>"
      ]
     },
     "execution_count": 71,
     "metadata": {},
     "output_type": "execute_result"
    }
   ],
   "source": [
    "from langchain_community.document_loaders import WikipediaLoader\n",
    "\n",
    "WikipediaLoader(query=\"Generative AI\")"
   ]
  },
  {
   "cell_type": "code",
   "execution_count": 72,
   "id": "82874e43-2ea6-425b-bff1-804aa5f1b1f8",
   "metadata": {
    "scrolled": true
   },
   "outputs": [
    {
     "ename": "ImportError",
     "evalue": "Could not import wikipedia python package. Please install it with `pip install wikipedia`.",
     "output_type": "error",
     "traceback": [
      "\u001b[1;31m---------------------------------------------------------------------------\u001b[0m",
      "\u001b[1;31mModuleNotFoundError\u001b[0m                       Traceback (most recent call last)",
      "File \u001b[1;32m~\\AppData\\Roaming\\Python\\Python313\\site-packages\\langchain_community\\utilities\\wikipedia.py:35\u001b[0m, in \u001b[0;36mWikipediaAPIWrapper.validate_environment\u001b[1;34m(cls, values)\u001b[0m\n\u001b[0;32m     34\u001b[0m \u001b[38;5;28;01mtry\u001b[39;00m:\n\u001b[1;32m---> 35\u001b[0m     \u001b[38;5;28;01mimport\u001b[39;00m\u001b[38;5;250m \u001b[39m\u001b[38;5;21;01mwikipedia\u001b[39;00m\n\u001b[0;32m     37\u001b[0m     lang \u001b[38;5;241m=\u001b[39m values\u001b[38;5;241m.\u001b[39mget(\u001b[38;5;124m\"\u001b[39m\u001b[38;5;124mlang\u001b[39m\u001b[38;5;124m\"\u001b[39m, \u001b[38;5;124m\"\u001b[39m\u001b[38;5;124men\u001b[39m\u001b[38;5;124m\"\u001b[39m)\n",
      "\u001b[1;31mModuleNotFoundError\u001b[0m: No module named 'wikipedia'",
      "\nDuring handling of the above exception, another exception occurred:\n",
      "\u001b[1;31mImportError\u001b[0m                               Traceback (most recent call last)",
      "Cell \u001b[1;32mIn[72], line 2\u001b[0m\n\u001b[0;32m      1\u001b[0m loader \u001b[38;5;241m=\u001b[39m WikipediaLoader(query\u001b[38;5;241m=\u001b[39m\u001b[38;5;124m\"\u001b[39m\u001b[38;5;124mGenerative AI\u001b[39m\u001b[38;5;124m\"\u001b[39m)\n\u001b[1;32m----> 2\u001b[0m loader\u001b[38;5;241m.\u001b[39mload()\n",
      "File \u001b[1;32m~\\AppData\\Roaming\\Python\\Python313\\site-packages\\langchain_core\\document_loaders\\base.py:32\u001b[0m, in \u001b[0;36mBaseLoader.load\u001b[1;34m(self)\u001b[0m\n\u001b[0;32m     30\u001b[0m \u001b[38;5;28;01mdef\u001b[39;00m\u001b[38;5;250m \u001b[39m\u001b[38;5;21mload\u001b[39m(\u001b[38;5;28mself\u001b[39m) \u001b[38;5;241m-\u001b[39m\u001b[38;5;241m>\u001b[39m \u001b[38;5;28mlist\u001b[39m[Document]:\n\u001b[0;32m     31\u001b[0m \u001b[38;5;250m    \u001b[39m\u001b[38;5;124;03m\"\"\"Load data into Document objects.\"\"\"\u001b[39;00m\n\u001b[1;32m---> 32\u001b[0m     \u001b[38;5;28;01mreturn\u001b[39;00m \u001b[38;5;28mlist\u001b[39m(\u001b[38;5;28mself\u001b[39m\u001b[38;5;241m.\u001b[39mlazy_load())\n",
      "File \u001b[1;32m~\\AppData\\Roaming\\Python\\Python313\\site-packages\\langchain_community\\document_loaders\\wikipedia.py:53\u001b[0m, in \u001b[0;36mWikipediaLoader.lazy_load\u001b[1;34m(self)\u001b[0m\n\u001b[0;32m     45\u001b[0m \u001b[38;5;28;01mdef\u001b[39;00m\u001b[38;5;250m \u001b[39m\u001b[38;5;21mlazy_load\u001b[39m(\u001b[38;5;28mself\u001b[39m) \u001b[38;5;241m-\u001b[39m\u001b[38;5;241m>\u001b[39m Iterator[Document]:\n\u001b[0;32m     46\u001b[0m \u001b[38;5;250m    \u001b[39m\u001b[38;5;124;03m\"\"\"\u001b[39;00m\n\u001b[0;32m     47\u001b[0m \u001b[38;5;124;03m    Loads the query result from Wikipedia into a list of Documents.\u001b[39;00m\n\u001b[0;32m     48\u001b[0m \n\u001b[1;32m   (...)\u001b[0m\n\u001b[0;32m     51\u001b[0m \u001b[38;5;124;03m            Wikipedia pages.\u001b[39;00m\n\u001b[0;32m     52\u001b[0m \u001b[38;5;124;03m    \"\"\"\u001b[39;00m\n\u001b[1;32m---> 53\u001b[0m     client \u001b[38;5;241m=\u001b[39m WikipediaAPIWrapper(  \u001b[38;5;66;03m# type: ignore[call-arg]\u001b[39;00m\n\u001b[0;32m     54\u001b[0m         lang\u001b[38;5;241m=\u001b[39m\u001b[38;5;28mself\u001b[39m\u001b[38;5;241m.\u001b[39mlang,\n\u001b[0;32m     55\u001b[0m         top_k_results\u001b[38;5;241m=\u001b[39m\u001b[38;5;28mself\u001b[39m\u001b[38;5;241m.\u001b[39mload_max_docs,  \u001b[38;5;66;03m# type: ignore[arg-type]\u001b[39;00m\n\u001b[0;32m     56\u001b[0m         load_all_available_meta\u001b[38;5;241m=\u001b[39m\u001b[38;5;28mself\u001b[39m\u001b[38;5;241m.\u001b[39mload_all_available_meta,  \u001b[38;5;66;03m# type: ignore[arg-type]\u001b[39;00m\n\u001b[0;32m     57\u001b[0m         doc_content_chars_max\u001b[38;5;241m=\u001b[39m\u001b[38;5;28mself\u001b[39m\u001b[38;5;241m.\u001b[39mdoc_content_chars_max,  \u001b[38;5;66;03m# type: ignore[arg-type]\u001b[39;00m\n\u001b[0;32m     58\u001b[0m     )\n\u001b[0;32m     59\u001b[0m     \u001b[38;5;28;01myield from\u001b[39;00m client\u001b[38;5;241m.\u001b[39mload(\u001b[38;5;28mself\u001b[39m\u001b[38;5;241m.\u001b[39mquery)\n",
      "    \u001b[1;31m[... skipping hidden 1 frame]\u001b[0m\n",
      "File \u001b[1;32m~\\AppData\\Roaming\\Python\\Python313\\site-packages\\langchain_community\\utilities\\wikipedia.py:41\u001b[0m, in \u001b[0;36mWikipediaAPIWrapper.validate_environment\u001b[1;34m(cls, values)\u001b[0m\n\u001b[0;32m     39\u001b[0m     values[\u001b[38;5;124m\"\u001b[39m\u001b[38;5;124mwiki_client\u001b[39m\u001b[38;5;124m\"\u001b[39m] \u001b[38;5;241m=\u001b[39m wikipedia\n\u001b[0;32m     40\u001b[0m \u001b[38;5;28;01mexcept\u001b[39;00m \u001b[38;5;167;01mImportError\u001b[39;00m:\n\u001b[1;32m---> 41\u001b[0m     \u001b[38;5;28;01mraise\u001b[39;00m \u001b[38;5;167;01mImportError\u001b[39;00m(\n\u001b[0;32m     42\u001b[0m         \u001b[38;5;124m\"\u001b[39m\u001b[38;5;124mCould not import wikipedia python package. \u001b[39m\u001b[38;5;124m\"\u001b[39m\n\u001b[0;32m     43\u001b[0m         \u001b[38;5;124m\"\u001b[39m\u001b[38;5;124mPlease install it with `pip install wikipedia`.\u001b[39m\u001b[38;5;124m\"\u001b[39m\n\u001b[0;32m     44\u001b[0m     )\n\u001b[0;32m     45\u001b[0m \u001b[38;5;28;01mreturn\u001b[39;00m values\n",
      "\u001b[1;31mImportError\u001b[0m: Could not import wikipedia python package. Please install it with `pip install wikipedia`."
     ]
    }
   ],
   "source": [
    "loader = WikipediaLoader(query=\"Generative AI\")\n",
    "loader.load()"
   ]
  },
  {
   "cell_type": "code",
   "execution_count": 73,
   "id": "f4bab67a-d9ff-405d-84e1-f25324086a6b",
   "metadata": {},
   "outputs": [
    {
     "name": "stdout",
     "output_type": "stream",
     "text": [
      "Defaulting to user installation because normal site-packages is not writeableNote: you may need to restart the kernel to use updated packages.\n"
     ]
    },
    {
     "name": "stderr",
     "output_type": "stream",
     "text": [
      "  DEPRECATION: Building 'wikipedia' using the legacy setup.py bdist_wheel mechanism, which will be removed in a future version. pip 25.3 will enforce this behaviour change. A possible replacement is to use the standardized build interface by setting the `--use-pep517` option, (possibly combined with `--no-build-isolation`), or adding a `pyproject.toml` file to the source tree of 'wikipedia'. Discussion can be found at https://github.com/pypa/pip/issues/6334\n"
     ]
    },
    {
     "name": "stdout",
     "output_type": "stream",
     "text": [
      "\n",
      "Collecting wikipedia\n",
      "  Downloading wikipedia-1.4.0.tar.gz (27 kB)\n",
      "  Preparing metadata (setup.py): started\n",
      "  Preparing metadata (setup.py): finished with status 'done'\n",
      "Requirement already satisfied: beautifulsoup4 in c:\\programdata\\anaconda3\\lib\\site-packages (from wikipedia) (4.12.3)\n",
      "Requirement already satisfied: requests<3.0.0,>=2.0.0 in c:\\programdata\\anaconda3\\lib\\site-packages (from wikipedia) (2.32.3)\n",
      "Requirement already satisfied: charset-normalizer<4,>=2 in c:\\programdata\\anaconda3\\lib\\site-packages (from requests<3.0.0,>=2.0.0->wikipedia) (3.3.2)\n",
      "Requirement already satisfied: idna<4,>=2.5 in c:\\programdata\\anaconda3\\lib\\site-packages (from requests<3.0.0,>=2.0.0->wikipedia) (3.7)\n",
      "Requirement already satisfied: urllib3<3,>=1.21.1 in c:\\programdata\\anaconda3\\lib\\site-packages (from requests<3.0.0,>=2.0.0->wikipedia) (2.3.0)\n",
      "Requirement already satisfied: certifi>=2017.4.17 in c:\\programdata\\anaconda3\\lib\\site-packages (from requests<3.0.0,>=2.0.0->wikipedia) (2025.6.15)\n",
      "Requirement already satisfied: soupsieve>1.2 in c:\\programdata\\anaconda3\\lib\\site-packages (from beautifulsoup4->wikipedia) (2.5)\n",
      "Building wheels for collected packages: wikipedia\n",
      "  Building wheel for wikipedia (setup.py): started\n",
      "  Building wheel for wikipedia (setup.py): finished with status 'done'\n",
      "  Created wheel for wikipedia: filename=wikipedia-1.4.0-py3-none-any.whl size=11704 sha256=76e03d52b613ffd1f1255d6555ac43da3d517e65b0e6f7f2d60a71e70ce2deae\n",
      "  Stored in directory: c:\\users\\karth\\appdata\\local\\pip\\cache\\wheels\\79\\1d\\c8\\b64e19423cc5a2a339450ea5d145e7c8eb3d4aa2b150cde33b\n",
      "Successfully built wikipedia\n",
      "Installing collected packages: wikipedia\n",
      "Successfully installed wikipedia-1.4.0\n"
     ]
    }
   ],
   "source": [
    "pip install wikipedia"
   ]
  },
  {
   "cell_type": "code",
   "execution_count": 76,
   "id": "1d92e114-ffb2-4fe3-a90c-43a0a096d6e4",
   "metadata": {},
   "outputs": [
    {
     "data": {
      "text/plain": [
       "[Document(metadata={'title': 'Generative artificial intelligence', 'summary': 'Generative artificial intelligence (Generative AI, GenAI, or GAI) is a subfield of artificial intelligence that uses generative models to produce text, images, videos, or other forms of data. These models learn the underlying patterns and structures of their training data and use them to produce new data based on the input, which often comes in the form of natural language prompts.\\nGenerative AI tools have become more common since the AI boom in the 2020s. This boom was made possible by improvements in transformer-based deep neural networks, particularly large language models (LLMs). Major tools include chatbots such as ChatGPT, Copilot, Gemini, Claude, Grok, and DeepSeek; text-to-image models such as Stable Diffusion, Midjourney, and DALL-E; and text-to-video models such as Veo, LTXV and Sora. Technology companies developing generative AI include OpenAI, Anthropic, Meta AI, Microsoft, Google, DeepSeek, and Baidu.\\nGenerative AI has raised many ethical questions and governance challenges as it can be used for cybercrime, or to deceive or manipulate people through fake news or deepfakes. Even if used ethically, it may lead to mass replacement of human jobs. The tools themselves have been criticized as violating intellectual property laws, since they are trained on copyrighted works.\\nGenerative AI is used across many industries. Examples include software development, healthcare, finance, entertainment, customer service, sales and marketing, art, writing, fashion, and product design.', 'source': 'https://en.wikipedia.org/wiki/Generative_artificial_intelligence'}, page_content='Generative artificial intelligence (Generative AI, GenAI, or GAI) is a subfield of artificial intelligence that uses generative models to produce text, images, videos, or other forms of data. These models learn the underlying patterns and structures of their training data and use them to produce new data based on the input, which often comes in the form of natural language prompts.\\nGenerative AI tools have become more common since the AI boom in the 2020s. This boom was made possible by improvements in transformer-based deep neural networks, particularly large language models (LLMs). Major tools include chatbots such as ChatGPT, Copilot, Gemini, Claude, Grok, and DeepSeek; text-to-image models such as Stable Diffusion, Midjourney, and DALL-E; and text-to-video models such as Veo, LTXV and Sora. Technology companies developing generative AI include OpenAI, Anthropic, Meta AI, Microsoft, Google, DeepSeek, and Baidu.\\nGenerative AI has raised many ethical questions and governance challenges as it can be used for cybercrime, or to deceive or manipulate people through fake news or deepfakes. Even if used ethically, it may lead to mass replacement of human jobs. The tools themselves have been criticized as violating intellectual property laws, since they are trained on copyrighted works.\\nGenerative AI is used across many industries. Examples include software development, healthcare, finance, entertainment, customer service, sales and marketing, art, writing, fashion, and product design.\\n\\n\\n== History ==\\n\\n\\n=== Early history ===\\nThe first example of an algorithmically generated media is likely the Markov chain. Markov chains have long been used to model natural languages since their development by Russian mathematician Andrey Markov in the early 20th century. Markov published his first paper on the topic in 1906, and analyzed the pattern of vowels and consonants in the novel Eugeny Onegin using Markov chains. Once a Markov chain is trained on a text corpus, it can then be used as a probabilistic text generator.\\nComputers were needed to go beyond Markov chains. By the early 1970s, Harold Cohen was creating and exhibiting generative AI works created by AARON, the computer program Cohen created to generate paintings.\\nThe terms generative AI planning or generative planning were used in the 1980s and 1990s to refer to AI planning systems, especially computer-aided process planning, used to generate sequences of actions to reach a specified goal. Generative AI planning systems used symbolic AI methods such as state space search and constraint satisfaction and were a \"relatively mature\" technology by the early 1990s. They were used to generate crisis action plans for military use, process plans for manufacturing and decision plans such as in prototype autonomous spacecraft.\\n\\n\\n=== Generative neural networks (2014–2019) ===\\n\\nSince its inception, the field of machine learning has used both discriminative models and generative models to model and predict data. Beginning in the late 2000s, the emergence of deep learning drove progress, and research in image classification, speech recognition, natural language processing and other tasks. Neural networks in this era were typically trained as discriminative models due to the difficulty of generative modeling.\\nIn 2014, advancements such as the variational autoencoder and generative adversarial network produced the first practical deep neural networks capable of learning generative models, as opposed to discriminative ones, for complex data such as images. These deep generative models were the first to output not only class labels for images but also entire images.\\nIn 2017, the Transformer network enabled advancements in generative models compared to older Long-Short Term Memory models, leading to the first generative pre-trained transformer (GPT), known as GPT-1, in 2018. This was followed in 2019 by GPT-2, which demonstrated the ability to generalize unsupervised to many different tasks as a Foundatio'),\n",
       " Document(metadata={'title': 'Generative AI pornography', 'summary': 'Generative AI pornography or simply AI pornography is a digitally created pornography produced through generative artificial intelligence (AI) technologies. Unlike traditional pornography, which involves real actors and cameras, this content is synthesized entirely by AI algorithms. These algorithms, including Generative adversarial network (GANs) and text-to-image models, generate lifelike images, videos, or animations from textual descriptions or datasets.', 'source': 'https://en.wikipedia.org/wiki/Generative_AI_pornography'}, page_content='Generative AI pornography or simply AI pornography is a digitally created pornography produced through generative artificial intelligence (AI) technologies. Unlike traditional pornography, which involves real actors and cameras, this content is synthesized entirely by AI algorithms. These algorithms, including Generative adversarial network (GANs) and text-to-image models, generate lifelike images, videos, or animations from textual descriptions or datasets.\\n\\n\\n== History ==\\nThe use of generative AI in the adult industry began in the late 2010s, initially focusing on AI-generated art, music, and visual content. This trend accelerated in 2022 with Stability AI\\'s release of Stable Diffusion (SD), an open-source text-to-image model that enables users to generate images, including NSFW content, from text prompts using the LAION-Aesthetics subset of the LAION-5B dataset. Despite Stability AI\\'s warnings against sexual imagery, SD\\'s public release led to dedicated communities exploring both artistic and explicit content, sparking ethical debates over open-access AI and its use in adult media. By 2020, AI tools had advanced to generate highly realistic adult content, amplifying calls for regulation.\\n\\n\\n=== AI-generated influencers ===\\nOne application of generative AI technology is the creation of AI-generated influencers on platforms such as OnlyFans and Instagram. These AI personas interact with users in ways that can mimic real human engagement, offering an entirely synthetic but convincing experience. While popular among niche audiences, these virtual influencers have prompted discussions about authenticity, consent, and the blurring line between human and AI-generated content, especially in adult entertainment.\\n\\n\\n=== The growth of AI porn sites ===\\nBy 2023, websites dedicated to AI-generated adult content had gained traction, catering to audiences seeking customizable experiences. These platforms allow users to create or view AI-generated pornography tailored to their preferences. These platforms enable users to create or view AI-generated adult content appealing to different preferences through prompts and tags, customizing body type, facial features, and art styles. Tags further refine the output, creating niche and diverse content. Many sites feature extensive image libraries and continuous content feeds, combining personalization with discovery and enhancing user engagement. AI porn sites, therefore, attract those seeking unique or niche experiences, sparking debates on creativity and the ethical boundaries of AI in adult media.\\n\\n\\n== Ethical concerns and misuse ==\\nThe growth of generative AI pornography has also attracted some cause for criticism. AI technology can be exploited to create non-consensual pornographic material, posing risks similar to those seen with deepfake revenge porn and AI-generated NCII (Non-Consensual Intimate Image). A 2023 analysis found that 98% of deepfake videos online are pornographic, with 99% of the victims being women. Some famous celebrities victims of deepfake include Scarlett Johansson, Taylor Swift, and Maisie Williams.\\nOpenAI is exploring whether NSFW content, such as erotica, can be responsibly generated in age-appropriate contexts while maintaining its ban on deepfakes. This proposal has attracted criticism from child safety campaigners who argue it undermines OpenAI\\'s mission to develop \"safe and beneficial\" AI. Additionally, the Internet Watch Foundation has raised concerns about AI being used to generate sexual abuse content involving children.\\n\\n\\n=== AI-generated non-consensual intimate imagery (AI Undress) ===\\nSeveral US states are taking actions against using deepfake apps and sharing them on the internet. In 2024, San Francisco filed a landmark lawsuit to shut down \"undress\" apps that allow users to generate non-consensual AI nude images, citing violations of state laws. The case aligns with California\\'s recent legislation—SB 926, SB 942, and SB 981—championed by Senators Aisha Wahab a')]"
      ]
     },
     "execution_count": 76,
     "metadata": {},
     "output_type": "execute_result"
    }
   ],
   "source": [
    "loader = WikipediaLoader(query=\"Generative AI\")\n",
    "#help(WikipediaLoader)\n",
    "loader = WikipediaLoader(query=\"Generative AI\",load_max_docs=2)\n",
    "loader.load()"
   ]
  },
  {
   "cell_type": "code",
   "execution_count": 77,
   "id": "caa4e6a0-447b-43b3-9ab9-dab04f3db423",
   "metadata": {
    "collapsed": true,
    "jupyter": {
     "outputs_hidden": true
    }
   },
   "outputs": [
    {
     "data": {
      "text/plain": [
       "['AZLyricsLoader',\n",
       " 'AcreomLoader',\n",
       " 'AirbyteCDKLoader',\n",
       " 'AirbyteGongLoader',\n",
       " 'AirbyteHubspotLoader',\n",
       " 'AirbyteJSONLoader',\n",
       " 'AirbyteSalesforceLoader',\n",
       " 'AirbyteShopifyLoader',\n",
       " 'AirbyteStripeLoader',\n",
       " 'AirbyteTypeformLoader',\n",
       " 'AirbyteZendeskSupportLoader',\n",
       " 'AirtableLoader',\n",
       " 'AmazonTextractPDFLoader',\n",
       " 'ApifyDatasetLoader',\n",
       " 'ArcGISLoader',\n",
       " 'ArxivLoader',\n",
       " 'AssemblyAIAudioLoaderById',\n",
       " 'AssemblyAIAudioTranscriptLoader',\n",
       " 'AstraDBLoader',\n",
       " 'AsyncChromiumLoader',\n",
       " 'AsyncHtmlLoader',\n",
       " 'AthenaLoader',\n",
       " 'AzureAIDataLoader',\n",
       " 'AzureAIDocumentIntelligenceLoader',\n",
       " 'AzureBlobStorageContainerLoader',\n",
       " 'AzureBlobStorageFileLoader',\n",
       " 'BSHTMLLoader',\n",
       " 'BibtexLoader',\n",
       " 'BigQueryLoader',\n",
       " 'BiliBiliLoader',\n",
       " 'BlackboardLoader',\n",
       " 'Blob',\n",
       " 'BlobLoader',\n",
       " 'BlockchainDocumentLoader',\n",
       " 'BraveSearchLoader',\n",
       " 'BrowserbaseLoader',\n",
       " 'BrowserlessLoader',\n",
       " 'CSVLoader',\n",
       " 'CassandraLoader',\n",
       " 'ChatGPTLoader',\n",
       " 'CloudBlobLoader',\n",
       " 'CoNLLULoader',\n",
       " 'CollegeConfidentialLoader',\n",
       " 'ConcurrentLoader',\n",
       " 'ConfluenceLoader',\n",
       " 'CouchbaseLoader',\n",
       " 'CubeSemanticLoader',\n",
       " 'DataFrameLoader',\n",
       " 'DatadogLogsLoader',\n",
       " 'DedocAPIFileLoader',\n",
       " 'DedocFileLoader',\n",
       " 'DedocPDFLoader',\n",
       " 'DiffbotLoader',\n",
       " 'DirectoryLoader',\n",
       " 'DiscordChatLoader',\n",
       " 'DocugamiLoader',\n",
       " 'DocusaurusLoader',\n",
       " 'Docx2txtLoader',\n",
       " 'DropboxLoader',\n",
       " 'DuckDBLoader',\n",
       " 'EtherscanLoader',\n",
       " 'EverNoteLoader',\n",
       " 'FacebookChatLoader',\n",
       " 'FaunaLoader',\n",
       " 'FigmaFileLoader',\n",
       " 'FireCrawlLoader',\n",
       " 'FileSystemBlobLoader',\n",
       " 'GCSDirectoryLoader',\n",
       " 'GlueCatalogLoader',\n",
       " 'GCSFileLoader',\n",
       " 'GeoDataFrameLoader',\n",
       " 'GitHubIssuesLoader',\n",
       " 'GitLoader',\n",
       " 'GitbookLoader',\n",
       " 'GithubFileLoader',\n",
       " 'GoogleApiClient',\n",
       " 'GoogleApiYoutubeLoader',\n",
       " 'GoogleDriveLoader',\n",
       " 'GoogleSpeechToTextLoader',\n",
       " 'GutenbergLoader',\n",
       " 'HNLoader',\n",
       " 'HuggingFaceDatasetLoader',\n",
       " 'HuggingFaceModelLoader',\n",
       " 'IFixitLoader',\n",
       " 'ImageCaptionLoader',\n",
       " 'IMSDbLoader',\n",
       " 'IuguLoader',\n",
       " 'JoplinLoader',\n",
       " 'JSONLoader',\n",
       " 'KineticaLoader',\n",
       " 'LakeFSLoader',\n",
       " 'LarkSuiteDocLoader',\n",
       " 'LLMSherpaFileLoader',\n",
       " 'MastodonTootsLoader',\n",
       " 'MHTMLLoader',\n",
       " 'MWDumpLoader',\n",
       " 'MathpixPDFLoader',\n",
       " 'MaxComputeLoader',\n",
       " 'MergedDataLoader',\n",
       " 'ModernTreasuryLoader',\n",
       " 'MongodbLoader',\n",
       " 'NeedleLoader',\n",
       " 'NewsURLLoader',\n",
       " 'NotebookLoader',\n",
       " 'NotionDBLoader',\n",
       " 'NotionDirectoryLoader',\n",
       " 'OBSDirectoryLoader',\n",
       " 'OBSFileLoader',\n",
       " 'ObsidianLoader',\n",
       " 'OneDriveFileLoader',\n",
       " 'OneDriveLoader',\n",
       " 'OnlinePDFLoader',\n",
       " 'OpenCityDataLoader',\n",
       " 'OracleAutonomousDatabaseLoader',\n",
       " 'OracleDocLoader',\n",
       " 'OracleTextSplitter',\n",
       " 'OutlookMessageLoader',\n",
       " 'PDFMinerLoader',\n",
       " 'PDFMinerPDFasHTMLLoader',\n",
       " 'PDFPlumberLoader',\n",
       " 'PagedPDFSplitter',\n",
       " 'PebbloSafeLoader',\n",
       " 'PebbloTextLoader',\n",
       " 'PlaywrightURLLoader',\n",
       " 'PolarsDataFrameLoader',\n",
       " 'PsychicLoader',\n",
       " 'PubMedLoader',\n",
       " 'PyMuPDFLoader',\n",
       " 'PyPDFDirectoryLoader',\n",
       " 'PyPDFLoader',\n",
       " 'PyPDFium2Loader',\n",
       " 'PySparkDataFrameLoader',\n",
       " 'PythonLoader',\n",
       " 'RSSFeedLoader',\n",
       " 'ReadTheDocsLoader',\n",
       " 'RecursiveUrlLoader',\n",
       " 'RedditPostsLoader',\n",
       " 'RoamLoader',\n",
       " 'RocksetLoader',\n",
       " 'S3DirectoryLoader',\n",
       " 'S3FileLoader',\n",
       " 'ScrapflyLoader',\n",
       " 'ScrapingAntLoader',\n",
       " 'SQLDatabaseLoader',\n",
       " 'SRTLoader',\n",
       " 'SeleniumURLLoader',\n",
       " 'SharePointLoader',\n",
       " 'SitemapLoader',\n",
       " 'SlackDirectoryLoader',\n",
       " 'SnowflakeLoader',\n",
       " 'SpiderLoader',\n",
       " 'SpreedlyLoader',\n",
       " 'StripeLoader',\n",
       " 'SurrealDBLoader',\n",
       " 'TelegramChatApiLoader',\n",
       " 'TelegramChatFileLoader',\n",
       " 'TelegramChatLoader',\n",
       " 'TencentCOSDirectoryLoader',\n",
       " 'TencentCOSFileLoader',\n",
       " 'TensorflowDatasetLoader',\n",
       " 'TextLoader',\n",
       " 'TiDBLoader',\n",
       " 'ToMarkdownLoader',\n",
       " 'TomlLoader',\n",
       " 'TrelloLoader',\n",
       " 'TwitterTweetLoader',\n",
       " 'UnstructuredAPIFileIOLoader',\n",
       " 'UnstructuredAPIFileLoader',\n",
       " 'UnstructuredCHMLoader',\n",
       " 'UnstructuredCSVLoader',\n",
       " 'UnstructuredEPubLoader',\n",
       " 'UnstructuredEmailLoader',\n",
       " 'UnstructuredExcelLoader',\n",
       " 'UnstructuredFileIOLoader',\n",
       " 'UnstructuredFileLoader',\n",
       " 'UnstructuredHTMLLoader',\n",
       " 'UnstructuredImageLoader',\n",
       " 'UnstructuredMarkdownLoader',\n",
       " 'UnstructuredODTLoader',\n",
       " 'UnstructuredOrgModeLoader',\n",
       " 'UnstructuredPDFLoader',\n",
       " 'UnstructuredPowerPointLoader',\n",
       " 'UnstructuredRSTLoader',\n",
       " 'UnstructuredRTFLoader',\n",
       " 'UnstructuredTSVLoader',\n",
       " 'UnstructuredURLLoader',\n",
       " 'UnstructuredWordDocumentLoader',\n",
       " 'UnstructuredXMLLoader',\n",
       " 'VsdxLoader',\n",
       " 'WeatherDataLoader',\n",
       " 'WebBaseLoader',\n",
       " 'WhatsAppChatLoader',\n",
       " 'WikipediaLoader',\n",
       " 'XorbitsLoader',\n",
       " 'YoutubeAudioLoader',\n",
       " 'YoutubeLoader',\n",
       " 'YuqueLoader']"
      ]
     },
     "execution_count": 77,
     "metadata": {},
     "output_type": "execute_result"
    }
   ],
   "source": [
    "# Recap\n",
    "# -----\n",
    "# from langchain_community.document_loaders import <classname>  (1)\n",
    "# loader = <classname>()                           ^^^^^^^^^^^\n",
    "# loader.load() ->Get the data\n",
    "\n",
    "# To get list of all the loaders\n",
    "from langchain_community.document_loaders import __all__\n",
    "__all__"
   ]
  },
  {
   "cell_type": "code",
   "execution_count": 79,
   "id": "b4026cc9-8eee-4564-b79b-a1a3015b230e",
   "metadata": {},
   "outputs": [
    {
     "data": {
      "text/plain": [
       "langchain_community.document_loaders.excel.UnstructuredExcelLoader"
      ]
     },
     "execution_count": 79,
     "metadata": {},
     "output_type": "execute_result"
    }
   ],
   "source": [
    "from langchain_community.document_loaders import UnstructuredExcelLoader\n",
    "UnstructuredExcelLoader"
   ]
  },
  {
   "cell_type": "code",
   "execution_count": 84,
   "id": "e303dd46-fda9-4c6b-b9ee-834de5683fe7",
   "metadata": {
    "scrolled": true
   },
   "outputs": [
    {
     "ename": "ModuleNotFoundError",
     "evalue": "No module named 'unstructured'",
     "output_type": "error",
     "traceback": [
      "\u001b[1;31m---------------------------------------------------------------------------\u001b[0m",
      "\u001b[1;31mModuleNotFoundError\u001b[0m                       Traceback (most recent call last)",
      "Cell \u001b[1;32mIn[84], line 1\u001b[0m\n\u001b[1;32m----> 1\u001b[0m UnstructuredExcelLoader(\u001b[38;5;124m'\u001b[39m\u001b[38;5;124mtest1.xlsx\u001b[39m\u001b[38;5;124m'\u001b[39m)\n",
      "File \u001b[1;32m~\\AppData\\Roaming\\Python\\Python313\\site-packages\\langchain_community\\document_loaders\\excel.py:46\u001b[0m, in \u001b[0;36mUnstructuredExcelLoader.__init__\u001b[1;34m(self, file_path, mode, **unstructured_kwargs)\u001b[0m\n\u001b[0;32m     37\u001b[0m \u001b[38;5;250m\u001b[39m\u001b[38;5;124;03m\"\"\"\u001b[39;00m\n\u001b[0;32m     38\u001b[0m \n\u001b[0;32m     39\u001b[0m \u001b[38;5;124;03mArgs:\u001b[39;00m\n\u001b[1;32m   (...)\u001b[0m\n\u001b[0;32m     43\u001b[0m \u001b[38;5;124;03m    **unstructured_kwargs: Keyword arguments to pass to unstructured.\u001b[39;00m\n\u001b[0;32m     44\u001b[0m \u001b[38;5;124;03m\"\"\"\u001b[39;00m\n\u001b[0;32m     45\u001b[0m file_path \u001b[38;5;241m=\u001b[39m \u001b[38;5;28mstr\u001b[39m(file_path)\n\u001b[1;32m---> 46\u001b[0m validate_unstructured_version(min_unstructured_version\u001b[38;5;241m=\u001b[39m\u001b[38;5;124m\"\u001b[39m\u001b[38;5;124m0.6.7\u001b[39m\u001b[38;5;124m\"\u001b[39m)\n\u001b[0;32m     47\u001b[0m \u001b[38;5;28msuper\u001b[39m()\u001b[38;5;241m.\u001b[39m\u001b[38;5;21m__init__\u001b[39m(file_path\u001b[38;5;241m=\u001b[39mfile_path, mode\u001b[38;5;241m=\u001b[39mmode, \u001b[38;5;241m*\u001b[39m\u001b[38;5;241m*\u001b[39munstructured_kwargs)\n",
      "File \u001b[1;32m~\\AppData\\Roaming\\Python\\Python313\\site-packages\\langchain_community\\document_loaders\\unstructured.py:42\u001b[0m, in \u001b[0;36mvalidate_unstructured_version\u001b[1;34m(min_unstructured_version)\u001b[0m\n\u001b[0;32m     39\u001b[0m \u001b[38;5;28;01mdef\u001b[39;00m\u001b[38;5;250m \u001b[39m\u001b[38;5;21mvalidate_unstructured_version\u001b[39m(min_unstructured_version: \u001b[38;5;28mstr\u001b[39m) \u001b[38;5;241m-\u001b[39m\u001b[38;5;241m>\u001b[39m \u001b[38;5;28;01mNone\u001b[39;00m:\n\u001b[0;32m     40\u001b[0m \u001b[38;5;250m    \u001b[39m\u001b[38;5;124;03m\"\"\"Raise an error if the `Unstructured` version does not exceed the\u001b[39;00m\n\u001b[0;32m     41\u001b[0m \u001b[38;5;124;03m    specified minimum.\"\"\"\u001b[39;00m\n\u001b[1;32m---> 42\u001b[0m     \u001b[38;5;28;01mif\u001b[39;00m \u001b[38;5;129;01mnot\u001b[39;00m satisfies_min_unstructured_version(min_unstructured_version):\n\u001b[0;32m     43\u001b[0m         \u001b[38;5;28;01mraise\u001b[39;00m \u001b[38;5;167;01mValueError\u001b[39;00m(\n\u001b[0;32m     44\u001b[0m             \u001b[38;5;124mf\u001b[39m\u001b[38;5;124m\"\u001b[39m\u001b[38;5;124munstructured>=\u001b[39m\u001b[38;5;132;01m{\u001b[39;00mmin_unstructured_version\u001b[38;5;132;01m}\u001b[39;00m\u001b[38;5;124m is required in this loader.\u001b[39m\u001b[38;5;124m\"\u001b[39m\n\u001b[0;32m     45\u001b[0m         )\n",
      "File \u001b[1;32m~\\AppData\\Roaming\\Python\\Python313\\site-packages\\langchain_community\\document_loaders\\unstructured.py:25\u001b[0m, in \u001b[0;36msatisfies_min_unstructured_version\u001b[1;34m(min_version)\u001b[0m\n\u001b[0;32m     22\u001b[0m \u001b[38;5;28;01mdef\u001b[39;00m\u001b[38;5;250m \u001b[39m\u001b[38;5;21msatisfies_min_unstructured_version\u001b[39m(min_version: \u001b[38;5;28mstr\u001b[39m) \u001b[38;5;241m-\u001b[39m\u001b[38;5;241m>\u001b[39m \u001b[38;5;28mbool\u001b[39m:\n\u001b[0;32m     23\u001b[0m \u001b[38;5;250m    \u001b[39m\u001b[38;5;124;03m\"\"\"Check if the installed `Unstructured` version exceeds the minimum version\u001b[39;00m\n\u001b[0;32m     24\u001b[0m \u001b[38;5;124;03m    for the feature in question.\"\"\"\u001b[39;00m\n\u001b[1;32m---> 25\u001b[0m     \u001b[38;5;28;01mfrom\u001b[39;00m\u001b[38;5;250m \u001b[39m\u001b[38;5;21;01munstructured\u001b[39;00m\u001b[38;5;21;01m.\u001b[39;00m\u001b[38;5;21;01m__version__\u001b[39;00m\u001b[38;5;250m \u001b[39m\u001b[38;5;28;01mimport\u001b[39;00m __version__ \u001b[38;5;28;01mas\u001b[39;00m __unstructured_version__\n\u001b[0;32m     27\u001b[0m     min_version_tuple \u001b[38;5;241m=\u001b[39m \u001b[38;5;28mtuple\u001b[39m([\u001b[38;5;28mint\u001b[39m(x) \u001b[38;5;28;01mfor\u001b[39;00m x \u001b[38;5;129;01min\u001b[39;00m min_version\u001b[38;5;241m.\u001b[39msplit(\u001b[38;5;124m\"\u001b[39m\u001b[38;5;124m.\u001b[39m\u001b[38;5;124m\"\u001b[39m)])\n\u001b[0;32m     29\u001b[0m     \u001b[38;5;66;03m# NOTE(MthwRobinson) - enables the loader to work when you're using pre-release\u001b[39;00m\n\u001b[0;32m     30\u001b[0m     \u001b[38;5;66;03m# versions of unstructured like 0.4.17-dev1\u001b[39;00m\n",
      "\u001b[1;31mModuleNotFoundError\u001b[0m: No module named 'unstructured'"
     ]
    }
   ],
   "source": [
    "UnstructuredExcelLoader('test1.xlsx')"
   ]
  },
  {
   "cell_type": "code",
   "execution_count": 85,
   "id": "7616821f-304a-48f6-ba8a-900eb736fc0d",
   "metadata": {},
   "outputs": [
    {
     "name": "stdout",
     "output_type": "stream",
     "text": [
      "Defaulting to user installation because normal site-packages is not writeable\n",
      "Collecting unstructured\n",
      "  Downloading unstructured-0.18.11-py3-none-any.whl.metadata (24 kB)\n",
      "Requirement already satisfied: charset-normalizer in c:\\programdata\\anaconda3\\lib\\site-packages (from unstructured) (3.3.2)\n",
      "Collecting filetype (from unstructured)\n",
      "  Downloading filetype-1.2.0-py2.py3-none-any.whl.metadata (6.5 kB)\n",
      "Collecting python-magic (from unstructured)\n",
      "  Downloading python_magic-0.4.27-py2.py3-none-any.whl.metadata (5.8 kB)\n",
      "Requirement already satisfied: lxml in c:\\programdata\\anaconda3\\lib\\site-packages (from unstructured) (5.3.0)\n",
      "Requirement already satisfied: nltk in c:\\programdata\\anaconda3\\lib\\site-packages (from unstructured) (3.9.1)\n",
      "Requirement already satisfied: requests in c:\\programdata\\anaconda3\\lib\\site-packages (from unstructured) (2.32.3)\n",
      "Requirement already satisfied: beautifulsoup4 in c:\\programdata\\anaconda3\\lib\\site-packages (from unstructured) (4.12.3)\n",
      "Collecting emoji (from unstructured)\n",
      "  Downloading emoji-2.14.1-py3-none-any.whl.metadata (5.7 kB)\n",
      "Requirement already satisfied: dataclasses-json in c:\\users\\karth\\appdata\\roaming\\python\\python313\\site-packages (from unstructured) (0.6.7)\n",
      "Collecting python-iso639 (from unstructured)\n",
      "  Downloading python_iso639-2025.2.18-py3-none-any.whl.metadata (14 kB)\n",
      "Collecting langdetect (from unstructured)\n",
      "  Downloading langdetect-1.0.9.tar.gz (981 kB)\n",
      "     ---------------------------------------- 0.0/981.5 kB ? eta -:--:--\n",
      "     -------------------------------------- 981.5/981.5 kB 8.4 MB/s eta 0:00:00\n",
      "  Preparing metadata (setup.py): started\n",
      "  Preparing metadata (setup.py): finished with status 'done'\n",
      "Requirement already satisfied: numpy in c:\\programdata\\anaconda3\\lib\\site-packages (from unstructured) (2.1.3)\n",
      "Collecting rapidfuzz (from unstructured)\n",
      "  Downloading rapidfuzz-3.13.0-cp313-cp313-win_amd64.whl.metadata (12 kB)\n",
      "Collecting backoff (from unstructured)\n",
      "  Downloading backoff-2.2.1-py3-none-any.whl.metadata (14 kB)\n",
      "Requirement already satisfied: typing-extensions in c:\\programdata\\anaconda3\\lib\\site-packages (from unstructured) (4.12.2)\n",
      "Collecting unstructured-client (from unstructured)\n",
      "  Downloading unstructured_client-0.41.0-py3-none-any.whl.metadata (23 kB)\n",
      "Requirement already satisfied: wrapt in c:\\programdata\\anaconda3\\lib\\site-packages (from unstructured) (1.17.0)\n",
      "Requirement already satisfied: tqdm in c:\\programdata\\anaconda3\\lib\\site-packages (from unstructured) (4.67.1)\n",
      "Requirement already satisfied: psutil in c:\\programdata\\anaconda3\\lib\\site-packages (from unstructured) (5.9.0)\n",
      "Collecting python-oxmsg (from unstructured)\n",
      "  Downloading python_oxmsg-0.0.2-py3-none-any.whl.metadata (5.0 kB)\n",
      "Collecting html5lib (from unstructured)\n",
      "  Downloading html5lib-1.1-py2.py3-none-any.whl.metadata (16 kB)\n",
      "Requirement already satisfied: soupsieve>1.2 in c:\\programdata\\anaconda3\\lib\\site-packages (from beautifulsoup4->unstructured) (2.5)\n",
      "Requirement already satisfied: marshmallow<4.0.0,>=3.18.0 in c:\\users\\karth\\appdata\\roaming\\python\\python313\\site-packages (from dataclasses-json->unstructured) (3.26.1)\n",
      "Requirement already satisfied: typing-inspect<1,>=0.4.0 in c:\\users\\karth\\appdata\\roaming\\python\\python313\\site-packages (from dataclasses-json->unstructured) (0.9.0)\n",
      "Requirement already satisfied: packaging>=17.0 in c:\\programdata\\anaconda3\\lib\\site-packages (from marshmallow<4.0.0,>=3.18.0->dataclasses-json->unstructured) (24.2)\n",
      "Requirement already satisfied: mypy-extensions>=0.3.0 in c:\\programdata\\anaconda3\\lib\\site-packages (from typing-inspect<1,>=0.4.0->dataclasses-json->unstructured) (1.0.0)\n",
      "Requirement already satisfied: six>=1.9 in c:\\programdata\\anaconda3\\lib\\site-packages (from html5lib->unstructured) (1.17.0)\n",
      "Requirement already satisfied: webencodings in c:\\programdata\\anaconda3\\lib\\site-packages (from html5lib->unstructured) (0.5.1)\n",
      "Requirement already satisfied: click in c:\\programdata\\anaconda3\\lib\\site-packages (from nltk->unstructured) (8.1.8)\n",
      "Requirement already satisfied: joblib in c:\\programdata\\anaconda3\\lib\\site-packages (from nltk->unstructured) (1.4.2)\n",
      "Requirement already satisfied: regex>=2021.8.3 in c:\\programdata\\anaconda3\\lib\\site-packages (from nltk->unstructured) (2024.11.6)\n",
      "Requirement already satisfied: colorama in c:\\programdata\\anaconda3\\lib\\site-packages (from click->nltk->unstructured) (0.4.6)\n",
      "Collecting olefile (from python-oxmsg->unstructured)\n",
      "  Downloading olefile-0.47-py2.py3-none-any.whl.metadata (9.7 kB)\n",
      "Requirement already satisfied: idna<4,>=2.5 in c:\\programdata\\anaconda3\\lib\\site-packages (from requests->unstructured) (3.7)\n",
      "Requirement already satisfied: urllib3<3,>=1.21.1 in c:\\programdata\\anaconda3\\lib\\site-packages (from requests->unstructured) (2.3.0)\n",
      "Requirement already satisfied: certifi>=2017.4.17 in c:\\programdata\\anaconda3\\lib\\site-packages (from requests->unstructured) (2025.6.15)\n",
      "Collecting aiofiles>=24.1.0 (from unstructured-client->unstructured)\n",
      "  Downloading aiofiles-24.1.0-py3-none-any.whl.metadata (10 kB)\n",
      "Requirement already satisfied: cryptography>=3.1 in c:\\programdata\\anaconda3\\lib\\site-packages (from unstructured-client->unstructured) (44.0.1)\n",
      "Requirement already satisfied: httpcore>=1.0.9 in c:\\programdata\\anaconda3\\lib\\site-packages (from unstructured-client->unstructured) (1.0.9)\n",
      "Requirement already satisfied: httpx>=0.27.0 in c:\\programdata\\anaconda3\\lib\\site-packages (from unstructured-client->unstructured) (0.28.1)\n",
      "Requirement already satisfied: nest-asyncio>=1.6.0 in c:\\programdata\\anaconda3\\lib\\site-packages (from unstructured-client->unstructured) (1.6.0)\n",
      "Collecting pydantic>=2.11.2 (from unstructured-client->unstructured)\n",
      "  Downloading pydantic-2.11.7-py3-none-any.whl.metadata (67 kB)\n",
      "Requirement already satisfied: pypdf>=4.0 in c:\\users\\karth\\appdata\\roaming\\python\\python313\\site-packages (from unstructured-client->unstructured) (5.9.0)\n",
      "Requirement already satisfied: requests-toolbelt>=1.0.0 in c:\\programdata\\anaconda3\\lib\\site-packages (from unstructured-client->unstructured) (1.0.0)\n",
      "Requirement already satisfied: cffi>=1.12 in c:\\programdata\\anaconda3\\lib\\site-packages (from cryptography>=3.1->unstructured-client->unstructured) (1.17.1)\n",
      "Requirement already satisfied: pycparser in c:\\programdata\\anaconda3\\lib\\site-packages (from cffi>=1.12->cryptography>=3.1->unstructured-client->unstructured) (2.21)\n",
      "Requirement already satisfied: h11>=0.16 in c:\\programdata\\anaconda3\\lib\\site-packages (from httpcore>=1.0.9->unstructured-client->unstructured) (0.16.0)\n",
      "Requirement already satisfied: anyio in c:\\programdata\\anaconda3\\lib\\site-packages (from httpx>=0.27.0->unstructured-client->unstructured) (4.7.0)\n",
      "Requirement already satisfied: annotated-types>=0.6.0 in c:\\programdata\\anaconda3\\lib\\site-packages (from pydantic>=2.11.2->unstructured-client->unstructured) (0.6.0)\n",
      "Collecting pydantic-core==2.33.2 (from pydantic>=2.11.2->unstructured-client->unstructured)\n",
      "  Downloading pydantic_core-2.33.2-cp313-cp313-win_amd64.whl.metadata (6.9 kB)\n",
      "Collecting typing-inspection>=0.4.0 (from pydantic>=2.11.2->unstructured-client->unstructured)\n",
      "  Downloading typing_inspection-0.4.1-py3-none-any.whl.metadata (2.6 kB)\n",
      "Requirement already satisfied: sniffio>=1.1 in c:\\programdata\\anaconda3\\lib\\site-packages (from anyio->httpx>=0.27.0->unstructured-client->unstructured) (1.3.0)\n",
      "Downloading unstructured-0.18.11-py3-none-any.whl (1.8 MB)\n",
      "   ---------------------------------------- 0.0/1.8 MB ? eta -:--:--\n",
      "   ---------------------------------------- 1.8/1.8 MB 9.2 MB/s eta 0:00:00\n",
      "Downloading backoff-2.2.1-py3-none-any.whl (15 kB)\n",
      "Downloading emoji-2.14.1-py3-none-any.whl (590 kB)\n",
      "   ---------------------------------------- 0.0/590.6 kB ? eta -:--:--\n",
      "   ---------------------------------------- 590.6/590.6 kB 9.9 MB/s eta 0:00:00\n",
      "Downloading filetype-1.2.0-py2.py3-none-any.whl (19 kB)\n",
      "Downloading html5lib-1.1-py2.py3-none-any.whl (112 kB)\n",
      "Downloading python_iso639-2025.2.18-py3-none-any.whl (167 kB)\n",
      "Downloading python_magic-0.4.27-py2.py3-none-any.whl (13 kB)\n",
      "Downloading python_oxmsg-0.0.2-py3-none-any.whl (31 kB)\n",
      "Downloading olefile-0.47-py2.py3-none-any.whl (114 kB)\n",
      "Downloading rapidfuzz-3.13.0-cp313-cp313-win_amd64.whl (1.6 MB)\n",
      "   ---------------------------------------- 0.0/1.6 MB ? eta -:--:--\n",
      "   ---------------------------------------- 1.6/1.6 MB 8.0 MB/s eta 0:00:00\n",
      "Downloading unstructured_client-0.41.0-py3-none-any.whl (211 kB)\n",
      "Downloading aiofiles-24.1.0-py3-none-any.whl (15 kB)\n",
      "Downloading pydantic-2.11.7-py3-none-any.whl (444 kB)\n",
      "Downloading pydantic_core-2.33.2-cp313-cp313-win_amd64.whl (2.0 MB)\n",
      "   ---------------------------------------- 0.0/2.0 MB ? eta -:--:--\n",
      "   ---------------------------------------- 2.0/2.0 MB 10.5 MB/s eta 0:00:00\n",
      "Downloading typing_inspection-0.4.1-py3-none-any.whl (14 kB)\n",
      "Building wheels for collected packages: langdetect\n",
      "  Building wheel for langdetect (setup.py): started\n",
      "  Building wheel for langdetect (setup.py): finished with status 'done'\n",
      "  Created wheel for langdetect: filename=langdetect-1.0.9-py3-none-any.whl size=993250 sha256=ed3dbababfaeb2cd9b2b4b4f86cf04befa7e85bd29ae9a33e1a208e313610ce1\n",
      "  Stored in directory: c:\\users\\karth\\appdata\\local\\pip\\cache\\wheels\\eb\\87\\25\\2dddf1c94e1786054e25022ec5530bfed52bad86d882999c48\n",
      "Successfully built langdetect\n",
      "Installing collected packages: filetype, typing-inspection, rapidfuzz, python-magic, python-iso639, pydantic-core, olefile, langdetect, html5lib, emoji, backoff, aiofiles, python-oxmsg, pydantic, unstructured-client, unstructured\n",
      "\n",
      "   ----- ----------------------------------  2/16 [rapidfuzz]\n",
      "   ----- ----------------------------------  2/16 [rapidfuzz]\n",
      "   ---------- -----------------------------  4/16 [python-iso639]\n",
      "   --------------- ------------------------  6/16 [olefile]\n",
      "   ----------------- ----------------------  7/16 [langdetect]\n",
      "   -------------------- -------------------  8/16 [html5lib]\n",
      "   -------------------- -------------------  8/16 [html5lib]\n",
      "   ------------------------- -------------- 10/16 [backoff]\n",
      "   ------------------------------ --------- 12/16 [python-oxmsg]\n",
      "   -------------------------------- ------- 13/16 [pydantic]\n",
      "   -------------------------------- ------- 13/16 [pydantic]\n",
      "   -------------------------------- ------- 13/16 [pydantic]\n",
      "   -------------------------------- ------- 13/16 [pydantic]\n",
      "   -------------------------------- ------- 13/16 [pydantic]\n",
      "   -------------------------------- ------- 13/16 [pydantic]\n",
      "   ----------------------------------- ---- 14/16 [unstructured-client]\n",
      "   ----------------------------------- ---- 14/16 [unstructured-client]\n",
      "   ----------------------------------- ---- 14/16 [unstructured-client]\n",
      "   ----------------------------------- ---- 14/16 [unstructured-client]\n",
      "   ----------------------------------- ---- 14/16 [unstructured-client]\n",
      "   ----------------------------------- ---- 14/16 [unstructured-client]\n",
      "   ----------------------------------- ---- 14/16 [unstructured-client]\n",
      "   ------------------------------------- -- 15/16 [unstructured]\n",
      "   ------------------------------------- -- 15/16 [unstructured]\n",
      "   ------------------------------------- -- 15/16 [unstructured]\n",
      "   ------------------------------------- -- 15/16 [unstructured]\n",
      "   ------------------------------------- -- 15/16 [unstructured]\n",
      "   ------------------------------------- -- 15/16 [unstructured]\n",
      "   ------------------------------------- -- 15/16 [unstructured]\n",
      "   ------------------------------------- -- 15/16 [unstructured]\n",
      "   ------------------------------------- -- 15/16 [unstructured]\n",
      "   ------------------------------------- -- 15/16 [unstructured]\n",
      "   ------------------------------------- -- 15/16 [unstructured]\n",
      "   ---------------------------------------- 16/16 [unstructured]\n",
      "\n",
      "Successfully installed aiofiles-24.1.0 backoff-2.2.1 emoji-2.14.1 filetype-1.2.0 html5lib-1.1 langdetect-1.0.9 olefile-0.47 pydantic-2.11.7 pydantic-core-2.33.2 python-iso639-2025.2.18 python-magic-0.4.27 python-oxmsg-0.0.2 rapidfuzz-3.13.0 typing-inspection-0.4.1 unstructured-0.18.11 unstructured-client-0.41.0\n",
      "Note: you may need to restart the kernel to use updated packages.\n"
     ]
    },
    {
     "name": "stderr",
     "output_type": "stream",
     "text": [
      "  DEPRECATION: Building 'langdetect' using the legacy setup.py bdist_wheel mechanism, which will be removed in a future version. pip 25.3 will enforce this behaviour change. A possible replacement is to use the standardized build interface by setting the `--use-pep517` option, (possibly combined with `--no-build-isolation`), or adding a `pyproject.toml` file to the source tree of 'langdetect'. Discussion can be found at https://github.com/pypa/pip/issues/6334\n"
     ]
    }
   ],
   "source": [
    "pip install unstructured"
   ]
  },
  {
   "cell_type": "code",
   "execution_count": 86,
   "id": "007926d5-5add-45a4-9084-be912c24e703",
   "metadata": {},
   "outputs": [
    {
     "data": {
      "text/plain": [
       "<langchain_community.document_loaders.excel.UnstructuredExcelLoader at 0x1c9034b69e0>"
      ]
     },
     "execution_count": 86,
     "metadata": {},
     "output_type": "execute_result"
    }
   ],
   "source": [
    "UnstructuredExcelLoader('test1.xlsx')"
   ]
  },
  {
   "cell_type": "code",
   "execution_count": 90,
   "id": "634118bf-ee9f-415a-a839-5b4ca871fb57",
   "metadata": {},
   "outputs": [
    {
     "ename": "ModuleNotFoundError",
     "evalue": "No module named 'msoffcrypto'",
     "output_type": "error",
     "traceback": [
      "\u001b[1;31m---------------------------------------------------------------------------\u001b[0m",
      "\u001b[1;31mModuleNotFoundError\u001b[0m                       Traceback (most recent call last)",
      "Cell \u001b[1;32mIn[90], line 4\u001b[0m\n\u001b[0;32m      1\u001b[0m loader \u001b[38;5;241m=\u001b[39m UnstructuredExcelLoader(\u001b[38;5;124m'\u001b[39m\u001b[38;5;124mtest1.xlsx\u001b[39m\u001b[38;5;124m'\u001b[39m)\n\u001b[0;32m      2\u001b[0m \u001b[38;5;66;03m#loader.load()\u001b[39;00m\n\u001b[0;32m      3\u001b[0m \u001b[38;5;66;03m#help(loader)\u001b[39;00m\n\u001b[1;32m----> 4\u001b[0m docs \u001b[38;5;241m=\u001b[39m loader\u001b[38;5;241m.\u001b[39mload()\n\u001b[0;32m      5\u001b[0m docs\n",
      "File \u001b[1;32m~\\AppData\\Roaming\\Python\\Python313\\site-packages\\langchain_core\\document_loaders\\base.py:32\u001b[0m, in \u001b[0;36mBaseLoader.load\u001b[1;34m(self)\u001b[0m\n\u001b[0;32m     30\u001b[0m \u001b[38;5;28;01mdef\u001b[39;00m\u001b[38;5;250m \u001b[39m\u001b[38;5;21mload\u001b[39m(\u001b[38;5;28mself\u001b[39m) \u001b[38;5;241m-\u001b[39m\u001b[38;5;241m>\u001b[39m \u001b[38;5;28mlist\u001b[39m[Document]:\n\u001b[0;32m     31\u001b[0m \u001b[38;5;250m    \u001b[39m\u001b[38;5;124;03m\"\"\"Load data into Document objects.\"\"\"\u001b[39;00m\n\u001b[1;32m---> 32\u001b[0m     \u001b[38;5;28;01mreturn\u001b[39;00m \u001b[38;5;28mlist\u001b[39m(\u001b[38;5;28mself\u001b[39m\u001b[38;5;241m.\u001b[39mlazy_load())\n",
      "File \u001b[1;32m~\\AppData\\Roaming\\Python\\Python313\\site-packages\\langchain_community\\document_loaders\\unstructured.py:107\u001b[0m, in \u001b[0;36mUnstructuredBaseLoader.lazy_load\u001b[1;34m(self)\u001b[0m\n\u001b[0;32m    105\u001b[0m \u001b[38;5;28;01mdef\u001b[39;00m\u001b[38;5;250m \u001b[39m\u001b[38;5;21mlazy_load\u001b[39m(\u001b[38;5;28mself\u001b[39m) \u001b[38;5;241m-\u001b[39m\u001b[38;5;241m>\u001b[39m Iterator[Document]:\n\u001b[0;32m    106\u001b[0m \u001b[38;5;250m    \u001b[39m\u001b[38;5;124;03m\"\"\"Load file.\"\"\"\u001b[39;00m\n\u001b[1;32m--> 107\u001b[0m     elements \u001b[38;5;241m=\u001b[39m \u001b[38;5;28mself\u001b[39m\u001b[38;5;241m.\u001b[39m_get_elements()\n\u001b[0;32m    108\u001b[0m     \u001b[38;5;28mself\u001b[39m\u001b[38;5;241m.\u001b[39m_post_process_elements(elements)\n\u001b[0;32m    109\u001b[0m     \u001b[38;5;28;01mif\u001b[39;00m \u001b[38;5;28mself\u001b[39m\u001b[38;5;241m.\u001b[39mmode \u001b[38;5;241m==\u001b[39m \u001b[38;5;124m\"\u001b[39m\u001b[38;5;124melements\u001b[39m\u001b[38;5;124m\"\u001b[39m:\n",
      "File \u001b[1;32m~\\AppData\\Roaming\\Python\\Python313\\site-packages\\langchain_community\\document_loaders\\excel.py:50\u001b[0m, in \u001b[0;36mUnstructuredExcelLoader._get_elements\u001b[1;34m(self)\u001b[0m\n\u001b[0;32m     49\u001b[0m \u001b[38;5;28;01mdef\u001b[39;00m\u001b[38;5;250m \u001b[39m\u001b[38;5;21m_get_elements\u001b[39m(\u001b[38;5;28mself\u001b[39m) \u001b[38;5;241m-\u001b[39m\u001b[38;5;241m>\u001b[39m List:\n\u001b[1;32m---> 50\u001b[0m     \u001b[38;5;28;01mfrom\u001b[39;00m\u001b[38;5;250m \u001b[39m\u001b[38;5;21;01munstructured\u001b[39;00m\u001b[38;5;21;01m.\u001b[39;00m\u001b[38;5;21;01mpartition\u001b[39;00m\u001b[38;5;21;01m.\u001b[39;00m\u001b[38;5;21;01mxlsx\u001b[39;00m\u001b[38;5;250m \u001b[39m\u001b[38;5;28;01mimport\u001b[39;00m partition_xlsx\n\u001b[0;32m     52\u001b[0m     \u001b[38;5;28;01mreturn\u001b[39;00m partition_xlsx(filename\u001b[38;5;241m=\u001b[39m\u001b[38;5;28mself\u001b[39m\u001b[38;5;241m.\u001b[39mfile_path, \u001b[38;5;241m*\u001b[39m\u001b[38;5;241m*\u001b[39m\u001b[38;5;28mself\u001b[39m\u001b[38;5;241m.\u001b[39munstructured_kwargs)\n",
      "File \u001b[1;32m~\\AppData\\Roaming\\Python\\Python313\\site-packages\\unstructured\\partition\\xlsx.py:11\u001b[0m\n\u001b[0;32m      9\u001b[0m \u001b[38;5;28;01mimport\u001b[39;00m\u001b[38;5;250m \u001b[39m\u001b[38;5;21;01mnumpy\u001b[39;00m\u001b[38;5;250m \u001b[39m\u001b[38;5;28;01mas\u001b[39;00m\u001b[38;5;250m \u001b[39m\u001b[38;5;21;01mnp\u001b[39;00m\n\u001b[0;32m     10\u001b[0m \u001b[38;5;28;01mimport\u001b[39;00m\u001b[38;5;250m \u001b[39m\u001b[38;5;21;01mpandas\u001b[39;00m\u001b[38;5;250m \u001b[39m\u001b[38;5;28;01mas\u001b[39;00m\u001b[38;5;250m \u001b[39m\u001b[38;5;21;01mpd\u001b[39;00m\n\u001b[1;32m---> 11\u001b[0m \u001b[38;5;28;01mfrom\u001b[39;00m\u001b[38;5;250m \u001b[39m\u001b[38;5;21;01mmsoffcrypto\u001b[39;00m\u001b[38;5;250m \u001b[39m\u001b[38;5;28;01mimport\u001b[39;00m OfficeFile\n\u001b[0;32m     12\u001b[0m \u001b[38;5;28;01mfrom\u001b[39;00m\u001b[38;5;250m \u001b[39m\u001b[38;5;21;01mmsoffcrypto\u001b[39;00m\u001b[38;5;21;01m.\u001b[39;00m\u001b[38;5;21;01mexceptions\u001b[39;00m\u001b[38;5;250m \u001b[39m\u001b[38;5;28;01mimport\u001b[39;00m FileFormatError\n\u001b[0;32m     13\u001b[0m \u001b[38;5;28;01mfrom\u001b[39;00m\u001b[38;5;250m \u001b[39m\u001b[38;5;21;01mtyping_extensions\u001b[39;00m\u001b[38;5;250m \u001b[39m\u001b[38;5;28;01mimport\u001b[39;00m Self, TypeAlias\n",
      "\u001b[1;31mModuleNotFoundError\u001b[0m: No module named 'msoffcrypto'"
     ]
    }
   ],
   "source": [
    "loader = UnstructuredExcelLoader('test1.xlsx')\n",
    "#loader.load()\n",
    "#help(loader)\n",
    "#docs = loader.load()\n",
    "#for var in docs:\n",
    "#    var.page_content\n",
    "\n",
    "# Excel -> workbook ->sheet ->cell \n",
    "#                            -----//for loop (or) list() "
   ]
  },
  {
   "cell_type": "raw",
   "id": "e0461846-f8af-46cd-bffd-7d4237b18212",
   "metadata": {},
   "source": [
    "data='abcdefgh'\n",
    "chunk1:  abc\n",
    "chunk2:   bcd\n",
    "           cde\n",
    "            .."
   ]
  },
  {
   "cell_type": "code",
   "execution_count": 100,
   "id": "8d9fa962-c7c4-46c5-9afc-4fc681bd7031",
   "metadata": {
    "scrolled": true
   },
   "outputs": [
    {
     "data": {
      "text/plain": [
       "[Document(metadata={'source': 'speech.txt'}, page_content='The world must be made safe for democracy. Its peace must be planted upon the tested foundations of'),\n",
       " Document(metadata={'source': 'speech.txt'}, page_content='of political liberty. We have no selfish ends to serve. We desire no conquest, no dominion. We seek'),\n",
       " Document(metadata={'source': 'speech.txt'}, page_content='We seek no indemnities for ourselves, no material compensation for the sacrifices we shall freely'),\n",
       " Document(metadata={'source': 'speech.txt'}, page_content='freely make. We are but one of the champions of the rights of mankind. We shall be satisfied when'),\n",
       " Document(metadata={'source': 'speech.txt'}, page_content='when those rights have been made as secure as the faith and the freedom of nations can make'),\n",
       " Document(metadata={'source': 'speech.txt'}, page_content='can make them.\\n\\nJust because we fight without rancor and without selfish object, seeking nothing for'),\n",
       " Document(metadata={'source': 'speech.txt'}, page_content='for ourselves but what we shall wish to share with all free peoples, we shall, I feel confident,'),\n",
       " Document(metadata={'source': 'speech.txt'}, page_content='confident, conduct our operations as belligerents without passion and ourselves observe with proud'),\n",
       " Document(metadata={'source': 'speech.txt'}, page_content='with proud punctilio the principles of right and of fair play we profess to be fighting'),\n",
       " Document(metadata={'source': 'speech.txt'}, page_content='fighting for.\\n\\nâ€¦\\n\\nIt will be all the easier for us to conduct ourselves as belligerents in a high'),\n",
       " Document(metadata={'source': 'speech.txt'}, page_content='in a high spirit of right and fairness because we act without animus, not in enmity toward a people'),\n",
       " Document(metadata={'source': 'speech.txt'}, page_content='a people or with the desire to bring any injury or disadvantage upon them, but only in armed'),\n",
       " Document(metadata={'source': 'speech.txt'}, page_content='in armed opposition to an irresponsible government which has thrown aside all considerations of'),\n",
       " Document(metadata={'source': 'speech.txt'}, page_content='of humanity and of right and is running amuck. We are, let me say again, the sincere friends of the'),\n",
       " Document(metadata={'source': 'speech.txt'}, page_content='of the German people, and shall desire nothing so much as the early reestablishment of intimate'),\n",
       " Document(metadata={'source': 'speech.txt'}, page_content='intimate relations of mutual advantage between usâ€”however hard it may be for them, for the time'),\n",
       " Document(metadata={'source': 'speech.txt'}, page_content='the time being, to believe that this is spoken from our hearts.\\n\\nWe have borne with their present'),\n",
       " Document(metadata={'source': 'speech.txt'}, page_content='present government through all these bitter months because of that friendshipâ€”exercising a'),\n",
       " Document(metadata={'source': 'speech.txt'}, page_content='a patience and forbearance which would otherwise have been impossible. We shall, happily, still have'),\n",
       " Document(metadata={'source': 'speech.txt'}, page_content='still have an opportunity to prove that friendship in our daily attitude and actions toward the'),\n",
       " Document(metadata={'source': 'speech.txt'}, page_content='toward the millions of men and women of German birth and native sympathy who live among us and share'),\n",
       " Document(metadata={'source': 'speech.txt'}, page_content='and share our life, and we shall be proud to prove it toward all who are in fact loyal to their'),\n",
       " Document(metadata={'source': 'speech.txt'}, page_content='to their neighbors and to the government in the hour of test. They are, most of them, as true and'),\n",
       " Document(metadata={'source': 'speech.txt'}, page_content='true and loyal Americans as if they had never known any other fealty or allegiance. They will be'),\n",
       " Document(metadata={'source': 'speech.txt'}, page_content='will be prompt to stand with us in rebuking and restraining the few who may be of a different mind'),\n",
       " Document(metadata={'source': 'speech.txt'}, page_content='mind and purpose. If there should be disloyalty, it will be dealt with with a firm hand of stern'),\n",
       " Document(metadata={'source': 'speech.txt'}, page_content='of stern repression; but, if it lifts its head at all, it will lift it only here and there and'),\n",
       " Document(metadata={'source': 'speech.txt'}, page_content='there and without countenance except from a lawless and malignant few.\\n\\nIt is a distressing and'),\n",
       " Document(metadata={'source': 'speech.txt'}, page_content='and oppressive duty, gentlemen of the Congress, which I have performed in thus addressing you. There'),\n",
       " Document(metadata={'source': 'speech.txt'}, page_content='you. There are, it may be, many months of fiery trial and sacrifice ahead of us. It is a fearful'),\n",
       " Document(metadata={'source': 'speech.txt'}, page_content='a fearful thing to lead this great peaceful people into war, into the most terrible and disastrous'),\n",
       " Document(metadata={'source': 'speech.txt'}, page_content='disastrous of all wars, civilization itself seeming to be in the balance. But the right is more'),\n",
       " Document(metadata={'source': 'speech.txt'}, page_content='is more precious than peace, and we shall fight for the things which we have always carried nearest'),\n",
       " Document(metadata={'source': 'speech.txt'}, page_content='nearest our heartsâ€”for democracy, for the right of those who submit to authority to have a voice'),\n",
       " Document(metadata={'source': 'speech.txt'}, page_content='a voice in their own governments, for the rights and liberties of small nations, for a universal'),\n",
       " Document(metadata={'source': 'speech.txt'}, page_content='universal dominion of right by such a concert of free peoples as shall bring peace and safety to all'),\n",
       " Document(metadata={'source': 'speech.txt'}, page_content='to all nations and make the world itself at last free.\\n\\nTo such a task we can dedicate our lives and'),\n",
       " Document(metadata={'source': 'speech.txt'}, page_content='lives and our fortunes, everything that we are and everything that we have, with the pride of those'),\n",
       " Document(metadata={'source': 'speech.txt'}, page_content='of those who know that the day has come when America is privileged to spend her blood and her might'),\n",
       " Document(metadata={'source': 'speech.txt'}, page_content='her might for the principles that gave her birth and happiness and the peace which she has'),\n",
       " Document(metadata={'source': 'speech.txt'}, page_content='she has treasured. God helping her, she can do no other.')]"
      ]
     },
     "execution_count": 100,
     "metadata": {},
     "output_type": "execute_result"
    }
   ],
   "source": [
    "## Step 1\n",
    "#-----------\n",
    "from langchain_community.document_loaders import TextLoader\n",
    "loader = TextLoader('speech.txt')\n",
    "docs = loader.load()\n",
    "\n",
    "# Step 2\n",
    "# --------\n",
    "# Textsplitter \n",
    "\n",
    "from langchain_text_splitters import CharacterTextSplitter\n",
    "#help(CharacterTextSplitter)\n",
    "\n",
    "obj=CharacterTextSplitter(separator=\" \",chunk_size=100,chunk_overlap=10)\n",
    "obj.split_documents(docs)"
   ]
  },
  {
   "cell_type": "code",
   "execution_count": 102,
   "id": "5efc007d-8cd7-476b-bfe1-be873034fdb8",
   "metadata": {},
   "outputs": [
    {
     "data": {
      "text/plain": [
       "['this is a test document for sample data split into multiple values']"
      ]
     },
     "execution_count": 102,
     "metadata": {},
     "output_type": "execute_result"
    }
   ],
   "source": [
    "msg=\"this is a test document for sample data split into multiple values\"\n",
    "splitter = CharacterTextSplitter(chunk_size=10,chunk_overlap=2)\n",
    "chunks = splitter.split_text(msg)\n",
    "chunks"
   ]
  },
  {
   "cell_type": "code",
   "execution_count": 106,
   "id": "205f8d7c-0c16-40bf-90ed-f8a5997dcb94",
   "metadata": {},
   "outputs": [
    {
     "name": "stderr",
     "output_type": "stream",
     "text": [
      "Created a chunk of size 24, which is longer than the specified 10\n"
     ]
    },
    {
     "data": {
      "text/plain": [
       "['this is a test document', 'sample data split into multiple values']"
      ]
     },
     "execution_count": 106,
     "metadata": {},
     "output_type": "execute_result"
    }
   ],
   "source": [
    "msg=\"this is a test document for sample data split into multiple values\"\n",
    "splitter = CharacterTextSplitter(chunk_size=10,chunk_overlap=5,separator=\"for\")\n",
    "chunks = splitter.split_text(msg)\n",
    "chunks"
   ]
  },
  {
   "cell_type": "code",
   "execution_count": 107,
   "id": "e8e4e701-f13e-4491-a495-ef294f11f567",
   "metadata": {},
   "outputs": [
    {
     "data": {
      "text/plain": [
       "['this is a',\n",
       " 'is a test',\n",
       " 'document',\n",
       " 'for sample',\n",
       " 'data split',\n",
       " 'split into',\n",
       " 'multiple',\n",
       " 'values']"
      ]
     },
     "execution_count": 107,
     "metadata": {},
     "output_type": "execute_result"
    }
   ],
   "source": [
    "msg=\"this is a test document for sample data split into multiple values\"\n",
    "splitter = CharacterTextSplitter(chunk_size=10,chunk_overlap=5,separator=\" \")\n",
    "chunks = splitter.split_text(msg)\n",
    "chunks"
   ]
  },
  {
   "cell_type": "code",
   "execution_count": 117,
   "id": "bba8d666-e503-4e02-9a37-5ead396101d0",
   "metadata": {},
   "outputs": [
    {
     "data": {
      "text/plain": [
       "['this is a test',\n",
       " 'test document',\n",
       " 'for sample data',\n",
       " 'data split into',\n",
       " 'into multiple',\n",
       " 'values AB CD']"
      ]
     },
     "execution_count": 117,
     "metadata": {},
     "output_type": "execute_result"
    }
   ],
   "source": [
    "msg=\"this is a test document for sample data split into multiple values AB CD\"\n",
    "splitter = CharacterTextSplitter(chunk_size=15,chunk_overlap=5,separator=\" \")\n",
    "chunks = splitter.split_text(msg)\n",
    "chunks"
   ]
  },
  {
   "cell_type": "code",
   "execution_count": 118,
   "id": "0f7f700a-7ddc-4d57-ac44-b9bf5f1c6e83",
   "metadata": {},
   "outputs": [
    {
     "data": {
      "text/plain": [
       "['this is a test',\n",
       " 'a test document',\n",
       " 'document for',\n",
       " 'for sample data',\n",
       " 'data split into',\n",
       " 'into multiple',\n",
       " 'multiple values',\n",
       " 'values AB CD']"
      ]
     },
     "execution_count": 118,
     "metadata": {},
     "output_type": "execute_result"
    }
   ],
   "source": [
    "msg=\"this is a test document for sample data split into multiple values AB CD\"\n",
    "splitter = CharacterTextSplitter(chunk_size=15,chunk_overlap=9,separator=\" \")\n",
    "chunks = splitter.split_text(msg)\n",
    "chunks"
   ]
  },
  {
   "cell_type": "code",
   "execution_count": 123,
   "id": "3d7d0233-dab2-4a03-8efd-fa1858252cb3",
   "metadata": {},
   "outputs": [
    {
     "name": "stdout",
     "output_type": "stream",
     "text": [
      "chunk1\tlangchain makes to build llm applications\n",
      "\n",
      "chunk2\t\n",
      "it supports chains,agent,memory and retrieval\n",
      "\n"
     ]
    }
   ],
   "source": [
    "info = \"\"\"langchain makes to build llm applications\\n\n",
    "it supports chains,agent,memory and retrieval\\n\"\"\"\n",
    "\n",
    "from langchain_text_splitters import RecursiveCharacterTextSplitter\n",
    "splitter = RecursiveCharacterTextSplitter(chunk_size=20,chunk_overlap=10,separators=\"\\n\\n\")\n",
    "chunks = splitter.split_text(info)\n",
    "\n",
    "for i,chunk in enumerate(chunks):\n",
    "    print(f'chunk{i+1}\\t{chunk}\\n')"
   ]
  },
  {
   "cell_type": "code",
   "execution_count": 127,
   "id": "e6de97d2-92f1-46ff-b713-818d4450d3a7",
   "metadata": {},
   "outputs": [
    {
     "data": {
      "text/plain": [
       "['LangChain helps',\n",
       " 'helps build LLM',\n",
       " 'LLM apps.\\n\\nyou can',\n",
       " 'can use',\n",
       " 'chains,agents,and',\n",
       " \"tools.\\nIt's flexible\",\n",
       " 'and powerful.']"
      ]
     },
     "execution_count": 127,
     "metadata": {},
     "output_type": "execute_result"
    }
   ],
   "source": [
    "info = (\"LangChain helps build LLM apps.\\n\\n\"\n",
    "        \"you can use chains,agents,and tools.\\n\"\n",
    "        \"It's flexible and powerful.\")\n",
    "\n",
    "CharacterTextSplitter(separator=\" \",chunk_size=20,chunk_overlap=5).split_text(info)"
   ]
  },
  {
   "cell_type": "code",
   "execution_count": 154,
   "id": "d0646c32-1570-48ca-8658-def4d547a295",
   "metadata": {},
   "outputs": [
    {
     "data": {
      "text/plain": [
       "['abcd efg', 'hijk lm', 'lm nopqr', 'stuv wx', 'wx yz']"
      ]
     },
     "execution_count": 154,
     "metadata": {},
     "output_type": "execute_result"
    }
   ],
   "source": [
    "v = 'abcd efg hijk lm nopqr stuv wx yz'\n",
    "\n",
    "\n",
    "CharacterTextSplitter(chunk_size=8,chunk_overlap=2,separator=\" \").split_text(v)"
   ]
  },
  {
   "cell_type": "raw",
   "id": "00db9f82-973d-4320-b93c-ae3384f3e8f7",
   "metadata": {},
   "source": [
    "abcd<>efg\n",
    "\n",
    "hijk<>lm  # lessthan 8\n",
    "\n",
    "lmnopqr # lessthan 8\n",
    "--\n",
    "stuv<>wx # lessthan 8\n",
    "\n",
    "wx<>yz # lessthan 8\n",
    "--"
   ]
  },
  {
   "cell_type": "code",
   "execution_count": 156,
   "id": "847b7cad-f6b3-4d3f-a67e-80b7c294ddb8",
   "metadata": {},
   "outputs": [
    {
     "data": {
      "text/plain": [
       "['abcd efg', 'hijk lm', 'nopqr', 'stuv wx', 'yz']"
      ]
     },
     "execution_count": 156,
     "metadata": {},
     "output_type": "execute_result"
    }
   ],
   "source": [
    "RecursiveCharacterTextSplitter(chunk_size=8,chunk_overlap=2).split_text(v)"
   ]
  },
  {
   "cell_type": "code",
   "execution_count": null,
   "id": "d0ee907b-e2e6-4961-9768-dae38976604f",
   "metadata": {},
   "outputs": [],
   "source": [
    "## Task\n",
    "\n",
    "Read a pdf file \n",
    "load the pdf contents\n",
    "use RecursiveTextSplitter - check_size=500 chunk_overlap=50\n",
    "|\n",
    "get the final docs - count no.of items\n",
    "\n",
    "## Task\n",
    "initialize multiline html tags \n",
    "HTMLHeaderTextSplitter - split multiline html tags into docs\n",
    "display splitted results\n",
    "\n",
    "html_str='''\n",
    "<html>\n",
    "<body>\n",
    "<div>\n",
    "<h1>msg1</h1>\n",
    "<p>Some sample data</p>\n",
    "<div>\n",
    " <h2> main section </h2>\n",
    " <p> About Home </p>\n",
    " <h3> dev section </h3>\n",
    " <p> Total no counts</p>\n",
    "</div>\n",
    "<br>\n",
    "<p>Outer Text</p>\n",
    "</div>\n",
    "</body>\n",
    "</html>'''"
   ]
  },
  {
   "cell_type": "code",
   "execution_count": 157,
   "id": "acb509b1-e172-4743-bcc6-55b8b7986030",
   "metadata": {},
   "outputs": [
    {
     "name": "stdout",
     "output_type": "stream",
     "text": [
      "<class 'list'>\n",
      "93\n"
     ]
    }
   ],
   "source": [
    "loader = PyPDFLoader('attention.pdf')\n",
    "docs = loader.load()\n",
    "################################## Step-1\n",
    "text_splitter = RecursiveCharacterTextSplitter(chunk_size=500,chunk_overlap=50)\n",
    "final_docs = text_splitter.split_documents(docs)\n",
    "################################# Step 2\n",
    "print(type(final_docs))\n",
    "print(len(final_docs))"
   ]
  },
  {
   "cell_type": "code",
   "execution_count": 158,
   "id": "261d67d8-1704-4c7c-b2ff-d0844dda820d",
   "metadata": {},
   "outputs": [],
   "source": [
    "html_str='''\n",
    "<html>\n",
    "<body>\n",
    "<div>\n",
    "<h1>msg1</h1>\n",
    "<p>Some sample data</p>\n",
    "<div>\n",
    " <h2> main section </h2>\n",
    " <p> About Home </p>\n",
    " <h3> dev section </h3>\n",
    " <p> Total no counts</p>\n",
    "</div>\n",
    "<br>\n",
    "<p>Outer Text</p>\n",
    "</div>\n",
    "</body>\n",
    "</html>'''"
   ]
  },
  {
   "cell_type": "code",
   "execution_count": 160,
   "id": "144c0ef6-7af0-40c5-87e9-f2302b36ea31",
   "metadata": {},
   "outputs": [
    {
     "name": "stdout",
     "output_type": "stream",
     "text": [
      "[Document(metadata={'Header 1': 'msg1'}, page_content='msg1'), Document(metadata={'Header 1': 'msg1'}, page_content='Some sample data'), Document(metadata={'Header 1': 'msg1', 'Header 2': 'main section'}, page_content='main section'), Document(metadata={'Header 1': 'msg1', 'Header 2': 'main section'}, page_content='About Home'), Document(metadata={'Header 1': 'msg1', 'Header 2': 'main section', 'Header 3': 'dev section'}, page_content='dev section'), Document(metadata={'Header 1': 'msg1'}, page_content='Total no counts  \\nOuter Text')]\n"
     ]
    }
   ],
   "source": [
    "from langchain_text_splitters import HTMLHeaderTextSplitter\n",
    "#help(HTMLHeaderTextSplitter)\n",
    "L=[(\"h1\",\"Header 1\"),(\"h2\",\"Header 2\"),(\"h3\",\"Header 3\")]\n",
    "\n",
    "html_splitter = HTMLHeaderTextSplitter(L)\n",
    "r = html_splitter.split_text(html_str)\n",
    "print(r)"
   ]
  },
  {
   "cell_type": "code",
   "execution_count": 161,
   "id": "6109e89a-5c78-42a1-9935-af7a39765adb",
   "metadata": {},
   "outputs": [
    {
     "data": {
      "text/plain": [
       "Document(metadata={'Header 1': 'msg1'}, page_content='Some sample data')"
      ]
     },
     "execution_count": 161,
     "metadata": {},
     "output_type": "execute_result"
    }
   ],
   "source": [
    "r[1]"
   ]
  },
  {
   "cell_type": "code",
   "execution_count": 162,
   "id": "f0aca796-73e0-4c9f-b15f-37a786746f92",
   "metadata": {},
   "outputs": [
    {
     "data": {
      "text/plain": [
       "Document(metadata={'Header 1': 'msg1', 'Header 2': 'main section'}, page_content='main section')"
      ]
     },
     "execution_count": 162,
     "metadata": {},
     "output_type": "execute_result"
    }
   ],
   "source": [
    "r[2]"
   ]
  },
  {
   "cell_type": "code",
   "execution_count": 163,
   "id": "9642b79e-ad1f-4dd6-97bc-51d9dedeb5bb",
   "metadata": {},
   "outputs": [
    {
     "data": {
      "text/plain": [
       "[Document(metadata={}, page_content='end #touchnav-wrapper [if lte IE 7]>\\n    <script type=\"text/javascript\" src=\"/static/js/plugins/IE8-min.8af6e26c7a3b.js\" charset=\"utf-8\"></script>\\n    \\n    \\n    <![endif] [if lte IE 8]>\\n    <script type=\"text/javascript\" src=\"/static/js/plugins/getComputedStyle-min.d41d8cd98f00.js\" charset=\"utf-8\"></script>\\n    \\n    \\n    <![endif]  \\n[if lte IE 8]>\\n        <div id=\"oldie-warning\" class=\"do-not-print\">\\n            <p>\\n                <strong>Notice:</strong> Your browser is <em>ancient</em>. Please\\n                <a href=\"http://browsehappy.com/\">upgrade to a different browser</a> to experience a better web.\\n            </p>\\n        </div>\\n        <![endif] Sister Site Links Header elements end #content .content-wrapper Footer and social media list  \\nWhile JavaScript is not essential for this website, your interaction with the content will be limited. Please turn JavaScript on for the full experience.  \\nNotice:  \\nSkip to content  \\nClose  \\n▼  \\nPython  \\nPSF  \\nDocs  \\nPyPI  \\nJobs  \\nCommunity  \\nThe Python Network  \\n▲  \\nend .container  \\nend options-bar  \\nDonate  \\nMenu  \\n≡  \\n[if IE]><input type=\"text\" style=\"display: none;\" disabled=\"disabled\" size=\"1\" tabindex=\"4\"><![endif]  \\nSearch This Site  \\nGO  \\nA  \\nA  \\nSmaller  \\nLarger  \\nReset  \\nSocialize  \\nLinkedIn  \\nMastodon  \\nChat on IRC  \\nTwitter  \\nAbout  \\nApplications  \\nQuotes  \\nGetting Started  \\nHelp  \\nPython Brochure  \\nDownloads  \\nAll releases  \\nSource code  \\nWindows  \\nmacOS  \\nOther Platforms  \\nLicense  \\nAlternative Implementations  \\nDocumentation  \\nDocs  \\nAudio/Visual Talks  \\nBeginner\\'s Guide  \\nDeveloper\\'s Guide  \\nFAQ  \\nNon-English Docs  \\nPEP Index  \\nPython Books  \\nPython Essays  \\nCommunity  \\nDiversity  \\nMailing Lists  \\nIRC  \\nForums  \\nPSF Annual Impact Report  \\nPython Conferences  \\nSpecial Interest Groups  \\nPython Logo  \\nPython Wiki  \\nCode of Conduct  \\nCommunity Awards  \\nGet Involved  \\nShared Stories  \\nSuccess Stories  \\nArts  \\nBusiness  \\nEducation  \\nEngineering  \\nGovernment  \\nScientific  \\nSoftware Development  \\nNews  \\nPython News  \\nPSF Newsletter  \\nPSF News  \\nPyCon US News  \\nNews from the Community  \\nEvents  \\nPython Events  \\nUser Group Events  \\nPython Events Archive  \\nUser Group Events Archive  \\nSubmit an Event  \\nfor optional \"do-not-print\" class  \\n>_  \\nLaunch Interactive Shell  \\n>>> def fib(n):\\r\\n>>>     a, b = 0, 1\\r\\n>>>     while a < n:\\r\\n>>>         print(a, end=\\' \\')\\r\\n>>>         a, b = b, a+b\\r\\n>>>     print()\\r\\n>>> fib(1000)  \\n# Python 3: Fibonacci series up to n  \\n0 1 1 2 3 5 8 13 21 34 55 89 144 233 377 610 987'),\n",
       " Document(metadata={'Header 1': 'Functions Defined'}, page_content='Functions Defined'),\n",
       " Document(metadata={'Header 1': 'Functions Defined'}, page_content=\"The core of extensible programming is defining functions. Python allows mandatory and optional arguments, keyword arguments, and even arbitrary argument lists.  \\nMore about defining functions in Python\\xa03  \\n>>> fruits = ['Banana', 'Apple', 'Lime']\\r\\n>>> loud_fruits = [fruit.upper() for fruit in fruits]\\r\\n>>> print(loud_fruits) >>> list(enumerate(fruits))  \\n# Python 3: List comprehensions  \\n['BANANA', 'APPLE', 'LIME']  \\n# List and the enumerate function  \\n[(0, 'Banana'), (1, 'Apple'), (2, 'Lime')]\"),\n",
       " Document(metadata={'Header 1': 'Compound Data Types'}, page_content='Compound Data Types'),\n",
       " Document(metadata={'Header 1': 'Compound Data Types'}, page_content='Lists (known as arrays in other languages) are one of the compound data types that Python understands. Lists can be indexed, sliced and manipulated with other built-in functions.  \\nMore about lists in Python\\xa03  \\n>>> 1 / 2 >>> 2 ** 3 >>> 17 / 3 >>> 17 // 3  \\n# Python 3: Simple arithmetic  \\n0.5  \\n8  \\n# classic division returns a float  \\n5.666666666666667  \\n# floor division  \\n5'),\n",
       " Document(metadata={'Header 1': 'Intuitive Interpretation'}, page_content='Intuitive Interpretation'),\n",
       " Document(metadata={'Header 1': 'Intuitive Interpretation'}, page_content=\"Calculations are simple with Python, and expression syntax is straightforward: the operators , , and work as expected; parentheses can be used for grouping. .  \\n+  \\n-  \\n*  \\n/  \\n()  \\nMore about simple math functions in Python\\xa03  \\n>>> numbers = [2, 4, 6, 8]\\r\\n>>> product = 1\\r\\n>>> for number in numbers:\\r\\n...    product = product * number\\r\\n... \\r\\n>>> print('The product is:', product)  \\n# For loop on a list  \\nThe product is: 384\"),\n",
       " Document(metadata={'Header 1': 'All the Flow You’d Expect'}, page_content='All the Flow You’d Expect'),\n",
       " Document(metadata={'Header 1': 'All the Flow You’d Expect'}, page_content='Python knows the usual control flow statements that other languages speak — , , and — with some of its own twists, of course.  \\nif  \\nfor  \\nwhile  \\nrange  \\nMore control flow tools in Python\\xa03  \\n>>> print(\"Hello, I\\'m Python!\") >>> name = input(\\'What is your name?\\\\n\\') >>> print(f\\'Hi, {name}.\\')  \\n# Simple output (with Unicode)  \\nHello, I\\'m Python!  \\n# Input, assignment  \\nWhat is your name?\\r\\nPython  \\nHi, Python.'),\n",
       " Document(metadata={'Header 1': 'Quick & Easy to Learn'}, page_content='Quick & Easy to Learn'),\n",
       " Document(metadata={}, page_content='Experienced programmers in any other language can pick up Python very quickly, and beginners find the clean syntax and indentation structure easy to learn. with our Python\\xa03 overview.  \\nWhet your appetite  \\nPython is a programming language that lets you work quickly and integrate systems more effectively.  \\nLearn More  \\nMain Content Column end .container'),\n",
       " Document(metadata={'Header 2': 'Get Started'}, page_content='Get Started'),\n",
       " Document(metadata={'Header 2': 'Get Started'}, page_content=\"Whether you're new to programming or an experienced developer, it's easy to learn and use Python.  \\nStart with our Beginner’s Guide\"),\n",
       " Document(metadata={'Header 2': 'Download'}, page_content='Download'),\n",
       " Document(metadata={'Header 2': 'Download'}, page_content='Python source code and installers are available for download for all versions!  \\nLatest:  \\nPython 3.13.5'),\n",
       " Document(metadata={'Header 2': 'Docs'}, page_content='Docs'),\n",
       " Document(metadata={'Header 2': 'Docs'}, page_content=\"Documentation for Python's standard library, along with tutorials and guides, are available online.  \\ndocs.python.org\"),\n",
       " Document(metadata={'Header 2': 'Jobs'}, page_content='Jobs'),\n",
       " Document(metadata={}, page_content=\"Looking for work or have a Python related position that you're trying to hire for? Our is the place to go.  \\nrelaunched community-run job board  \\njobs.python.org  \\nend .shrubbery\"),\n",
       " Document(metadata={'Header 2': 'Latest News'}, page_content='Latest News'),\n",
       " Document(metadata={'Header 2': 'Latest News'}, page_content='More  \\n07-24  \\n2025-  \\nPSF Board Election Nominations Opening July 29th  \\n07-22  \\n2025-  \\nPython 3.14 release candidate 1 is go!  \\n07-16  \\n2025-  \\nAffirm Your PSF Membership Voting Status  \\n07-09  \\n2025-  \\nPSF News: PyPI Orgs, Board Election, & Yearly Reports  \\n07-08  \\n2025-  \\nNotice of Python Software Foundation Bylaws Change - Effective July 23, 2025'),\n",
       " Document(metadata={'Header 2': 'Upcoming Events'}, page_content='Upcoming Events'),\n",
       " Document(metadata={}, page_content='More  \\n08-08  \\n2025-  \\nBuea - Creating Python Communities and outreach  \\n08-11  \\n2025-  \\nDjangoCon Africa 2025  \\n08-13  \\n2025-  \\nPyCon Somalia 2025  \\n08-15  \\n2025-  \\nPyCon Korea 2025  \\n08-18  \\n2025-  \\nEuroSciPy 2025  \\nend .shrubbery'),\n",
       " Document(metadata={'Header 2': 'Success Stories'}, page_content='Success Stories'),\n",
       " Document(metadata={}, page_content='More  \\n\"Some of the things [SonarCloud] spots are impressive (probably driven by some introspection and/or type inference), not just the simple pattern matching that I am used to in most of the flake8 ecosystem.\"\\r\\n- Peter J. A. Cock - maintainer of BioPython  \\nDeliver Clean and Safe Code for Your Python Applications  \\nby Kirti Joshi, Nicolas Bontoux  \\nend .shrubbery'),\n",
       " Document(metadata={'Header 2': 'Use Python for…'}, page_content='Use Python for…'),\n",
       " Document(metadata={}, page_content='More  \\n:  \\nWeb Development  \\n, , , , ,  \\nDjango  \\nPyramid  \\nBottle  \\nTornado  \\nFlask  \\nweb2py  \\n:  \\nGUI Development  \\n, , , , , ,  \\ntkInter  \\nPyGObject  \\nPyQt  \\nPySide  \\nKivy  \\nwxPython  \\nDearPyGui  \\n:  \\nScientific and Numeric  \\n, ,  \\nSciPy  \\nPandas  \\nIPython  \\n:  \\nSoftware Development  \\n, ,  \\nBuildbot  \\nTrac  \\nRoundup  \\n:  \\nSystem Administration  \\n, , ,  \\nAnsible  \\nSalt  \\nOpenStack  \\nxonsh  \\n>>>  \\nPython Software Foundation  \\nThe mission of the Python Software Foundation is to promote, protect, and advance the Python programming language, and to support and facilitate the growth of a diverse and international community of Python programmers.  \\nLearn more  \\nBecome a Member  \\nDonate to the PSF  \\nend .main-footer-links end .site-base  \\nend .container  \\nBack to Top  \\n▲  \\nAbout  \\nApplications  \\nQuotes  \\nGetting Started  \\nHelp  \\nPython Brochure  \\nDownloads  \\nAll releases  \\nSource code  \\nWindows  \\nmacOS  \\nOther Platforms  \\nLicense  \\nAlternative Implementations  \\nDocumentation  \\nDocs  \\nAudio/Visual Talks  \\nBeginner\\'s Guide  \\nDeveloper\\'s Guide  \\nFAQ  \\nNon-English Docs  \\nPEP Index  \\nPython Books  \\nPython Essays  \\nCommunity  \\nDiversity  \\nMailing Lists  \\nIRC  \\nForums  \\nPSF Annual Impact Report  \\nPython Conferences  \\nSpecial Interest Groups  \\nPython Logo  \\nPython Wiki  \\nCode of Conduct  \\nCommunity Awards  \\nGet Involved  \\nShared Stories  \\nSuccess Stories  \\nArts  \\nBusiness  \\nEducation  \\nEngineering  \\nGovernment  \\nScientific  \\nSoftware Development  \\nNews  \\nPython News  \\nPSF Newsletter  \\nPSF News  \\nPyCon US News  \\nNews from the Community  \\nEvents  \\nPython Events  \\nUser Group Events  \\nPython Events Archive  \\nUser Group Events Archive  \\nSubmit an Event  \\nContributing  \\nDeveloper\\'s Guide  \\nIssue Tracker  \\npython-dev list  \\nCore Mentorship  \\nReport a Security Issue  \\nBack to Top  \\n▲  \\nend .container  \\nHelp & Contact  \\nGeneral  \\nDiversity  \\nInitiatives  \\nSubmit Website Bug  \\nStatus  \\n&nbsp;<span class=\"pre\"><a href=\"/psf/community-infrastructure\">Powered by PSF Community Infrastructure</a></span>  \\nCopyright ©2001-2025.  \\nPython Software Foundation  \\nLegal Statements  \\nPrivacy Notice  \\nwindow.jQuery || document.write(\\'<script src=\"/static/js/libs/jquery-1.8.2.min.js\"><\\\\/script>\\')  \\nwindow.jQuery || document.write(\\'<script src=\"/static/js/libs/jquery-ui-1.12.1.min.js\"><\\\\/script>\\')')]"
      ]
     },
     "execution_count": 163,
     "metadata": {},
     "output_type": "execute_result"
    }
   ],
   "source": [
    "# dataload -> webbaseloader ->load the data ->HTMLHeaderTextSplitter() ->split the data\n",
    "# --------------------------//class-1        -----------------------//class-2\n",
    "#   Vs\n",
    "#\n",
    "L=[(\"h1\",\"Header 1\"),(\"h2\",\"Header 2\"),(\"h3\",\"Header 3\")]\n",
    "html_splitter = HTMLHeaderTextSplitter(L) # \n",
    "html_splitter.split_text_from_url('https://www.python.org') "
   ]
  },
  {
   "cell_type": "raw",
   "id": "fa1d7d6f-ab05-4459-bc4a-85b0797b1198",
   "metadata": {},
   "source": [
    "from langchain_community.document_loaders import JSONLoader\n",
    "#help(JSONLoader)\n",
    "\n",
    "r = requests.get('https://api.simith.langchain.com/openapi.json')\n",
    "json_data = r.json()\n",
    "\n",
    "# JSONLoader(json_data)\n",
    "\n",
    "from langchain_text_splitters import RecursiveJsonSplitter\n",
    "json_spliter = RecursiveJsonSplitter(max_chunk_size=10)\n",
    "json_chunks = json_spliter.split_json(json_data)\n"
   ]
  },
  {
   "cell_type": "code",
   "execution_count": null,
   "id": "da403e85-8eb4-48a5-89fa-7a13a80c3ba5",
   "metadata": {},
   "outputs": [],
   "source": []
  },
  {
   "cell_type": "code",
   "execution_count": 171,
   "id": "0ca853eb-7156-40f3-bf94-b694993ac9d9",
   "metadata": {},
   "outputs": [],
   "source": [
    "L = [{\"resource\":\"R1\",\"data\":\"test-data\"},{\"resource\":\"R2\",\"data\":\"sample-data\"},{\"resource\":\"R3\",\"data\":\"demo-data\"}]\n",
    "\n",
    "import json\n",
    "with open(\"test1.json\",\"w\") as wobj:\n",
    "    json.dump(L,wobj) # write python data ->jsonfile"
   ]
  },
  {
   "cell_type": "code",
   "execution_count": 178,
   "id": "9cda2db4-ff58-4788-878d-7bf826029f97",
   "metadata": {},
   "outputs": [
    {
     "data": {
      "text/plain": [
       "[{'resource': 'R1', 'data': 'test-data'},\n",
       " {'resource': 'R2', 'data': 'sample-data'},\n",
       " {'resource': 'R3', 'data': 'demo-data'}]"
      ]
     },
     "execution_count": 178,
     "metadata": {},
     "output_type": "execute_result"
    }
   ],
   "source": [
    "fobj =open(\"test1.json\")\n",
    "json.load(fobj) # reading json file ->python"
   ]
  },
  {
   "cell_type": "code",
   "execution_count": 173,
   "id": "27716d82-bd77-4714-b05e-15de5804a142",
   "metadata": {},
   "outputs": [
    {
     "name": "stdout",
     "output_type": "stream",
     "text": [
      "Defaulting to user installation because normal site-packages is not writeable\n",
      "Collecting jq\n",
      "  Downloading jq-1.10.0-cp313-cp313-win_amd64.whl.metadata (7.3 kB)\n",
      "Downloading jq-1.10.0-cp313-cp313-win_amd64.whl (423 kB)\n",
      "Installing collected packages: jq\n",
      "Successfully installed jq-1.10.0\n",
      "Note: you may need to restart the kernel to use updated packages.\n"
     ]
    }
   ],
   "source": [
    "pip install jq"
   ]
  },
  {
   "cell_type": "code",
   "execution_count": 190,
   "id": "434f524f-618a-4e12-8e90-4f52faea0c36",
   "metadata": {},
   "outputs": [
    {
     "data": {
      "text/plain": [
       "[Document(metadata={'source': 'C:\\\\Users\\\\karth\\\\test1.json', 'seq_num': 1}, page_content='test-data'),\n",
       " Document(metadata={'source': 'C:\\\\Users\\\\karth\\\\test1.json', 'seq_num': 2}, page_content='sample-data'),\n",
       " Document(metadata={'source': 'C:\\\\Users\\\\karth\\\\test1.json', 'seq_num': 3}, page_content='demo-data')]"
      ]
     },
     "execution_count": 190,
     "metadata": {},
     "output_type": "execute_result"
    }
   ],
   "source": [
    "from langchain_community.document_loaders import JSONLoader\n",
    "\n",
    "loader = JSONLoader(file_path='test1.json',jq_schema='.[]|.data',text_content=True)\n",
    "loader.load()\n",
    "#help(JSONLoader)"
   ]
  },
  {
   "cell_type": "code",
   "execution_count": 191,
   "id": "72320550-056c-4b02-94f6-8af0a7a4f077",
   "metadata": {},
   "outputs": [
    {
     "data": {
      "text/plain": [
       "[Document(metadata={'source': 'C:\\\\Users\\\\karth\\\\test1.json', 'seq_num': 1}, page_content='test-data'),\n",
       " Document(metadata={'source': 'C:\\\\Users\\\\karth\\\\test1.json', 'seq_num': 2}, page_content='sample-data'),\n",
       " Document(metadata={'source': 'C:\\\\Users\\\\karth\\\\test1.json', 'seq_num': 3}, page_content='demo-data')]"
      ]
     },
     "execution_count": 191,
     "metadata": {},
     "output_type": "execute_result"
    }
   ],
   "source": [
    "from langchain_community.document_loaders import JSONLoader\n",
    "\n",
    "loader = JSONLoader(file_path='test1.json',jq_schema='.[]|.data',text_content='data')\n",
    "loader.load()\n",
    "#help(JSONLoader)"
   ]
  },
  {
   "cell_type": "code",
   "execution_count": 199,
   "id": "e23970f4-99eb-4ce8-ab66-6d4cbfc13c7f",
   "metadata": {},
   "outputs": [
    {
     "data": {
      "text/plain": [
       "[Document(metadata={'source': 'C:\\\\Users\\\\karth\\\\test1.json', 'seq_num': 1}, page_content='test-data'),\n",
       " Document(metadata={'source': 'C:\\\\Users\\\\karth\\\\test1.json', 'seq_num': 2}, page_content='sample-data'),\n",
       " Document(metadata={'source': 'C:\\\\Users\\\\karth\\\\test1.json', 'seq_num': 3}, page_content='demo-data')]"
      ]
     },
     "execution_count": 199,
     "metadata": {},
     "output_type": "execute_result"
    }
   ],
   "source": [
    "from langchain_community.document_loaders import JSONLoader\n",
    "\n",
    "loader = JSONLoader(file_path='test1.json',jq_schema='.[]|.data',text_content='data')\n",
    "json_docs = loader.load()\n",
    "############################## step-1\n",
    "splitter = CharacterTextSplitter(chunk_size=50,chunk_overlap=10)\n",
    "chunks = splitter.split_documents(json_docs)\n",
    "chunks\n",
    "############################## step-2\n",
    "#  Vs\n",
    "# from langchain_text_splitters import RecursiveJsonSplitter\n",
    "# json_spliter = RecursiveJsonSplitter(max_chunk_size=50)\n",
    "# json_chunks = json_spliter.split_json(json_docs)\n",
    "# json_chunks"
   ]
  },
  {
   "cell_type": "code",
   "execution_count": null,
   "id": "dbac02a4-09e0-4125-8e9d-0542ac9aaa42",
   "metadata": {},
   "outputs": [],
   "source": [
    "h=['name','eid','dept']\n",
    "r=[['arun','101','sales'],['bibu','102','prod'],['leo','103','HR']]\n",
    "\n",
    "# split row,header\n",
    "# chunk 1\n",
    "# name eid dept\n",
    "# arun 101 sales\n",
    "\n",
    "# chunk 2\n",
    "# name eid dept\n",
    "# bibu 102 prod\n",
    "\n",
    "# Row X Col ->Table "
   ]
  },
  {
   "cell_type": "code",
   "execution_count": 215,
   "id": "d694a5dc-4481-45d7-bd48-7010ccffa4e3",
   "metadata": {},
   "outputs": [],
   "source": [
    "# Chunk the data w.r.table format \n",
    "# Table = Row X Col\n",
    "# ------------------\n",
    "# each chunk - row & header <--(column name - from the table)\n",
    "# --------------------------------------------------------------\n",
    "def fx(rows,header,row_per_chunk=2):\n",
    "    chunks = [] # empty list\n",
    "    for i in range(0,len(rows),row_per_chunk):\n",
    "        chunk_rows = rows[i:i+row_per_chunk]\n",
    "        chunk = [header] + chunk_rows\n",
    "        chunk_text = \"\\n\".join([\"\\t\".join(row) for row in chunk])\n",
    "        chunks.append(chunk_text)\n",
    "    return chunks"
   ]
  },
  {
   "cell_type": "code",
   "execution_count": 216,
   "id": "097846f4-7183-4741-8476-21a5b6bc61b2",
   "metadata": {},
   "outputs": [
    {
     "name": "stdout",
     "output_type": "stream",
     "text": [
      "chunk 1:\n",
      "name\teid\tdept\n",
      "arun\t101\tsales\n",
      "bibu\t102\tprod\n",
      "---------------------------------------------\n",
      "chunk 2:\n",
      "name\teid\tdept\n",
      "leo\t103\tHR\n",
      "anu\t104\tprod\n",
      "---------------------------------------------\n",
      "chunk 3:\n",
      "name\teid\tdept\n",
      "paul\t105\tHR\n",
      "---------------------------------------------\n"
     ]
    }
   ],
   "source": [
    "h=['name','eid','dept']\n",
    "r=[['arun','101','sales'],['bibu','102','prod'],['leo','103','HR'],['anu','104','prod'],['paul','105','HR']]\n",
    "\n",
    "chunks = fx(r,h,row_per_chunk=2) # split_data_table_into_chunks\n",
    "\n",
    "for i,v in enumerate(chunks):\n",
    "    print(f'chunk {i+1}:\\n{v}\\n{'-'*45}')"
   ]
  },
  {
   "cell_type": "raw",
   "id": "81b360e7-bfb4-4f3a-b8d9-6c2317db2372",
   "metadata": {},
   "source": [
    "# Task\n",
    "# -----\n",
    "\n",
    "load input csv file (or) other data source -> DataFrame (DF) //pandas ->DF\n",
    "|\n",
    "DF.colums ->list of headers \n",
    "|\n",
    "DF.values //rows"
   ]
  },
  {
   "cell_type": "code",
   "execution_count": 217,
   "id": "72ef56c4-e661-43e7-83dd-29fefb528076",
   "metadata": {},
   "outputs": [
    {
     "data": {
      "text/html": [
       "<div>\n",
       "<style scoped>\n",
       "    .dataframe tbody tr th:only-of-type {\n",
       "        vertical-align: middle;\n",
       "    }\n",
       "\n",
       "    .dataframe tbody tr th {\n",
       "        vertical-align: top;\n",
       "    }\n",
       "\n",
       "    .dataframe thead th {\n",
       "        text-align: right;\n",
       "    }\n",
       "</style>\n",
       "<table border=\"1\" class=\"dataframe\">\n",
       "  <thead>\n",
       "    <tr style=\"text-align: right;\">\n",
       "      <th></th>\n",
       "      <th>eid</th>\n",
       "      <th>ename</th>\n",
       "      <th>edept</th>\n",
       "      <th>ecity</th>\n",
       "      <th>ecost</th>\n",
       "    </tr>\n",
       "  </thead>\n",
       "  <tbody>\n",
       "    <tr>\n",
       "      <th>0</th>\n",
       "      <td>101</td>\n",
       "      <td>raj</td>\n",
       "      <td>sales</td>\n",
       "      <td>pune</td>\n",
       "      <td>1000</td>\n",
       "    </tr>\n",
       "    <tr>\n",
       "      <th>1</th>\n",
       "      <td>102</td>\n",
       "      <td>leo</td>\n",
       "      <td>prod</td>\n",
       "      <td>bglore</td>\n",
       "      <td>2301</td>\n",
       "    </tr>\n",
       "    <tr>\n",
       "      <th>2</th>\n",
       "      <td>230</td>\n",
       "      <td>raj</td>\n",
       "      <td>prod</td>\n",
       "      <td>pune</td>\n",
       "      <td>2300</td>\n",
       "    </tr>\n",
       "    <tr>\n",
       "      <th>3</th>\n",
       "      <td>450</td>\n",
       "      <td>shan</td>\n",
       "      <td>sales</td>\n",
       "      <td>bglore</td>\n",
       "      <td>3401</td>\n",
       "    </tr>\n",
       "    <tr>\n",
       "      <th>4</th>\n",
       "      <td>542</td>\n",
       "      <td>anu</td>\n",
       "      <td>HR</td>\n",
       "      <td>mumbai</td>\n",
       "      <td>4590</td>\n",
       "    </tr>\n",
       "    <tr>\n",
       "      <th>5</th>\n",
       "      <td>321</td>\n",
       "      <td>bibu</td>\n",
       "      <td>sales</td>\n",
       "      <td>hyd</td>\n",
       "      <td>5419</td>\n",
       "    </tr>\n",
       "    <tr>\n",
       "      <th>6</th>\n",
       "      <td>651</td>\n",
       "      <td>ram</td>\n",
       "      <td>hr</td>\n",
       "      <td>bglore</td>\n",
       "      <td>3130</td>\n",
       "    </tr>\n",
       "    <tr>\n",
       "      <th>7</th>\n",
       "      <td>541</td>\n",
       "      <td>leo</td>\n",
       "      <td>admin</td>\n",
       "      <td>chennai</td>\n",
       "      <td>4913</td>\n",
       "    </tr>\n",
       "    <tr>\n",
       "      <th>8</th>\n",
       "      <td>652</td>\n",
       "      <td>karthik</td>\n",
       "      <td>sales</td>\n",
       "      <td>bglore</td>\n",
       "      <td>3405</td>\n",
       "    </tr>\n",
       "  </tbody>\n",
       "</table>\n",
       "</div>"
      ],
      "text/plain": [
       "   eid    ename  edept    ecity  ecost\n",
       "0  101      raj  sales     pune   1000\n",
       "1  102      leo   prod   bglore   2301\n",
       "2  230      raj   prod     pune   2300\n",
       "3  450     shan  sales   bglore   3401\n",
       "4  542      anu     HR   mumbai   4590\n",
       "5  321     bibu  sales      hyd   5419\n",
       "6  651      ram     hr   bglore   3130\n",
       "7  541      leo  admin  chennai   4913\n",
       "8  652  karthik  sales   bglore   3405"
      ]
     },
     "execution_count": 217,
     "metadata": {},
     "output_type": "execute_result"
    }
   ],
   "source": [
    "import pandas as pd\n",
    "pd.read_csv('emp.csv')"
   ]
  },
  {
   "cell_type": "code",
   "execution_count": 223,
   "id": "91d19713-cb22-4920-908d-176b7e4c7008",
   "metadata": {},
   "outputs": [
    {
     "name": "stdout",
     "output_type": "stream",
     "text": [
      "chunk 1:\n",
      "eid\tename\tedept\tecity\tecost\n",
      "101\traj\tsales\tpune\t1000\n",
      "102\tleo\tprod\tbglore\t2301\n",
      "---------------------------------------------\n",
      "chunk 2:\n",
      "eid\tename\tedept\tecity\tecost\n",
      "230\traj\tprod\tpune\t2300\n",
      "450\tshan\tsales\tbglore\t3401\n",
      "---------------------------------------------\n",
      "chunk 3:\n",
      "eid\tename\tedept\tecity\tecost\n",
      "542\tanu\tHR\tmumbai\t4590\n",
      "321\tbibu\tsales\thyd\t5419\n",
      "---------------------------------------------\n",
      "chunk 4:\n",
      "eid\tename\tedept\tecity\tecost\n",
      "651\tram\thr\tbglore\t3130\n",
      "541\tleo\tadmin\tchennai\t4913\n",
      "---------------------------------------------\n",
      "chunk 5:\n",
      "eid\tename\tedept\tecity\tecost\n",
      "652\tkarthik\tsales\tbglore\t3405\n",
      "---------------------------------------------\n"
     ]
    }
   ],
   "source": [
    "df = pd.read_csv('emp.csv')\n",
    "h = list(df.columns)\n",
    "r = df.astype(str).values.tolist()\n",
    "\n",
    "chunks = fx(r,h,row_per_chunk=2) # split_data_table_into_chunks\n",
    "\n",
    "for i,v in enumerate(chunks):\n",
    "    print(f'chunk {i+1}:\\n{v}\\n{'-'*45}')"
   ]
  },
  {
   "cell_type": "code",
   "execution_count": null,
   "id": "c56af034-d22c-4c44-b6e6-04949d1a268d",
   "metadata": {},
   "outputs": [],
   "source": [
    "Recap\n",
    "------\n",
    "dataload ->split chunks ->Embedding \n",
    "\n",
    "Embeddings are numerical value ==> numerical vector //Array\n",
    "\n",
    "\"food\" --> [1034]\n",
    "\n",
    "\"the food\"  ->[1101 1034]\n",
    "\n",
    "\"food good\" ->[1034 1422]\n",
    "\n",
    "\"taste food good\" ->[2042 1034 1422]\n",
    "\n",
    "OpenAI \n",
    "Ollama\n",
    "\n",
    "Ollama \n",
    " - Opensource - embedding model\n",
    " - run offline \n",
    " - supports builtin embedding model\n",
    " |\n",
    "from langchain.embedding import OllamaEmbeddings\n",
    "embedding = OllamaEmbeddings(model=<moduleName>)\n",
    "vector = embedding.embed_query(\"Query?\") \n",
    "......"
   ]
  },
  {
   "cell_type": "code",
   "execution_count": 225,
   "id": "4a882511-2357-476d-a71a-d30f1f895d89",
   "metadata": {},
   "outputs": [
    {
     "name": "stdout",
     "output_type": "stream",
     "text": [
      "Embedding is a process of representing a piece of information, such as a word, image, or text, in a way that can be understood by a computer. \n",
      "\n",
      "Here's a breakdown:\n",
      "\n",
      "**What is being embedded:**\n",
      "\n",
      "* **Text:** This could be a title, paragraph, or entire book.\n",
      "* **Image:** This could be a photograph, a painting, or a diagram.\n",
      "* **Audio:** This could be a song, podcast, or other audio recording.\n",
      "\n",
      "**How it's being represented:**\n",
      "\n",
      "* **Numerical representation:** This is the most basic form of embedding, and involves converting the information into a numerical format, such as a number or a sequence of numbers.\n",
      "* **Text embedding:** This involves representing the text using a different format, such as a different language or a different font.\n",
      "* **Image embedding:** This involves representing the image using a different format, such as a different resolution or a different format.\n",
      "* **Audio embedding:** This involves representing the audio using a different format, such as a different bitrate or a different format.\n",
      "\n",
      "**Examples of embedding:**\n",
      "\n",
      "* **Adding a foreign language to a document:** This could involve embedding the text of the document in another language.\n",
      "* **Using a different font in a website:** This could involve embedding the font file.\n",
      "* **Adding an audio clip to a video:** This could involve embedding the audio file.\n",
      "\n",
      "Embedding is used in a variety of applications, including:\n",
      "\n",
      "* **Natural language processing (NLP):** This field of computer science deals with the interaction between computers and human language. Embedding is used to represent words and sentences in a numerical format.\n",
      "* **Computer vision:** This field of computer science deals with the ability of computers to \"see\" and interpret images. Embedding is used to represent images in a different format, such as a different resolution.\n",
      "* **Music and sound processing:** This field of computer science deals with the manipulation of sound and music. Embedding is used to represent audio in a different format, such as a different bitrate.\n",
      "\n",
      "Overall, embedding is a powerful technique that can be used to represent and interact with information in a variety of ways.\n"
     ]
    }
   ],
   "source": [
    "from langchain.llms import Ollama\n",
    "llm_obj = Ollama(model='gemma:2b')\n",
    "response = llm_obj.invoke('What is embedding?')\n",
    "print(response)"
   ]
  },
  {
   "cell_type": "code",
   "execution_count": 230,
   "id": "85cf87b8-c380-4dac-948b-9227b567c897",
   "metadata": {
    "scrolled": true
   },
   "outputs": [],
   "source": [
    "from langchain.llms import Ollama\n",
    "llm_obj = Ollama(model='llama3') # this llama3 model is not installed  \n",
    "# response = llm_obj.invoke('What is embedding?')\n",
    "# OllamaEndpointNotFoundError               "
   ]
  },
  {
   "cell_type": "code",
   "execution_count": 232,
   "id": "004ad2c1-b289-4e1c-9702-afc54a276a6f",
   "metadata": {},
   "outputs": [
    {
     "name": "stdout",
     "output_type": "stream",
     "text": [
      "2048\n"
     ]
    }
   ],
   "source": [
    "from langchain_community.embeddings import OllamaEmbeddings\n",
    "\n",
    "embedding = OllamaEmbeddings(model='gemma:2b')\n",
    "\n",
    "r = embedding.embed_query('Hello')\n",
    "print(len(r))"
   ]
  },
  {
   "cell_type": "raw",
   "id": "3cf7d8e8-53f0-495a-99d0-bec53b072be4",
   "metadata": {},
   "source": [
    "from langchain_community.document_loaders import TextLoader\n",
    "from langchain_text_splitters import CharacterTextSplitter\n",
    "from langchain_community.embeddings import OllamaEmbeddings\n",
    "|\n",
    "vectorDB ->load splitted data + embedded \n",
    "========\n",
    "FAISS\n",
    "Chroma\n",
    "from lanchain_community.vectorstores import FAISS\n",
    "db = FAISS.from_documents(<docs>,embeddings)\n",
    "|                         -----  ==========\n",
    "r = db.similarity_search('Query<based on loaded dataset>')\n",
    "|\n",
    "r[index].page_content\n",
    "         ------------"
   ]
  },
  {
   "cell_type": "code",
   "execution_count": 235,
   "id": "6651e528-7f8c-4dfe-a190-dda9128c6c19",
   "metadata": {},
   "outputs": [],
   "source": [
    "from langchain_community.document_loaders import TextLoader\n",
    "from langchain_text_splitters import CharacterTextSplitter\n",
    "from langchain_community.embeddings import OllamaEmbeddings\n",
    "from langchain_community.vectorstores import FAISS"
   ]
  },
  {
   "cell_type": "code",
   "execution_count": 236,
   "id": "fad86cbb-283c-4713-afcb-9166a112615d",
   "metadata": {},
   "outputs": [
    {
     "name": "stdout",
     "output_type": "stream",
     "text": [
      "4\n"
     ]
    }
   ],
   "source": [
    "loader = TextLoader('speech.txt')\n",
    "documents = loader.load()\n",
    "\n",
    "text_splitter = CharacterTextSplitter(chunk_size=1000,chunk_overlap=20)\n",
    "docs = text_splitter.split_documents(documents)\n",
    "\n",
    "embeddings = OllamaEmbeddings(model='gemma:2b')\n",
    "\n",
    "db = FAISS.from_documents(docs,embeddings)\n",
    "r = db.similarity_search('How to describe the war?')\n",
    "print(len(r))"
   ]
  },
  {
   "cell_type": "code",
   "execution_count": 240,
   "id": "fe8dfd35-c115-4df1-bcda-87de5a48a7db",
   "metadata": {},
   "outputs": [
    {
     "name": "stdout",
     "output_type": "stream",
     "text": [
      "We have borne with their present government through all these bitter months because of that friendshipâ€”exercising a patience and forbearance which would otherwise have been impossible. We shall, happily, still have an opportunity to prove that friendship in our daily attitude and actions toward the millions of men and women of German birth and native sympathy who live among us and share our life, and we shall be proud to prove it toward all who are in fact loyal to their neighbors and to the government in the hour of test. They are, most of them, as true and loyal Americans as if they had never known any other fealty or allegiance. They will be prompt to stand with us in rebuking and restraining the few who may be of a different mind and purpose. If there should be disloyalty, it will be dealt with with a firm hand of stern repression; but, if it lifts its head at all, it will lift it only here and there and without countenance except from a lawless and malignant few.\n"
     ]
    }
   ],
   "source": [
    "print(r[1].page_content)"
   ]
  },
  {
   "cell_type": "code",
   "execution_count": null,
   "id": "2b991322-b7ea-42da-8474-d958100238ca",
   "metadata": {},
   "outputs": [],
   "source": []
  }
 ],
 "metadata": {
  "kernelspec": {
   "display_name": "Python [conda env:base] *",
   "language": "python",
   "name": "conda-base-py"
  },
  "language_info": {
   "codemirror_mode": {
    "name": "ipython",
    "version": 3
   },
   "file_extension": ".py",
   "mimetype": "text/x-python",
   "name": "python",
   "nbconvert_exporter": "python",
   "pygments_lexer": "ipython3",
   "version": "3.13.5"
  }
 },
 "nbformat": 4,
 "nbformat_minor": 5
}
