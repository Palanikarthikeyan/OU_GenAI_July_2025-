{
 "cells": [
  {
   "cell_type": "code",
   "execution_count": 1,
   "id": "9ee9abc0-6d53-4cda-84c6-fbcacf46e46e",
   "metadata": {},
   "outputs": [],
   "source": [
    "import streamlit"
   ]
  },
  {
   "cell_type": "code",
   "execution_count": 4,
   "id": "d3f9a211-aa37-4501-9601-6ca8250d9679",
   "metadata": {},
   "outputs": [
    {
     "name": "stdout",
     "output_type": "stream",
     "text": [
      "^C\n"
     ]
    }
   ],
   "source": [
    "!streamlit run p1.py"
   ]
  },
  {
   "cell_type": "code",
   "execution_count": 6,
   "id": "22bfecde-67a7-4100-9610-2b847b7f6f3f",
   "metadata": {},
   "outputs": [],
   "source": [
    "import os\n",
    "from dotenv import load_dotenv\n",
    "load_dotenv()\n",
    "from langchain_community.llms import Ollama\n",
    "from langchain_core.prompts import ChatPromptTemplate\n",
    "from langchain_core.output_parsers import StrOutputParser"
   ]
  },
  {
   "cell_type": "code",
   "execution_count": null,
   "id": "e1ee36a9-81aa-4a30-aa87-3c959b4b7ba6",
   "metadata": {},
   "outputs": [],
   "source": [
    "prompt= ChatPromptTemplate.from_messages([\n",
    "    (\"system\",\"Your are a helpful AI assistant\"),(\"user\",\"Question:{question}\")\n",
    "])\n",
    "llm = Ollama(model=\"gemma:2b\")\n",
    "output = StrOutputParser()\n",
    "chain = prompt|llm|output\n",
    "\n",
    "chain.invoke({'question':})"
   ]
  },
  {
   "cell_type": "code",
   "execution_count": 7,
   "id": "62c8556d-af8b-463b-b3e9-49a438fc34b2",
   "metadata": {},
   "outputs": [
    {
     "name": "stdout",
     "output_type": "stream",
     "text": [
      "^C\n"
     ]
    }
   ],
   "source": [
    "!streamlit run p5.py"
   ]
  },
  {
   "cell_type": "code",
   "execution_count": 8,
   "id": "31debc4a-6b31-4008-aaf9-356365800c21",
   "metadata": {},
   "outputs": [
    {
     "name": "stdout",
     "output_type": "stream",
     "text": [
      "^C\n"
     ]
    }
   ],
   "source": [
    "!streamlit run p6.py"
   ]
  },
  {
   "cell_type": "code",
   "execution_count": 9,
   "id": "b3895ba8-c318-4c21-8987-79dfac876aa1",
   "metadata": {},
   "outputs": [
    {
     "name": "stdout",
     "output_type": "stream",
     "text": [
      "^C\n"
     ]
    }
   ],
   "source": [
    "!streamlit run p7.py"
   ]
  },
  {
   "cell_type": "code",
   "execution_count": null,
   "id": "f901230f-5360-467e-9779-d71a48d4a090",
   "metadata": {},
   "outputs": [],
   "source": [
    "from langchain_community.document_loaders import PyPDFLoader\n",
    "loader = PyPDFLoader('filename1.pdf')\n",
    " Vs\n",
    "dir1/file1.pdf file2.pdf ...fileN.pdf emp.csv sales.xlsx test.log\n",
    "     ...............................\n",
    "from langchain_community.document_loaders import PyPDFDirectoryLoader\n",
    "loader=PyPDFDirectoryLoader(\"dir1\")\n",
    "...\n",
    "...\n",
    "\n",
    "# 1st try - backend - execute the query ->see the results - dir1/file1.pdf file content - OK\n",
    "# 2nd - edit streamlit_File(DAY4/main.py) \n",
    "#       |->change Embedding |->update directory(or)folder \n",
    "#-----------------------------------------------------------\n"
   ]
  }
 ],
 "metadata": {
  "kernelspec": {
   "display_name": "Python [conda env:base] *",
   "language": "python",
   "name": "conda-base-py"
  },
  "language_info": {
   "codemirror_mode": {
    "name": "ipython",
    "version": 3
   },
   "file_extension": ".py",
   "mimetype": "text/x-python",
   "name": "python",
   "nbconvert_exporter": "python",
   "pygments_lexer": "ipython3",
   "version": "3.13.5"
  }
 },
 "nbformat": 4,
 "nbformat_minor": 5
}
