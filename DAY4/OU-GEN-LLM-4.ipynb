{
 "cells": [
  {
   "cell_type": "code",
   "execution_count": 1,
   "id": "0601f059-244b-4b7e-9fdd-3ae48a215e1a",
   "metadata": {},
   "outputs": [],
   "source": [
    "import json\n",
    "\n",
    "from langchain_core.documents import Document\n",
    "\n",
    "def f1(fname): # load json to documents in llm - dataloading\n",
    "    with open(fname) as fobj:\n",
    "        data = json.load(fobj)\n",
    "\n",
    "    docs = []\n",
    "    for var in data:\n",
    "        content = var.get(\"content\",\" \")\n",
    "        metadata_result = {k: v for k,v, in var.items() if k != 'content'}\n",
    "        docs.append(Document(page_content=content,metadata=metadata_result))\n",
    "    return docs\n",
    "        "
   ]
  },
  {
   "cell_type": "code",
   "execution_count": 2,
   "id": "2c526f90-f3f6-43fe-a0ca-a7ea25a5b505",
   "metadata": {},
   "outputs": [
    {
     "data": {
      "text/plain": [
       "[Document(metadata={'title': 'LangChain Overview'}, page_content='LangChain is a framework for developing applications powered by language models.'),\n",
       " Document(metadata={'title': 'What is Ollama?'}, page_content='Ollama allows running large language models locally like LLaMA and Mistral.'),\n",
       " Document(metadata={'title': 'Embeddings in NLP'}, page_content='Embeddings are vector representations of text used for similarity and retrieval.')]"
      ]
     },
     "execution_count": 2,
     "metadata": {},
     "output_type": "execute_result"
    }
   ],
   "source": [
    "data = f1('data.json')\n",
    "data"
   ]
  },
  {
   "cell_type": "code",
   "execution_count": null,
   "id": "6ac9febd-5f24-4bd9-a81c-6368694ebebb",
   "metadata": {},
   "outputs": [],
   "source": []
  }
 ],
 "metadata": {
  "kernelspec": {
   "display_name": "Python [conda env:base] *",
   "language": "python",
   "name": "conda-base-py"
  },
  "language_info": {
   "codemirror_mode": {
    "name": "ipython",
    "version": 3
   },
   "file_extension": ".py",
   "mimetype": "text/x-python",
   "name": "python",
   "nbconvert_exporter": "python",
   "pygments_lexer": "ipython3",
   "version": "3.13.5"
  }
 },
 "nbformat": 4,
 "nbformat_minor": 5
}
