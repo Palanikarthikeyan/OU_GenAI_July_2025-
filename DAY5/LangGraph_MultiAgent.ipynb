{
 "cells": [
  {
   "cell_type": "code",
   "execution_count": null,
   "id": "dff45569-c3c2-47e2-b316-ecda2a29937e",
   "metadata": {},
   "outputs": [],
   "source": [
    "  [User]\n",
    "   |\n",
    "  [LLM]\n",
    "   |\n",
    "  [Planner-Agent1] <---> [Executor-Agent2] -->[response]"
   ]
  },
  {
   "cell_type": "raw",
   "id": "5799a76e-ce5d-4f89-8aea-61fe9549b77a",
   "metadata": {},
   "source": [
    "!pip install langgraph "
   ]
  },
  {
   "cell_type": "code",
   "execution_count": 1,
   "id": "a780b536-90e5-4527-8209-5cf25c1c5d05",
   "metadata": {},
   "outputs": [],
   "source": [
    "from typing import List,Optional,TypedDict"
   ]
  },
  {
   "cell_type": "code",
   "execution_count": 2,
   "id": "44ebc152-636b-41f1-bf53-20681ee96a68",
   "metadata": {},
   "outputs": [],
   "source": [
    "class AgentState(TypedDict):\n",
    "    user_input: str\n",
    "    task_list: List[str]\n",
    "    final_output: Optional[str]\n",
    "    "
   ]
  },
  {
   "cell_type": "code",
   "execution_count": 3,
   "id": "eb63c5d5-b051-434b-8432-2f3b58af04ec",
   "metadata": {},
   "outputs": [],
   "source": [
    "import os\n",
    "from dotenv import load_dotenv\n",
    "load_dotenv()\n",
    "from langchain_groq import ChatGroq\n",
    "gK = os.getenv('GROQ_API_KEY')\n",
    "llm = ChatGroq(model='Llama3-8b-8192',groq_api_key=gK)"
   ]
  },
  {
   "cell_type": "code",
   "execution_count": 15,
   "id": "5c202d7e-716c-405d-a752-9e7e5ebe60bb",
   "metadata": {},
   "outputs": [],
   "source": [
    "def planner_node(state: dict) -> dict:\n",
    "    prompt = f\"Give step by step task result:{state['user_input']}\"\n",
    "    response = llm.invoke(prompt)\n",
    "    r = response.content\n",
    "    step_lines = [var.strip(\"-\" ).strip() for var in r.split(\"\\n\") if var.strip()]\n",
    "    print(\" Planner output:\",step_lines)\n",
    "    return {\"task_list\": step_lines}"
   ]
  },
  {
   "cell_type": "code",
   "execution_count": 16,
   "id": "f7ac51e8-505a-4baf-a422-0bcf4e4f79e8",
   "metadata": {},
   "outputs": [],
   "source": [
    "def executor_node(state: dict) -> dict:\n",
    "    steps = state.get(\"task_list\",[])\n",
    "    final_docs = \" -> \".join(steps) + \" -> Thank you!\"\n",
    "    return {'final_output':final_docs}"
   ]
  },
  {
   "cell_type": "code",
   "execution_count": 17,
   "id": "8f694986-e722-453c-bfab-b4ec007a0947",
   "metadata": {},
   "outputs": [],
   "source": [
    "import langgraph.graph"
   ]
  },
  {
   "cell_type": "code",
   "execution_count": 18,
   "id": "5dc014be-f8f9-4fe4-b3c2-3b345e3b6805",
   "metadata": {},
   "outputs": [],
   "source": [
    "from langgraph.graph import StateGraph"
   ]
  },
  {
   "cell_type": "code",
   "execution_count": 19,
   "id": "4717bd6d-1ed1-44cc-b41b-9ab67032b571",
   "metadata": {},
   "outputs": [],
   "source": [
    "gobj = StateGraph(state_schema=AgentState)"
   ]
  },
  {
   "cell_type": "code",
   "execution_count": 20,
   "id": "47f3258b-7e98-4ea3-959a-67c28e69b621",
   "metadata": {},
   "outputs": [
    {
     "data": {
      "text/plain": [
       "<langgraph.graph.state.StateGraph at 0x1f57c889d10>"
      ]
     },
     "execution_count": 20,
     "metadata": {},
     "output_type": "execute_result"
    }
   ],
   "source": [
    "gobj.add_node('planner',planner_node)\n",
    "gobj.add_node('executor',executor_node)\n",
    "\n",
    "gobj.set_entry_point('planner')\n",
    "gobj.add_edge(\"planner\",\"executor\")\n",
    "gobj.set_finish_point(\"executor\")"
   ]
  },
  {
   "cell_type": "code",
   "execution_count": 21,
   "id": "81e50691-3a17-48c9-8ad7-a4f4a8e4d79a",
   "metadata": {},
   "outputs": [],
   "source": [
    "graph_compiled = gobj.compile()"
   ]
  },
  {
   "cell_type": "code",
   "execution_count": 22,
   "id": "60717db1-e4d4-43a3-a28d-cdee060dfd46",
   "metadata": {},
   "outputs": [
    {
     "name": "stdout",
     "output_type": "stream",
     "text": [
      " Planner output: ['Here\\'s a step-by-step breakdown of the task \"What is Galaxy?\":', '**Task:** What is Galaxy?', '**Step 1: Define Galaxy**', 'A galaxy is a massive, gravitationally bound system consisting of stars, stellar remnants, interstellar gas, dust, and dark matter, typically dominated by a central supermassive black hole.', '**Step 2: Identify Types of Galaxies**', 'Galaxies come in different shapes and sizes, including:', '* Spiral galaxies (e.g., Milky Way, Andromeda)', '* Elliptical galaxies', '* Irregular galaxies', '* Dwarf galaxies', '* Active galaxies (e.g., quasars, blazars)', '**Step 3: Describe the Structure of a Galaxy**', 'A galaxy typically has the following components:', '* Central black hole', '* Disk or plane of stars', '* Halo of stars and dark matter', '* Bulge of older stars', '* Spiral arms or rings of stars and gas', '* Central bar or ring of stars', '**Step 4: Explain the Formation and Evolution of Galaxies**', 'Galaxies are thought to have formed from the gravitational collapse of gas and dust in the early universe. Over time, galaxies have evolved through:', '* Star formation and death', '* Mergers and interactions with other galaxies', '* Accretion of gas and stars', '* Disruption by gravitational forces', '**Step 5: Discuss the Importance of Galaxies**', 'Galaxies are crucial to our understanding of the universe, as they:', '* Provide a habitat for stars and planets to form', \"* Host the formation of heavy elements and the universe's chemical evolution\", '* Are responsible for the large-scale structure of the universe', '* Offer insights into the fundamental laws of physics and cosmology', '**Result:** A galaxy is a massive, gravitationally bound system consisting of stars, gas, dust, and dark matter, with a complex structure and evolution shaped by gravitational forces and the formation of stars and heavy elements. Galaxies are essential to our understanding of the universe and its fundamental laws.']\n"
     ]
    }
   ],
   "source": [
    "state = {\"user_input\": \"What is Galaxy?\"}\n",
    "final_state = graph_compiled.invoke(state)"
   ]
  },
  {
   "cell_type": "code",
   "execution_count": 23,
   "id": "a3e68692-2f51-4eed-b0ff-e83dcc24589e",
   "metadata": {},
   "outputs": [
    {
     "data": {
      "text/plain": [
       "{'user_input': 'What is Galaxy?',\n",
       " 'task_list': ['Here\\'s a step-by-step breakdown of the task \"What is Galaxy?\":',\n",
       "  '**Task:** What is Galaxy?',\n",
       "  '**Step 1: Define Galaxy**',\n",
       "  'A galaxy is a massive, gravitationally bound system consisting of stars, stellar remnants, interstellar gas, dust, and dark matter, typically dominated by a central supermassive black hole.',\n",
       "  '**Step 2: Identify Types of Galaxies**',\n",
       "  'Galaxies come in different shapes and sizes, including:',\n",
       "  '* Spiral galaxies (e.g., Milky Way, Andromeda)',\n",
       "  '* Elliptical galaxies',\n",
       "  '* Irregular galaxies',\n",
       "  '* Dwarf galaxies',\n",
       "  '* Active galaxies (e.g., quasars, blazars)',\n",
       "  '**Step 3: Describe the Structure of a Galaxy**',\n",
       "  'A galaxy typically has the following components:',\n",
       "  '* Central black hole',\n",
       "  '* Disk or plane of stars',\n",
       "  '* Halo of stars and dark matter',\n",
       "  '* Bulge of older stars',\n",
       "  '* Spiral arms or rings of stars and gas',\n",
       "  '* Central bar or ring of stars',\n",
       "  '**Step 4: Explain the Formation and Evolution of Galaxies**',\n",
       "  'Galaxies are thought to have formed from the gravitational collapse of gas and dust in the early universe. Over time, galaxies have evolved through:',\n",
       "  '* Star formation and death',\n",
       "  '* Mergers and interactions with other galaxies',\n",
       "  '* Accretion of gas and stars',\n",
       "  '* Disruption by gravitational forces',\n",
       "  '**Step 5: Discuss the Importance of Galaxies**',\n",
       "  'Galaxies are crucial to our understanding of the universe, as they:',\n",
       "  '* Provide a habitat for stars and planets to form',\n",
       "  \"* Host the formation of heavy elements and the universe's chemical evolution\",\n",
       "  '* Are responsible for the large-scale structure of the universe',\n",
       "  '* Offer insights into the fundamental laws of physics and cosmology',\n",
       "  '**Result:** A galaxy is a massive, gravitationally bound system consisting of stars, gas, dust, and dark matter, with a complex structure and evolution shaped by gravitational forces and the formation of stars and heavy elements. Galaxies are essential to our understanding of the universe and its fundamental laws.'],\n",
       " 'final_output': 'Here\\'s a step-by-step breakdown of the task \"What is Galaxy?\": -> **Task:** What is Galaxy? -> **Step 1: Define Galaxy** -> A galaxy is a massive, gravitationally bound system consisting of stars, stellar remnants, interstellar gas, dust, and dark matter, typically dominated by a central supermassive black hole. -> **Step 2: Identify Types of Galaxies** -> Galaxies come in different shapes and sizes, including: -> * Spiral galaxies (e.g., Milky Way, Andromeda) -> * Elliptical galaxies -> * Irregular galaxies -> * Dwarf galaxies -> * Active galaxies (e.g., quasars, blazars) -> **Step 3: Describe the Structure of a Galaxy** -> A galaxy typically has the following components: -> * Central black hole -> * Disk or plane of stars -> * Halo of stars and dark matter -> * Bulge of older stars -> * Spiral arms or rings of stars and gas -> * Central bar or ring of stars -> **Step 4: Explain the Formation and Evolution of Galaxies** -> Galaxies are thought to have formed from the gravitational collapse of gas and dust in the early universe. Over time, galaxies have evolved through: -> * Star formation and death -> * Mergers and interactions with other galaxies -> * Accretion of gas and stars -> * Disruption by gravitational forces -> **Step 5: Discuss the Importance of Galaxies** -> Galaxies are crucial to our understanding of the universe, as they: -> * Provide a habitat for stars and planets to form -> * Host the formation of heavy elements and the universe\\'s chemical evolution -> * Are responsible for the large-scale structure of the universe -> * Offer insights into the fundamental laws of physics and cosmology -> **Result:** A galaxy is a massive, gravitationally bound system consisting of stars, gas, dust, and dark matter, with a complex structure and evolution shaped by gravitational forces and the formation of stars and heavy elements. Galaxies are essential to our understanding of the universe and its fundamental laws. -> Thank you!'}"
      ]
     },
     "execution_count": 23,
     "metadata": {},
     "output_type": "execute_result"
    }
   ],
   "source": [
    "final_state"
   ]
  },
  {
   "cell_type": "code",
   "execution_count": 24,
   "id": "357aa92d-a570-47d7-a725-2bbff68b47ce",
   "metadata": {},
   "outputs": [
    {
     "name": "stdout",
     "output_type": "stream",
     "text": [
      "Here's a step-by-step breakdown of the task \"What is Galaxy?\": -> **Task:** What is Galaxy? -> **Step 1: Define Galaxy** -> A galaxy is a massive, gravitationally bound system consisting of stars, stellar remnants, interstellar gas, dust, and dark matter, typically dominated by a central supermassive black hole. -> **Step 2: Identify Types of Galaxies** -> Galaxies come in different shapes and sizes, including: -> * Spiral galaxies (e.g., Milky Way, Andromeda) -> * Elliptical galaxies -> * Irregular galaxies -> * Dwarf galaxies -> * Active galaxies (e.g., quasars, blazars) -> **Step 3: Describe the Structure of a Galaxy** -> A galaxy typically has the following components: -> * Central black hole -> * Disk or plane of stars -> * Halo of stars and dark matter -> * Bulge of older stars -> * Spiral arms or rings of stars and gas -> * Central bar or ring of stars -> **Step 4: Explain the Formation and Evolution of Galaxies** -> Galaxies are thought to have formed from the gravitational collapse of gas and dust in the early universe. Over time, galaxies have evolved through: -> * Star formation and death -> * Mergers and interactions with other galaxies -> * Accretion of gas and stars -> * Disruption by gravitational forces -> **Step 5: Discuss the Importance of Galaxies** -> Galaxies are crucial to our understanding of the universe, as they: -> * Provide a habitat for stars and planets to form -> * Host the formation of heavy elements and the universe's chemical evolution -> * Are responsible for the large-scale structure of the universe -> * Offer insights into the fundamental laws of physics and cosmology -> **Result:** A galaxy is a massive, gravitationally bound system consisting of stars, gas, dust, and dark matter, with a complex structure and evolution shaped by gravitational forces and the formation of stars and heavy elements. Galaxies are essential to our understanding of the universe and its fundamental laws. -> Thank you!\n"
     ]
    }
   ],
   "source": [
    "print(final_state[\"final_output\"])"
   ]
  },
  {
   "cell_type": "code",
   "execution_count": 26,
   "id": "d28f6a59-09d5-4b4f-a676-3b78dcc55649",
   "metadata": {},
   "outputs": [
    {
     "name": "stdout",
     "output_type": "stream",
     "text": [
      " Planner output: ['To display the language graph multiagent node, you can follow these steps:', '**Step 1: Install the necessary packages**', 'You will need to install the following packages:', '* `graphviz`: a graph visualization software', '* `python-graphviz`: a Python library for graphviz', 'You can install these packages using pip:', '```', 'pip install graphviz python-graphviz', '```', '**Step 2: Install the langraph package**', 'You will need to install the `langraph` package, which is a Python library for working with language graphs.', 'You can install the `langraph` package using pip:', '```', 'pip install langraph', '```', '**Step 3: Create a language graph**', 'Create a new Python file and import the `langraph` package:', '```python', 'import langraph', '```', 'Create a new language graph using the `langraph.Graph` class:', '```python', 'g = langraph.Graph()', '```', 'Add nodes and edges to the graph as needed. For example:', '```python', \"g.add_node('A')\", \"g.add_node('B')\", \"g.add_edge('A', 'B', label='relation')\", '```', '**Step 4: Convert the language graph to a graphviz format**', 'Use the `langraph` package to convert the language graph to a graphviz format:', '```python', 'dot = g.to_dot()', '```', 'The `to_dot` method returns a string representing the graph in dot format.', '**Step 5: Render the graphviz format**', 'Use the `graphviz` package to render the graphviz format:', '```python', 'import graphviz', 'dot_string = dot', \"graphviz.render('dot', dot_string, format='png')\", '```', 'This will generate a PNG image of the language graph.', '**Step 6: Display the graph**', 'Display the PNG image generated in the previous step:', '```python', 'import matplotlib.pyplot as plt', \"plt.imshow(plt.imread('graph.png'))\", 'plt.show()', '```', 'This will display the language graph as a multiagent node.', 'Note: You may need to adjust the code to suit your specific use case and requirements. Additionally, you can customize the appearance of the graph by using various options available in the `langraph` and `graphviz` packages.']\n",
      "To display the language graph multiagent node, you can follow these steps: -> **Step 1: Install the necessary packages** -> You will need to install the following packages: -> * `graphviz`: a graph visualization software -> * `python-graphviz`: a Python library for graphviz -> You can install these packages using pip: -> ``` -> pip install graphviz python-graphviz -> ``` -> **Step 2: Install the langraph package** -> You will need to install the `langraph` package, which is a Python library for working with language graphs. -> You can install the `langraph` package using pip: -> ``` -> pip install langraph -> ``` -> **Step 3: Create a language graph** -> Create a new Python file and import the `langraph` package: -> ```python -> import langraph -> ``` -> Create a new language graph using the `langraph.Graph` class: -> ```python -> g = langraph.Graph() -> ``` -> Add nodes and edges to the graph as needed. For example: -> ```python -> g.add_node('A') -> g.add_node('B') -> g.add_edge('A', 'B', label='relation') -> ``` -> **Step 4: Convert the language graph to a graphviz format** -> Use the `langraph` package to convert the language graph to a graphviz format: -> ```python -> dot = g.to_dot() -> ``` -> The `to_dot` method returns a string representing the graph in dot format. -> **Step 5: Render the graphviz format** -> Use the `graphviz` package to render the graphviz format: -> ```python -> import graphviz -> dot_string = dot -> graphviz.render('dot', dot_string, format='png') -> ``` -> This will generate a PNG image of the language graph. -> **Step 6: Display the graph** -> Display the PNG image generated in the previous step: -> ```python -> import matplotlib.pyplot as plt -> plt.imshow(plt.imread('graph.png')) -> plt.show() -> ``` -> This will display the language graph as a multiagent node. -> Note: You may need to adjust the code to suit your specific use case and requirements. Additionally, you can customize the appearance of the graph by using various options available in the `langraph` and `graphviz` packages. -> Thank you!\n"
     ]
    }
   ],
   "source": [
    "state = {\"user_input\": \"How to display langgraph multiagent node ?\"}\n",
    "final_state = graph_compiled.invoke(state)\n",
    "print(final_state['final_output'])"
   ]
  },
  {
   "cell_type": "code",
   "execution_count": 27,
   "id": "0068d281-567a-46fd-a1cb-4cb676bc027f",
   "metadata": {
    "scrolled": true
   },
   "outputs": [
    {
     "name": "stdout",
     "output_type": "stream",
     "text": [
      "('To display the language graph multiagent node, you can follow these steps: '\n",
      " '-> **Step 1: Install the necessary packages** -> You will need to install '\n",
      " 'the following packages: -> * `graphviz`: a graph visualization software -> * '\n",
      " '`python-graphviz`: a Python library for graphviz -> You can install these '\n",
      " 'packages using pip: -> ``` -> pip install graphviz python-graphviz -> ``` -> '\n",
      " '**Step 2: Install the langraph package** -> You will need to install the '\n",
      " '`langraph` package, which is a Python library for working with language '\n",
      " 'graphs. -> You can install the `langraph` package using pip: -> ``` -> pip '\n",
      " 'install langraph -> ``` -> **Step 3: Create a language graph** -> Create a '\n",
      " 'new Python file and import the `langraph` package: -> ```python -> import '\n",
      " 'langraph -> ``` -> Create a new language graph using the `langraph.Graph` '\n",
      " 'class: -> ```python -> g = langraph.Graph() -> ``` -> Add nodes and edges to '\n",
      " \"the graph as needed. For example: -> ```python -> g.add_node('A') -> \"\n",
      " \"g.add_node('B') -> g.add_edge('A', 'B', label='relation') -> ``` -> **Step \"\n",
      " '4: Convert the language graph to a graphviz format** -> Use the `langraph` '\n",
      " 'package to convert the language graph to a graphviz format: -> ```python -> '\n",
      " 'dot = g.to_dot() -> ``` -> The `to_dot` method returns a string representing '\n",
      " 'the graph in dot format. -> **Step 5: Render the graphviz format** -> Use '\n",
      " 'the `graphviz` package to render the graphviz format: -> ```python -> import '\n",
      " \"graphviz -> dot_string = dot -> graphviz.render('dot', dot_string, \"\n",
      " \"format='png') -> ``` -> This will generate a PNG image of the language \"\n",
      " 'graph. -> **Step 6: Display the graph** -> Display the PNG image generated '\n",
      " 'in the previous step: -> ```python -> import matplotlib.pyplot as plt -> '\n",
      " \"plt.imshow(plt.imread('graph.png')) -> plt.show() -> ``` -> This will \"\n",
      " 'display the language graph as a multiagent node. -> Note: You may need to '\n",
      " 'adjust the code to suit your specific use case and requirements. '\n",
      " 'Additionally, you can customize the appearance of the graph by using various '\n",
      " 'options available in the `langraph` and `graphviz` packages. -> Thank you!')\n"
     ]
    }
   ],
   "source": [
    "import pprint\n",
    "pprint.pprint(final_state['final_output'])"
   ]
  },
  {
   "cell_type": "raw",
   "id": "cb17fbe6-913e-4cdd-b884-2d1300196076",
   "metadata": {},
   "source": [
    "from IPython.display import Image, display\n",
    "try:\n",
    "    display(Image(graph_compiled.get_graph().draw_mermaid_png()))\n",
    "except Exception:\n",
    "    pass"
   ]
  },
  {
   "cell_type": "raw",
   "id": "261918dd-ea67-410d-b48c-f36cb2d283e5",
   "metadata": {},
   "source": []
  }
 ],
 "metadata": {
  "kernelspec": {
   "display_name": "Python [conda env:base] *",
   "language": "python",
   "name": "conda-base-py"
  },
  "language_info": {
   "codemirror_mode": {
    "name": "ipython",
    "version": 3
   },
   "file_extension": ".py",
   "mimetype": "text/x-python",
   "name": "python",
   "nbconvert_exporter": "python",
   "pygments_lexer": "ipython3",
   "version": "3.13.5"
  }
 },
 "nbformat": 4,
 "nbformat_minor": 5
}
