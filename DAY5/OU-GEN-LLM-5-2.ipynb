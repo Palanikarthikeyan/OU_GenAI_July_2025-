{
 "cells": [
  {
   "cell_type": "code",
   "execution_count": 1,
   "id": "c79bac91-23ec-48e5-aa0d-d739dc8fba82",
   "metadata": {},
   "outputs": [],
   "source": [
    "import streamlit"
   ]
  },
  {
   "cell_type": "code",
   "execution_count": 3,
   "id": "8d191d43-dc52-41c8-91cf-868b4de2831a",
   "metadata": {
    "scrolled": true
   },
   "outputs": [
    {
     "name": "stdout",
     "output_type": "stream",
     "text": [
      "^C\n"
     ]
    }
   ],
   "source": [
    "import os\n",
    "os.chdir(\"C:\\\\Users\\\\karth\\\\Karthik\\\\OU\\\\GenAI\\\\NLP-docs\\\\HandsOn\\\\4-RAG+Document+Q&A\\\\4-RAG Document Q&A\")\n",
    "!streamlit run app_huggingfaceembedding.py"
   ]
  },
  {
   "cell_type": "code",
   "execution_count": 4,
   "id": "a2d7f6b9-9eda-41d4-b69c-669f5e69c6a4",
   "metadata": {
    "scrolled": true
   },
   "outputs": [
    {
     "name": "stdout",
     "output_type": "stream",
     "text": [
      "Collecting langchain_huggingface\n",
      "  Downloading langchain_huggingface-0.3.1-py3-none-any.whl.metadata (996 bytes)\n",
      "Requirement already satisfied: langchain-core<1.0.0,>=0.3.70 in c:\\users\\karth\\appdata\\roaming\\python\\python313\\site-packages (from langchain_huggingface) (0.3.72)\n",
      "Requirement already satisfied: tokenizers>=0.19.1 in c:\\users\\karth\\appdata\\roaming\\python\\python313\\site-packages (from langchain_huggingface) (0.21.2)\n",
      "Requirement already satisfied: huggingface-hub>=0.33.4 in c:\\programdata\\anaconda3\\lib\\site-packages (from langchain_huggingface) (0.34.3)\n",
      "Requirement already satisfied: langsmith>=0.3.45 in c:\\users\\karth\\appdata\\roaming\\python\\python313\\site-packages (from langchain-core<1.0.0,>=0.3.70->langchain_huggingface) (0.4.8)\n",
      "Requirement already satisfied: tenacity!=8.4.0,<10.0.0,>=8.1.0 in c:\\programdata\\anaconda3\\lib\\site-packages (from langchain-core<1.0.0,>=0.3.70->langchain_huggingface) (9.0.0)\n",
      "Requirement already satisfied: jsonpatch<2.0,>=1.33 in c:\\programdata\\anaconda3\\lib\\site-packages (from langchain-core<1.0.0,>=0.3.70->langchain_huggingface) (1.33)\n",
      "Requirement already satisfied: PyYAML>=5.3 in c:\\programdata\\anaconda3\\lib\\site-packages (from langchain-core<1.0.0,>=0.3.70->langchain_huggingface) (6.0.2)\n",
      "Requirement already satisfied: typing-extensions>=4.7 in c:\\programdata\\anaconda3\\lib\\site-packages (from langchain-core<1.0.0,>=0.3.70->langchain_huggingface) (4.12.2)\n",
      "Requirement already satisfied: packaging>=23.2 in c:\\programdata\\anaconda3\\lib\\site-packages (from langchain-core<1.0.0,>=0.3.70->langchain_huggingface) (24.2)\n",
      "Requirement already satisfied: pydantic>=2.7.4 in c:\\users\\karth\\appdata\\roaming\\python\\python313\\site-packages (from langchain-core<1.0.0,>=0.3.70->langchain_huggingface) (2.11.7)\n",
      "Requirement already satisfied: jsonpointer>=1.9 in c:\\programdata\\anaconda3\\lib\\site-packages (from jsonpatch<2.0,>=1.33->langchain-core<1.0.0,>=0.3.70->langchain_huggingface) (2.1)\n",
      "Requirement already satisfied: filelock in c:\\programdata\\anaconda3\\lib\\site-packages (from huggingface-hub>=0.33.4->langchain_huggingface) (3.17.0)\n",
      "Requirement already satisfied: fsspec>=2023.5.0 in c:\\programdata\\anaconda3\\lib\\site-packages (from huggingface-hub>=0.33.4->langchain_huggingface) (2025.3.2)\n",
      "Requirement already satisfied: requests in c:\\programdata\\anaconda3\\lib\\site-packages (from huggingface-hub>=0.33.4->langchain_huggingface) (2.32.3)\n",
      "Requirement already satisfied: tqdm>=4.42.1 in c:\\programdata\\anaconda3\\lib\\site-packages (from huggingface-hub>=0.33.4->langchain_huggingface) (4.67.1)\n",
      "Requirement already satisfied: httpx<1,>=0.23.0 in c:\\programdata\\anaconda3\\lib\\site-packages (from langsmith>=0.3.45->langchain-core<1.0.0,>=0.3.70->langchain_huggingface) (0.28.1)\n",
      "Requirement already satisfied: orjson<4.0.0,>=3.9.14 in c:\\users\\karth\\appdata\\roaming\\python\\python313\\site-packages (from langsmith>=0.3.45->langchain-core<1.0.0,>=0.3.70->langchain_huggingface) (3.11.0)\n",
      "Requirement already satisfied: requests-toolbelt<2.0.0,>=1.0.0 in c:\\programdata\\anaconda3\\lib\\site-packages (from langsmith>=0.3.45->langchain-core<1.0.0,>=0.3.70->langchain_huggingface) (1.0.0)\n",
      "Requirement already satisfied: zstandard<0.24.0,>=0.23.0 in c:\\programdata\\anaconda3\\lib\\site-packages (from langsmith>=0.3.45->langchain-core<1.0.0,>=0.3.70->langchain_huggingface) (0.23.0)\n",
      "Requirement already satisfied: anyio in c:\\programdata\\anaconda3\\lib\\site-packages (from httpx<1,>=0.23.0->langsmith>=0.3.45->langchain-core<1.0.0,>=0.3.70->langchain_huggingface) (4.7.0)\n",
      "Requirement already satisfied: certifi in c:\\programdata\\anaconda3\\lib\\site-packages (from httpx<1,>=0.23.0->langsmith>=0.3.45->langchain-core<1.0.0,>=0.3.70->langchain_huggingface) (2025.6.15)\n",
      "Requirement already satisfied: httpcore==1.* in c:\\programdata\\anaconda3\\lib\\site-packages (from httpx<1,>=0.23.0->langsmith>=0.3.45->langchain-core<1.0.0,>=0.3.70->langchain_huggingface) (1.0.9)\n",
      "Requirement already satisfied: idna in c:\\programdata\\anaconda3\\lib\\site-packages (from httpx<1,>=0.23.0->langsmith>=0.3.45->langchain-core<1.0.0,>=0.3.70->langchain_huggingface) (3.7)\n",
      "Requirement already satisfied: h11>=0.16 in c:\\programdata\\anaconda3\\lib\\site-packages (from httpcore==1.*->httpx<1,>=0.23.0->langsmith>=0.3.45->langchain-core<1.0.0,>=0.3.70->langchain_huggingface) (0.16.0)\n",
      "Requirement already satisfied: annotated-types>=0.6.0 in c:\\programdata\\anaconda3\\lib\\site-packages (from pydantic>=2.7.4->langchain-core<1.0.0,>=0.3.70->langchain_huggingface) (0.6.0)\n",
      "Requirement already satisfied: pydantic-core==2.33.2 in c:\\users\\karth\\appdata\\roaming\\python\\python313\\site-packages (from pydantic>=2.7.4->langchain-core<1.0.0,>=0.3.70->langchain_huggingface) (2.33.2)\n",
      "Requirement already satisfied: typing-inspection>=0.4.0 in c:\\users\\karth\\appdata\\roaming\\python\\python313\\site-packages (from pydantic>=2.7.4->langchain-core<1.0.0,>=0.3.70->langchain_huggingface) (0.4.1)\n",
      "Requirement already satisfied: charset-normalizer<4,>=2 in c:\\programdata\\anaconda3\\lib\\site-packages (from requests->huggingface-hub>=0.33.4->langchain_huggingface) (3.3.2)\n",
      "Requirement already satisfied: urllib3<3,>=1.21.1 in c:\\programdata\\anaconda3\\lib\\site-packages (from requests->huggingface-hub>=0.33.4->langchain_huggingface) (2.3.0)\n",
      "Requirement already satisfied: colorama in c:\\programdata\\anaconda3\\lib\\site-packages (from tqdm>=4.42.1->huggingface-hub>=0.33.4->langchain_huggingface) (0.4.6)\n",
      "Requirement already satisfied: sniffio>=1.1 in c:\\programdata\\anaconda3\\lib\\site-packages (from anyio->httpx<1,>=0.23.0->langsmith>=0.3.45->langchain-core<1.0.0,>=0.3.70->langchain_huggingface) (1.3.0)\n",
      "Downloading langchain_huggingface-0.3.1-py3-none-any.whl (27 kB)\n",
      "Installing collected packages: langchain_huggingface\n",
      "Successfully installed langchain_huggingface-0.3.1\n",
      "Note: you may need to restart the kernel to use updated packages.\n"
     ]
    }
   ],
   "source": [
    "pip install langchain_huggingface"
   ]
  },
  {
   "cell_type": "code",
   "execution_count": 5,
   "id": "8a67aff3-ccc8-49ca-a943-8015856dec88",
   "metadata": {},
   "outputs": [
    {
     "name": "stdout",
     "output_type": "stream",
     "text": [
      "^C\n"
     ]
    }
   ],
   "source": [
    "import os\n",
    "os.chdir(\"C:\\\\Users\\\\karth\\\\Karthik\\\\OU\\\\GenAI\\\\NLP-docs\\\\HandsOn\\\\4-RAG+Document+Q&A\\\\4-RAG Document Q&A\")\n",
    "!streamlit run app_huggingfaceembedding.py"
   ]
  },
  {
   "cell_type": "code",
   "execution_count": 6,
   "id": "622345aa-d4e0-4fbe-8171-080bf8160a7e",
   "metadata": {},
   "outputs": [
    {
     "name": "stdout",
     "output_type": "stream",
     "text": [
      "^C\n"
     ]
    }
   ],
   "source": [
    "os.chdir(\"C:\\\\Users\\\\karth\\\\Karthik\\\\OU\\\\GenAI\\\\RAG-QA-Directory-Loader\\\\\")\n",
    "!streamlit run app_huggingfaceembedding.py"
   ]
  },
  {
   "cell_type": "code",
   "execution_count": 8,
   "id": "38204eb6-d92f-4b76-9ee0-1b53f6b2295c",
   "metadata": {},
   "outputs": [
    {
     "data": {
      "text/plain": [
       "'C:\\\\Users\\\\karth\\\\Karthik\\\\OU\\\\GenAI\\\\RAG-QA-Directory-Loader'"
      ]
     },
     "execution_count": 8,
     "metadata": {},
     "output_type": "execute_result"
    }
   ],
   "source": [
    "#!streamlit run app_search_engine.py\n",
    "os.getcwd()"
   ]
  },
  {
   "cell_type": "code",
   "execution_count": 9,
   "id": "a316e840-1871-4fd5-9fec-8d7c7b1051b4",
   "metadata": {},
   "outputs": [],
   "source": [
    "os.chdir(\"C:\\\\Users\\\\karth\\\\\")"
   ]
  },
  {
   "cell_type": "code",
   "execution_count": 1,
   "id": "36d3c364-434a-43de-8a24-8951860847ae",
   "metadata": {},
   "outputs": [
    {
     "name": "stdout",
     "output_type": "stream",
     "text": [
      "^C\n"
     ]
    }
   ],
   "source": [
    "!streamlit run app_search_engine.py"
   ]
  },
  {
   "cell_type": "code",
   "execution_count": 16,
   "id": "7520611b-ab33-4947-a8c0-efcd092e0c5c",
   "metadata": {},
   "outputs": [
    {
     "name": "stdout",
     "output_type": "stream",
     "text": [
      "Collecting duckduckgo-search\n",
      "  Downloading duckduckgo_search-8.1.1-py3-none-any.whl.metadata (16 kB)\n",
      "Requirement already satisfied: click>=8.1.8 in c:\\programdata\\anaconda3\\lib\\site-packages (from duckduckgo-search) (8.1.8)\n",
      "Collecting primp>=0.15.0 (from duckduckgo-search)\n",
      "  Downloading primp-0.15.0-cp38-abi3-win_amd64.whl.metadata (13 kB)\n",
      "Requirement already satisfied: lxml>=5.3.0 in c:\\programdata\\anaconda3\\lib\\site-packages (from duckduckgo-search) (5.3.0)\n",
      "Requirement already satisfied: colorama in c:\\programdata\\anaconda3\\lib\\site-packages (from click>=8.1.8->duckduckgo-search) (0.4.6)\n",
      "Downloading duckduckgo_search-8.1.1-py3-none-any.whl (18 kB)\n",
      "Downloading primp-0.15.0-cp38-abi3-win_amd64.whl (3.1 MB)\n",
      "   ---------------------------------------- 0.0/3.1 MB ? eta -:--:--\n",
      "   ------------------- -------------------- 1.6/3.1 MB 9.6 MB/s eta 0:00:01\n",
      "   ---------------------------------------- 3.1/3.1 MB 9.7 MB/s eta 0:00:00\n",
      "Installing collected packages: primp, duckduckgo-search\n",
      "\n",
      "   ---------------------------------------- 2/2 [duckduckgo-search]\n",
      "\n",
      "Successfully installed duckduckgo-search-8.1.1 primp-0.15.0\n",
      "Note: you may need to restart the kernel to use updated packages.\n"
     ]
    }
   ],
   "source": [
    "pip install -U duckduckgo-search"
   ]
  },
  {
   "cell_type": "code",
   "execution_count": 2,
   "id": "5fa73e5c-29dd-458e-87f4-e93654ee3ea0",
   "metadata": {},
   "outputs": [
    {
     "name": "stdout",
     "output_type": "stream",
     "text": [
      "^C\n"
     ]
    }
   ],
   "source": [
    "import streamlit\n",
    "!streamlit run app_search_engine.py"
   ]
  },
  {
   "cell_type": "code",
   "execution_count": null,
   "id": "16eb2382-ffcb-4cb5-aa17-b0da3b3fa634",
   "metadata": {},
   "outputs": [],
   "source": [
    "Agent\n",
    "-----\n",
    "llm agent is framwork.\n",
    "components \n",
    "  |-> user request \n",
    "  |-> agent - core coordinator \n",
    "  |-> planning - To assist the agent in planning future actions\n",
    "  |-> memory - manages the agent's past behaviors\n",
    "\n",
    " [prompt]\n",
    "    |\n",
    "  LLM\n",
    "   |\n",
    "...\n",
    "# single path \n",
    "\n",
    "      [prompt]\n",
    "        |\n",
    "      [LLM]\n",
    "       |\n",
    "       ..\n",
    "       |\n",
    "      [LLM]\n",
    "       |\n",
    "       ..\n",
    "#------------------------------//\n",
    "\n",
    "      [ prompt ]\n",
    "         |\n",
    "        LLM\n",
    "        |\n",
    "  ---------------------\n",
    "  |       |         |\n",
    " ...      ...       ... //multipath\n",
    "\n",
    "            [ User ]\n",
    "               |\n",
    "            [Agent] ------------\n",
    "            |    |              |\n",
    "            |    |__[Memory]  [Planning]\n",
    "           [Tool]\n",
    "\n",
    "-----------------------------------------------------------\n",
    "\n",
    "Python <---------------------> DataBase \n",
    "    | DS + function\n",
    "      ....                        SQL \n",
    "         --------<DBI>----<DBD>----<DBE>---\n",
    "      1. import <DBModule>\n",
    "      2. <DBModule>.connect() ->establish db connection\n",
    "          --------------------\n",
    "      3. <connectionObject>.cursor() ->statementHandler_object\n",
    "      4. statmentHandler_object.execute(\"Query\") \n",
    "                                           |->creat....\n",
    "                                           |->select Query  ...\n",
    "                    --------<----------------------------------\n",
    "                     fetchall() fetchone() <generator>\n",
    "            generator\n",
    "             |->1. next() .. 2.for loop 3.list(genobject)\n",
    "      5. close DB connection\n",
    "\n",
    "  #  results (or) documents - database select statement \n",
    "  #  ollam.Chat(model=\"gemma:2b\",messages=[]) ->response['messages']\n",
    "  #  \n",
    "\n",
    "C:\\Users\\karth>python\n",
    "Python 3.13.5 (tags/v3.13.5:6cb20a2, Jun 11 2025, 16:15:46) [MSC v.1943 64 bit (AMD64)] on win32\n",
    "Type \"help\", \"copyright\", \"credits\" or \"license\" for more information.\n",
    ">>>\n",
    ">>> import sqlite3\n",
    ">>> sqlite3.connect(\"test1.db\")\n",
    "<sqlite3.Connection object at 0x00000185954536A0>\n",
    ">>>\n",
    ">>> conn = sqlite3.connect(\"test1.db\")\n",
    ">>> conn.cursor()\n",
    "<sqlite3.Cursor object at 0x000001859554B8C0>\n",
    ">>>\n",
    ">>> sth = conn.cursor()\n",
    ">>> sth.execute('create table if not exists product(id number,pname text)')\n",
    "<sqlite3.Cursor object at 0x0000018594F17CC0>\n",
    ">>>\n",
    ">>> sth.execute(\"insert into product (id,pname) values (101,'pA')\")\n",
    "<sqlite3.Cursor object at 0x0000018594F17CC0>\n",
    ">>>\n",
    ">>> sth.execute(\"insert into product (id,pname) values (102,'pB')\")\n",
    "<sqlite3.Cursor object at 0x0000018594F17CC0>\n",
    ">>>\n",
    ">>> va=103\n",
    ">>> vb='pC'\n",
    ">>> sth.execute(\"insert into product (id,pname) values (?,?)\",(va,vb))\n",
    "<sqlite3.Cursor object at 0x0000018594F17CC0>\n",
    ">>>\n",
    ">>> sth.execute(\"select *from product\")\n",
    "<sqlite3.Cursor object at 0x0000018594F17CC0>\n",
    ">>>\n",
    ">>> sth.fetchone()\n",
    "(101, 'pA')\n",
    ">>> sth.fetchone()\n",
    "(102, 'pB')\n",
    ">>> sth.fetchone()\n",
    "(103, 'pC')\n",
    ">>> sth.fetchone()\n",
    ">>>\n",
    ">>> sth.execute(\"select *from product\")\n",
    "<sqlite3.Cursor object at 0x0000018594F17CC0>\n",
    ">>> sth.fetchall()\n",
    "[(101, 'pA'), (102, 'pB'), (103, 'pC')]\n",
    ">>>\n",
    ">>> sth.execute(\"select *from product\")\n",
    "<sqlite3.Cursor object at 0x0000018594F17CC0>\n",
    ">>>\n",
    ">>> list(sth)\n",
    "[(101, 'pA'), (102, 'pB'), (103, 'pC')]\n",
    ">>>\n",
    ">>> sth.execute(\"select *from product\")\n",
    "<sqlite3.Cursor object at 0x0000018594F17CC0>\n",
    ">>>\n",
    ">>> for var in sth:\n",
    "...     print(var)\n",
    "...\n",
    "(101, 'pA')\n",
    "(102, 'pB')\n",
    "(103, 'pC')\n",
    ">>> conn.commit()\n",
    ">>> conn.close()\n",
    ">>> exit()\n",
    "\n",
    "C:\\Users\\karth>python\n",
    "Python 3.13.5 (tags/v3.13.5:6cb20a2, Jun 11 2025, 16:15:46) [MSC v.1943 64 bit (AMD64)] on win32\n",
    "Type \"help\", \"copyright\", \"credits\" or \"license\" for more information.\n",
    ">>>\n",
    ">>> import sqlite3\n",
    ">>>\n",
    ">>> conn = sqlite3.connect('test1.db')\n",
    ">>> cur = conn.cursor()\n",
    ">>> cur.execute('select *from product')\n",
    "<sqlite3.Cursor object at 0x0000025F42547CC0>\n",
    ">>> list(cur)\n",
    "[(101, 'pA'), (102, 'pB'), (103, 'pC')]\n",
    ">>> exit()\n",
    "\n",
    "C:\\Users\\karth>"
   ]
  }
 ],
 "metadata": {
  "kernelspec": {
   "display_name": "Python [conda env:base] *",
   "language": "python",
   "name": "conda-base-py"
  },
  "language_info": {
   "codemirror_mode": {
    "name": "ipython",
    "version": 3
   },
   "file_extension": ".py",
   "mimetype": "text/x-python",
   "name": "python",
   "nbconvert_exporter": "python",
   "pygments_lexer": "ipython3",
   "version": "3.13.5"
  }
 },
 "nbformat": 4,
 "nbformat_minor": 5
}
